{
  "nbformat": 4,
  "nbformat_minor": 0,
  "metadata": {
    "colab": {
      "name": "dinesh_practice.ipynb",
      "provenance": [],
      "collapsed_sections": []
    },
    "kernelspec": {
      "name": "python3",
      "display_name": "Python 3"
    },
    "language_info": {
      "name": "python"
    }
  },
  "cells": [
    {
      "cell_type": "code",
      "execution_count": null,
      "metadata": {
        "colab": {
          "base_uri": "https://localhost:8080/"
        },
        "id": "P5JDbO2RBhim",
        "outputId": "8ada03d2-0e6b-418e-cea4-f86d516cba21"
      },
      "outputs": [
        {
          "output_type": "stream",
          "name": "stdout",
          "text": [
            "Requirement already satisfied: pandas-ta in /usr/local/lib/python3.7/dist-packages (0.3.14b0)\n",
            "Requirement already satisfied: pandas in /usr/local/lib/python3.7/dist-packages (from pandas-ta) (1.3.5)\n",
            "Requirement already satisfied: python-dateutil>=2.7.3 in /usr/local/lib/python3.7/dist-packages (from pandas->pandas-ta) (2.8.2)\n",
            "Requirement already satisfied: numpy>=1.17.3 in /usr/local/lib/python3.7/dist-packages (from pandas->pandas-ta) (1.21.6)\n",
            "Requirement already satisfied: pytz>=2017.3 in /usr/local/lib/python3.7/dist-packages (from pandas->pandas-ta) (2022.1)\n",
            "Requirement already satisfied: six>=1.5 in /usr/local/lib/python3.7/dist-packages (from python-dateutil>=2.7.3->pandas->pandas-ta) (1.15.0)\n",
            "Requirement already satisfied: mplfinance in /usr/local/lib/python3.7/dist-packages (0.12.8b9)\n",
            "Requirement already satisfied: matplotlib in /usr/local/lib/python3.7/dist-packages (from mplfinance) (3.2.2)\n",
            "Requirement already satisfied: pandas in /usr/local/lib/python3.7/dist-packages (from mplfinance) (1.3.5)\n",
            "Requirement already satisfied: numpy>=1.11 in /usr/local/lib/python3.7/dist-packages (from matplotlib->mplfinance) (1.21.6)\n",
            "Requirement already satisfied: cycler>=0.10 in /usr/local/lib/python3.7/dist-packages (from matplotlib->mplfinance) (0.11.0)\n",
            "Requirement already satisfied: pyparsing!=2.0.4,!=2.1.2,!=2.1.6,>=2.0.1 in /usr/local/lib/python3.7/dist-packages (from matplotlib->mplfinance) (3.0.8)\n",
            "Requirement already satisfied: python-dateutil>=2.1 in /usr/local/lib/python3.7/dist-packages (from matplotlib->mplfinance) (2.8.2)\n",
            "Requirement already satisfied: kiwisolver>=1.0.1 in /usr/local/lib/python3.7/dist-packages (from matplotlib->mplfinance) (1.4.2)\n",
            "Requirement already satisfied: typing-extensions in /usr/local/lib/python3.7/dist-packages (from kiwisolver>=1.0.1->matplotlib->mplfinance) (4.2.0)\n",
            "Requirement already satisfied: six>=1.5 in /usr/local/lib/python3.7/dist-packages (from python-dateutil>=2.1->matplotlib->mplfinance) (1.15.0)\n",
            "Requirement already satisfied: pytz>=2017.3 in /usr/local/lib/python3.7/dist-packages (from pandas->mplfinance) (2022.1)\n",
            "Requirement already satisfied: yfinance in /usr/local/lib/python3.7/dist-packages (0.1.70)\n",
            "Requirement already satisfied: pandas>=0.24.0 in /usr/local/lib/python3.7/dist-packages (from yfinance) (1.3.5)\n",
            "Requirement already satisfied: numpy>=1.15 in /usr/local/lib/python3.7/dist-packages (from yfinance) (1.21.6)\n",
            "Requirement already satisfied: lxml>=4.5.1 in /usr/local/lib/python3.7/dist-packages (from yfinance) (4.8.0)\n",
            "Requirement already satisfied: requests>=2.26 in /usr/local/lib/python3.7/dist-packages (from yfinance) (2.27.1)\n",
            "Requirement already satisfied: multitasking>=0.0.7 in /usr/local/lib/python3.7/dist-packages (from yfinance) (0.0.10)\n",
            "Requirement already satisfied: python-dateutil>=2.7.3 in /usr/local/lib/python3.7/dist-packages (from pandas>=0.24.0->yfinance) (2.8.2)\n",
            "Requirement already satisfied: pytz>=2017.3 in /usr/local/lib/python3.7/dist-packages (from pandas>=0.24.0->yfinance) (2022.1)\n",
            "Requirement already satisfied: six>=1.5 in /usr/local/lib/python3.7/dist-packages (from python-dateutil>=2.7.3->pandas>=0.24.0->yfinance) (1.15.0)\n",
            "Requirement already satisfied: charset-normalizer~=2.0.0 in /usr/local/lib/python3.7/dist-packages (from requests>=2.26->yfinance) (2.0.12)\n",
            "Requirement already satisfied: certifi>=2017.4.17 in /usr/local/lib/python3.7/dist-packages (from requests>=2.26->yfinance) (2021.10.8)\n",
            "Requirement already satisfied: urllib3<1.27,>=1.21.1 in /usr/local/lib/python3.7/dist-packages (from requests>=2.26->yfinance) (1.24.3)\n",
            "Requirement already satisfied: idna<4,>=2.5 in /usr/local/lib/python3.7/dist-packages (from requests>=2.26->yfinance) (2.10)\n"
          ]
        }
      ],
      "source": [
        "!pip3 install pandas-ta\n",
        "!pip3 install mplfinance\n",
        "!pip3 install yfinance\n",
        "\n",
        "import pandas_ta as ta\n",
        "import yfinance as yf\n",
        "import mplfinance as mpf"
      ]
    },
    {
      "cell_type": "code",
      "source": [
        "# [open_10,....,open, high_10,....,high,low_10,....low, close_10,....close,volume_10,.....volume,'bearish'] bearish if next close is decreasing\n",
        "# [open_10,....,open, high_10,....,high,low_10,....low, close_10,....close,volume_10,.....volume,'bullish'] bullish if next close is increasing\n",
        "# df.shift\n",
        "import requests\n",
        "from pandas import json_normalize\n",
        "import numpy as np\n",
        "import time\n",
        "from datetime import date,datetime\n",
        "import matplotlib.pyplot as plt\n",
        "import pandas as pd\n",
        "\n",
        "\n",
        "# get historical market data\n",
        "df = yf.download('SBIN.NS', period='10d', interval = '30m')\n",
        "df.columns = ['open','high','low','close','adj_close','volume']\n",
        "df = df[['open','high','low','close','adj_close','volume']]\n",
        "df.reset_index(inplace=True)\n",
        "df['Date']=df['Datetime'].copy()\n",
        "df"
      ],
      "metadata": {
        "colab": {
          "base_uri": "https://localhost:8080/",
          "height": 441
        },
        "id": "MsaT2Q8uBtF9",
        "outputId": "777b14e7-c201-482c-dc40-03f2adca4885"
      },
      "execution_count": 65,
      "outputs": [
        {
          "output_type": "stream",
          "name": "stdout",
          "text": [
            "\r[*********************100%***********************]  1 of 1 completed\n"
          ]
        },
        {
          "output_type": "execute_result",
          "data": {
            "text/plain": [
              "                     Datetime        open        high         low       close  \\\n",
              "0   2022-04-18 09:00:00+05:30  512.500000  514.950012  510.700012  512.299988   \n",
              "1   2022-04-18 09:30:00+05:30  512.299988  514.400024  510.649994  512.099976   \n",
              "2   2022-04-18 10:00:00+05:30  512.000000  512.000000  508.299988  508.950012   \n",
              "3   2022-04-18 10:30:00+05:30  509.000000  509.750000  508.000000  508.200012   \n",
              "4   2022-04-18 11:00:00+05:30  508.149994  509.549988  507.700012  509.149994   \n",
              "..                        ...         ...         ...         ...         ...   \n",
              "126 2022-04-29 13:30:00+05:30  505.450012  505.600006  502.700012  503.850006   \n",
              "127 2022-04-29 14:00:00+05:30  503.750000  504.000000  501.299988  502.899994   \n",
              "128 2022-04-29 14:30:00+05:30  502.700012  503.399994  501.350006  502.299988   \n",
              "129 2022-04-29 15:00:00+05:30  502.450012  502.450012  494.000000  495.850006   \n",
              "130 2022-04-29 15:30:00+05:30  496.299988  496.299988  496.299988  496.299988   \n",
              "\n",
              "      adj_close   volume                      Date  \n",
              "0    512.299988   987989 2022-04-18 09:00:00+05:30  \n",
              "1    512.099976  1774896 2022-04-18 09:30:00+05:30  \n",
              "2    508.950012  1561094 2022-04-18 10:00:00+05:30  \n",
              "3    508.200012   947408 2022-04-18 10:30:00+05:30  \n",
              "4    509.149994   757710 2022-04-18 11:00:00+05:30  \n",
              "..          ...      ...                       ...  \n",
              "126  503.850006   619231 2022-04-29 13:30:00+05:30  \n",
              "127  502.899994   747199 2022-04-29 14:00:00+05:30  \n",
              "128  502.299988   564032 2022-04-29 14:30:00+05:30  \n",
              "129  495.850006  3780147 2022-04-29 15:00:00+05:30  \n",
              "130  496.299988        0 2022-04-29 15:30:00+05:30  \n",
              "\n",
              "[131 rows x 8 columns]"
            ],
            "text/html": [
              "\n",
              "  <div id=\"df-e3305b77-8aff-423c-8a31-d359ddccd9c2\">\n",
              "    <div class=\"colab-df-container\">\n",
              "      <div>\n",
              "<style scoped>\n",
              "    .dataframe tbody tr th:only-of-type {\n",
              "        vertical-align: middle;\n",
              "    }\n",
              "\n",
              "    .dataframe tbody tr th {\n",
              "        vertical-align: top;\n",
              "    }\n",
              "\n",
              "    .dataframe thead th {\n",
              "        text-align: right;\n",
              "    }\n",
              "</style>\n",
              "<table border=\"1\" class=\"dataframe\">\n",
              "  <thead>\n",
              "    <tr style=\"text-align: right;\">\n",
              "      <th></th>\n",
              "      <th>Datetime</th>\n",
              "      <th>open</th>\n",
              "      <th>high</th>\n",
              "      <th>low</th>\n",
              "      <th>close</th>\n",
              "      <th>adj_close</th>\n",
              "      <th>volume</th>\n",
              "      <th>Date</th>\n",
              "    </tr>\n",
              "  </thead>\n",
              "  <tbody>\n",
              "    <tr>\n",
              "      <th>0</th>\n",
              "      <td>2022-04-18 09:00:00+05:30</td>\n",
              "      <td>512.500000</td>\n",
              "      <td>514.950012</td>\n",
              "      <td>510.700012</td>\n",
              "      <td>512.299988</td>\n",
              "      <td>512.299988</td>\n",
              "      <td>987989</td>\n",
              "      <td>2022-04-18 09:00:00+05:30</td>\n",
              "    </tr>\n",
              "    <tr>\n",
              "      <th>1</th>\n",
              "      <td>2022-04-18 09:30:00+05:30</td>\n",
              "      <td>512.299988</td>\n",
              "      <td>514.400024</td>\n",
              "      <td>510.649994</td>\n",
              "      <td>512.099976</td>\n",
              "      <td>512.099976</td>\n",
              "      <td>1774896</td>\n",
              "      <td>2022-04-18 09:30:00+05:30</td>\n",
              "    </tr>\n",
              "    <tr>\n",
              "      <th>2</th>\n",
              "      <td>2022-04-18 10:00:00+05:30</td>\n",
              "      <td>512.000000</td>\n",
              "      <td>512.000000</td>\n",
              "      <td>508.299988</td>\n",
              "      <td>508.950012</td>\n",
              "      <td>508.950012</td>\n",
              "      <td>1561094</td>\n",
              "      <td>2022-04-18 10:00:00+05:30</td>\n",
              "    </tr>\n",
              "    <tr>\n",
              "      <th>3</th>\n",
              "      <td>2022-04-18 10:30:00+05:30</td>\n",
              "      <td>509.000000</td>\n",
              "      <td>509.750000</td>\n",
              "      <td>508.000000</td>\n",
              "      <td>508.200012</td>\n",
              "      <td>508.200012</td>\n",
              "      <td>947408</td>\n",
              "      <td>2022-04-18 10:30:00+05:30</td>\n",
              "    </tr>\n",
              "    <tr>\n",
              "      <th>4</th>\n",
              "      <td>2022-04-18 11:00:00+05:30</td>\n",
              "      <td>508.149994</td>\n",
              "      <td>509.549988</td>\n",
              "      <td>507.700012</td>\n",
              "      <td>509.149994</td>\n",
              "      <td>509.149994</td>\n",
              "      <td>757710</td>\n",
              "      <td>2022-04-18 11:00:00+05:30</td>\n",
              "    </tr>\n",
              "    <tr>\n",
              "      <th>...</th>\n",
              "      <td>...</td>\n",
              "      <td>...</td>\n",
              "      <td>...</td>\n",
              "      <td>...</td>\n",
              "      <td>...</td>\n",
              "      <td>...</td>\n",
              "      <td>...</td>\n",
              "      <td>...</td>\n",
              "    </tr>\n",
              "    <tr>\n",
              "      <th>126</th>\n",
              "      <td>2022-04-29 13:30:00+05:30</td>\n",
              "      <td>505.450012</td>\n",
              "      <td>505.600006</td>\n",
              "      <td>502.700012</td>\n",
              "      <td>503.850006</td>\n",
              "      <td>503.850006</td>\n",
              "      <td>619231</td>\n",
              "      <td>2022-04-29 13:30:00+05:30</td>\n",
              "    </tr>\n",
              "    <tr>\n",
              "      <th>127</th>\n",
              "      <td>2022-04-29 14:00:00+05:30</td>\n",
              "      <td>503.750000</td>\n",
              "      <td>504.000000</td>\n",
              "      <td>501.299988</td>\n",
              "      <td>502.899994</td>\n",
              "      <td>502.899994</td>\n",
              "      <td>747199</td>\n",
              "      <td>2022-04-29 14:00:00+05:30</td>\n",
              "    </tr>\n",
              "    <tr>\n",
              "      <th>128</th>\n",
              "      <td>2022-04-29 14:30:00+05:30</td>\n",
              "      <td>502.700012</td>\n",
              "      <td>503.399994</td>\n",
              "      <td>501.350006</td>\n",
              "      <td>502.299988</td>\n",
              "      <td>502.299988</td>\n",
              "      <td>564032</td>\n",
              "      <td>2022-04-29 14:30:00+05:30</td>\n",
              "    </tr>\n",
              "    <tr>\n",
              "      <th>129</th>\n",
              "      <td>2022-04-29 15:00:00+05:30</td>\n",
              "      <td>502.450012</td>\n",
              "      <td>502.450012</td>\n",
              "      <td>494.000000</td>\n",
              "      <td>495.850006</td>\n",
              "      <td>495.850006</td>\n",
              "      <td>3780147</td>\n",
              "      <td>2022-04-29 15:00:00+05:30</td>\n",
              "    </tr>\n",
              "    <tr>\n",
              "      <th>130</th>\n",
              "      <td>2022-04-29 15:30:00+05:30</td>\n",
              "      <td>496.299988</td>\n",
              "      <td>496.299988</td>\n",
              "      <td>496.299988</td>\n",
              "      <td>496.299988</td>\n",
              "      <td>496.299988</td>\n",
              "      <td>0</td>\n",
              "      <td>2022-04-29 15:30:00+05:30</td>\n",
              "    </tr>\n",
              "  </tbody>\n",
              "</table>\n",
              "<p>131 rows × 8 columns</p>\n",
              "</div>\n",
              "      <button class=\"colab-df-convert\" onclick=\"convertToInteractive('df-e3305b77-8aff-423c-8a31-d359ddccd9c2')\"\n",
              "              title=\"Convert this dataframe to an interactive table.\"\n",
              "              style=\"display:none;\">\n",
              "        \n",
              "  <svg xmlns=\"http://www.w3.org/2000/svg\" height=\"24px\"viewBox=\"0 0 24 24\"\n",
              "       width=\"24px\">\n",
              "    <path d=\"M0 0h24v24H0V0z\" fill=\"none\"/>\n",
              "    <path d=\"M18.56 5.44l.94 2.06.94-2.06 2.06-.94-2.06-.94-.94-2.06-.94 2.06-2.06.94zm-11 1L8.5 8.5l.94-2.06 2.06-.94-2.06-.94L8.5 2.5l-.94 2.06-2.06.94zm10 10l.94 2.06.94-2.06 2.06-.94-2.06-.94-.94-2.06-.94 2.06-2.06.94z\"/><path d=\"M17.41 7.96l-1.37-1.37c-.4-.4-.92-.59-1.43-.59-.52 0-1.04.2-1.43.59L10.3 9.45l-7.72 7.72c-.78.78-.78 2.05 0 2.83L4 21.41c.39.39.9.59 1.41.59.51 0 1.02-.2 1.41-.59l7.78-7.78 2.81-2.81c.8-.78.8-2.07 0-2.86zM5.41 20L4 18.59l7.72-7.72 1.47 1.35L5.41 20z\"/>\n",
              "  </svg>\n",
              "      </button>\n",
              "      \n",
              "  <style>\n",
              "    .colab-df-container {\n",
              "      display:flex;\n",
              "      flex-wrap:wrap;\n",
              "      gap: 12px;\n",
              "    }\n",
              "\n",
              "    .colab-df-convert {\n",
              "      background-color: #E8F0FE;\n",
              "      border: none;\n",
              "      border-radius: 50%;\n",
              "      cursor: pointer;\n",
              "      display: none;\n",
              "      fill: #1967D2;\n",
              "      height: 32px;\n",
              "      padding: 0 0 0 0;\n",
              "      width: 32px;\n",
              "    }\n",
              "\n",
              "    .colab-df-convert:hover {\n",
              "      background-color: #E2EBFA;\n",
              "      box-shadow: 0px 1px 2px rgba(60, 64, 67, 0.3), 0px 1px 3px 1px rgba(60, 64, 67, 0.15);\n",
              "      fill: #174EA6;\n",
              "    }\n",
              "\n",
              "    [theme=dark] .colab-df-convert {\n",
              "      background-color: #3B4455;\n",
              "      fill: #D2E3FC;\n",
              "    }\n",
              "\n",
              "    [theme=dark] .colab-df-convert:hover {\n",
              "      background-color: #434B5C;\n",
              "      box-shadow: 0px 1px 3px 1px rgba(0, 0, 0, 0.15);\n",
              "      filter: drop-shadow(0px 1px 2px rgba(0, 0, 0, 0.3));\n",
              "      fill: #FFFFFF;\n",
              "    }\n",
              "  </style>\n",
              "\n",
              "      <script>\n",
              "        const buttonEl =\n",
              "          document.querySelector('#df-e3305b77-8aff-423c-8a31-d359ddccd9c2 button.colab-df-convert');\n",
              "        buttonEl.style.display =\n",
              "          google.colab.kernel.accessAllowed ? 'block' : 'none';\n",
              "\n",
              "        async function convertToInteractive(key) {\n",
              "          const element = document.querySelector('#df-e3305b77-8aff-423c-8a31-d359ddccd9c2');\n",
              "          const dataTable =\n",
              "            await google.colab.kernel.invokeFunction('convertToInteractive',\n",
              "                                                     [key], {});\n",
              "          if (!dataTable) return;\n",
              "\n",
              "          const docLinkHtml = 'Like what you see? Visit the ' +\n",
              "            '<a target=\"_blank\" href=https://colab.research.google.com/notebooks/data_table.ipynb>data table notebook</a>'\n",
              "            + ' to learn more about interactive tables.';\n",
              "          element.innerHTML = '';\n",
              "          dataTable['output_type'] = 'display_data';\n",
              "          await google.colab.output.renderOutput(dataTable, element);\n",
              "          const docLink = document.createElement('div');\n",
              "          docLink.innerHTML = docLinkHtml;\n",
              "          element.appendChild(docLink);\n",
              "        }\n",
              "      </script>\n",
              "    </div>\n",
              "  </div>\n",
              "  "
            ]
          },
          "metadata": {},
          "execution_count": 65
        }
      ]
    },
    {
      "cell_type": "code",
      "source": [
        "print(df.close.describe())\n",
        "df.close.plot.kde()"
      ],
      "metadata": {
        "colab": {
          "base_uri": "https://localhost:8080/",
          "height": 438
        },
        "id": "m1bZCSf8m6-m",
        "outputId": "ff69ec91-b251-4f66-d12f-4908f815d469"
      },
      "execution_count": null,
      "outputs": [
        {
          "output_type": "stream",
          "name": "stdout",
          "text": [
            "count    131.000000\n",
            "mean     505.758014\n",
            "std        7.080411\n",
            "min      492.750000\n",
            "25%      499.375000\n",
            "50%      505.850006\n",
            "75%      510.875000\n",
            "max      520.000000\n",
            "Name: close, dtype: float64\n"
          ]
        },
        {
          "output_type": "execute_result",
          "data": {
            "text/plain": [
              "<matplotlib.axes._subplots.AxesSubplot at 0x7f5d71a6e610>"
            ]
          },
          "metadata": {},
          "execution_count": 49
        },
        {
          "output_type": "display_data",
          "data": {
            "text/plain": [
              "<Figure size 432x288 with 1 Axes>"
            ],
            "image/png": "[encoded data removed]"
          },
          "metadata": {
            "needs_background": "light"
          }
        }
      ]
    },
    {
      "cell_type": "code",
      "source": [
        "df.close.plot()"
      ],
      "metadata": {
        "colab": {
          "base_uri": "https://localhost:8080/",
          "height": 282
        },
        "id": "gQ3S3M9Cqx0V",
        "outputId": "fa4849d3-7614-4d98-d37d-7c21d24059c4"
      },
      "execution_count": 66,
      "outputs": [
        {
          "output_type": "execute_result",
          "data": {
            "text/plain": [
              "<matplotlib.axes._subplots.AxesSubplot at 0x7f5d66a14590>"
            ]
          },
          "metadata": {},
          "execution_count": 66
        },
        {
          "output_type": "display_data",
          "data": {
            "text/plain": [
              "<Figure size 432x288 with 1 Axes>"
            ],
            "image/png": "[encoded data removed]"
          },
          "metadata": {
            "needs_background": "light"
          }
        }
      ]
    },
    {
      "cell_type": "code",
      "source": [
        "df"
      ],
      "metadata": {
        "colab": {
          "base_uri": "https://localhost:8080/",
          "height": 423
        },
        "id": "ugAhKox40x8d",
        "outputId": "616f387c-8cf4-4d16-edb3-5edf8b8a3515"
      },
      "execution_count": 67,
      "outputs": [
        {
          "output_type": "execute_result",
          "data": {
            "text/plain": [
              "                     Datetime        open        high         low       close  \\\n",
              "0   2022-04-18 09:00:00+05:30  512.500000  514.950012  510.700012  512.299988   \n",
              "1   2022-04-18 09:30:00+05:30  512.299988  514.400024  510.649994  512.099976   \n",
              "2   2022-04-18 10:00:00+05:30  512.000000  512.000000  508.299988  508.950012   \n",
              "3   2022-04-18 10:30:00+05:30  509.000000  509.750000  508.000000  508.200012   \n",
              "4   2022-04-18 11:00:00+05:30  508.149994  509.549988  507.700012  509.149994   \n",
              "..                        ...         ...         ...         ...         ...   \n",
              "126 2022-04-29 13:30:00+05:30  505.450012  505.600006  502.700012  503.850006   \n",
              "127 2022-04-29 14:00:00+05:30  503.750000  504.000000  501.299988  502.899994   \n",
              "128 2022-04-29 14:30:00+05:30  502.700012  503.399994  501.350006  502.299988   \n",
              "129 2022-04-29 15:00:00+05:30  502.450012  502.450012  494.000000  495.850006   \n",
              "130 2022-04-29 15:30:00+05:30  496.299988  496.299988  496.299988  496.299988   \n",
              "\n",
              "      adj_close   volume                      Date  \n",
              "0    512.299988   987989 2022-04-18 09:00:00+05:30  \n",
              "1    512.099976  1774896 2022-04-18 09:30:00+05:30  \n",
              "2    508.950012  1561094 2022-04-18 10:00:00+05:30  \n",
              "3    508.200012   947408 2022-04-18 10:30:00+05:30  \n",
              "4    509.149994   757710 2022-04-18 11:00:00+05:30  \n",
              "..          ...      ...                       ...  \n",
              "126  503.850006   619231 2022-04-29 13:30:00+05:30  \n",
              "127  502.899994   747199 2022-04-29 14:00:00+05:30  \n",
              "128  502.299988   564032 2022-04-29 14:30:00+05:30  \n",
              "129  495.850006  3780147 2022-04-29 15:00:00+05:30  \n",
              "130  496.299988        0 2022-04-29 15:30:00+05:30  \n",
              "\n",
              "[131 rows x 8 columns]"
            ],
            "text/html": [
              "\n",
              "  <div id=\"df-195ed56d-d0b9-498b-9407-f048bdc9df09\">\n",
              "    <div class=\"colab-df-container\">\n",
              "      <div>\n",
              "<style scoped>\n",
              "    .dataframe tbody tr th:only-of-type {\n",
              "        vertical-align: middle;\n",
              "    }\n",
              "\n",
              "    .dataframe tbody tr th {\n",
              "        vertical-align: top;\n",
              "    }\n",
              "\n",
              "    .dataframe thead th {\n",
              "        text-align: right;\n",
              "    }\n",
              "</style>\n",
              "<table border=\"1\" class=\"dataframe\">\n",
              "  <thead>\n",
              "    <tr style=\"text-align: right;\">\n",
              "      <th></th>\n",
              "      <th>Datetime</th>\n",
              "      <th>open</th>\n",
              "      <th>high</th>\n",
              "      <th>low</th>\n",
              "      <th>close</th>\n",
              "      <th>adj_close</th>\n",
              "      <th>volume</th>\n",
              "      <th>Date</th>\n",
              "    </tr>\n",
              "  </thead>\n",
              "  <tbody>\n",
              "    <tr>\n",
              "      <th>0</th>\n",
              "      <td>2022-04-18 09:00:00+05:30</td>\n",
              "      <td>512.500000</td>\n",
              "      <td>514.950012</td>\n",
              "      <td>510.700012</td>\n",
              "      <td>512.299988</td>\n",
              "      <td>512.299988</td>\n",
              "      <td>987989</td>\n",
              "      <td>2022-04-18 09:00:00+05:30</td>\n",
              "    </tr>\n",
              "    <tr>\n",
              "      <th>1</th>\n",
              "      <td>2022-04-18 09:30:00+05:30</td>\n",
              "      <td>512.299988</td>\n",
              "      <td>514.400024</td>\n",
              "      <td>510.649994</td>\n",
              "      <td>512.099976</td>\n",
              "      <td>512.099976</td>\n",
              "      <td>1774896</td>\n",
              "      <td>2022-04-18 09:30:00+05:30</td>\n",
              "    </tr>\n",
              "    <tr>\n",
              "      <th>2</th>\n",
              "      <td>2022-04-18 10:00:00+05:30</td>\n",
              "      <td>512.000000</td>\n",
              "      <td>512.000000</td>\n",
              "      <td>508.299988</td>\n",
              "      <td>508.950012</td>\n",
              "      <td>508.950012</td>\n",
              "      <td>1561094</td>\n",
              "      <td>2022-04-18 10:00:00+05:30</td>\n",
              "    </tr>\n",
              "    <tr>\n",
              "      <th>3</th>\n",
              "      <td>2022-04-18 10:30:00+05:30</td>\n",
              "      <td>509.000000</td>\n",
              "      <td>509.750000</td>\n",
              "      <td>508.000000</td>\n",
              "      <td>508.200012</td>\n",
              "      <td>508.200012</td>\n",
              "      <td>947408</td>\n",
              "      <td>2022-04-18 10:30:00+05:30</td>\n",
              "    </tr>\n",
              "    <tr>\n",
              "      <th>4</th>\n",
              "      <td>2022-04-18 11:00:00+05:30</td>\n",
              "      <td>508.149994</td>\n",
              "      <td>509.549988</td>\n",
              "      <td>507.700012</td>\n",
              "      <td>509.149994</td>\n",
              "      <td>509.149994</td>\n",
              "      <td>757710</td>\n",
              "      <td>2022-04-18 11:00:00+05:30</td>\n",
              "    </tr>\n",
              "    <tr>\n",
              "      <th>...</th>\n",
              "      <td>...</td>\n",
              "      <td>...</td>\n",
              "      <td>...</td>\n",
              "      <td>...</td>\n",
              "      <td>...</td>\n",
              "      <td>...</td>\n",
              "      <td>...</td>\n",
              "      <td>...</td>\n",
              "    </tr>\n",
              "    <tr>\n",
              "      <th>126</th>\n",
              "      <td>2022-04-29 13:30:00+05:30</td>\n",
              "      <td>505.450012</td>\n",
              "      <td>505.600006</td>\n",
              "      <td>502.700012</td>\n",
              "      <td>503.850006</td>\n",
              "      <td>503.850006</td>\n",
              "      <td>619231</td>\n",
              "      <td>2022-04-29 13:30:00+05:30</td>\n",
              "    </tr>\n",
              "    <tr>\n",
              "      <th>127</th>\n",
              "      <td>2022-04-29 14:00:00+05:30</td>\n",
              "      <td>503.750000</td>\n",
              "      <td>504.000000</td>\n",
              "      <td>501.299988</td>\n",
              "      <td>502.899994</td>\n",
              "      <td>502.899994</td>\n",
              "      <td>747199</td>\n",
              "      <td>2022-04-29 14:00:00+05:30</td>\n",
              "    </tr>\n",
              "    <tr>\n",
              "      <th>128</th>\n",
              "      <td>2022-04-29 14:30:00+05:30</td>\n",
              "      <td>502.700012</td>\n",
              "      <td>503.399994</td>\n",
              "      <td>501.350006</td>\n",
              "      <td>502.299988</td>\n",
              "      <td>502.299988</td>\n",
              "      <td>564032</td>\n",
              "      <td>2022-04-29 14:30:00+05:30</td>\n",
              "    </tr>\n",
              "    <tr>\n",
              "      <th>129</th>\n",
              "      <td>2022-04-29 15:00:00+05:30</td>\n",
              "      <td>502.450012</td>\n",
              "      <td>502.450012</td>\n",
              "      <td>494.000000</td>\n",
              "      <td>495.850006</td>\n",
              "      <td>495.850006</td>\n",
              "      <td>3780147</td>\n",
              "      <td>2022-04-29 15:00:00+05:30</td>\n",
              "    </tr>\n",
              "    <tr>\n",
              "      <th>130</th>\n",
              "      <td>2022-04-29 15:30:00+05:30</td>\n",
              "      <td>496.299988</td>\n",
              "      <td>496.299988</td>\n",
              "      <td>496.299988</td>\n",
              "      <td>496.299988</td>\n",
              "      <td>496.299988</td>\n",
              "      <td>0</td>\n",
              "      <td>2022-04-29 15:30:00+05:30</td>\n",
              "    </tr>\n",
              "  </tbody>\n",
              "</table>\n",
              "<p>131 rows × 8 columns</p>\n",
              "</div>\n",
              "      <button class=\"colab-df-convert\" onclick=\"convertToInteractive('df-195ed56d-d0b9-498b-9407-f048bdc9df09')\"\n",
              "              title=\"Convert this dataframe to an interactive table.\"\n",
              "              style=\"display:none;\">\n",
              "        \n",
              "  <svg xmlns=\"http://www.w3.org/2000/svg\" height=\"24px\"viewBox=\"0 0 24 24\"\n",
              "       width=\"24px\">\n",
              "    <path d=\"M0 0h24v24H0V0z\" fill=\"none\"/>\n",
              "    <path d=\"M18.56 5.44l.94 2.06.94-2.06 2.06-.94-2.06-.94-.94-2.06-.94 2.06-2.06.94zm-11 1L8.5 8.5l.94-2.06 2.06-.94-2.06-.94L8.5 2.5l-.94 2.06-2.06.94zm10 10l.94 2.06.94-2.06 2.06-.94-2.06-.94-.94-2.06-.94 2.06-2.06.94z\"/><path d=\"M17.41 7.96l-1.37-1.37c-.4-.4-.92-.59-1.43-.59-.52 0-1.04.2-1.43.59L10.3 9.45l-7.72 7.72c-.78.78-.78 2.05 0 2.83L4 21.41c.39.39.9.59 1.41.59.51 0 1.02-.2 1.41-.59l7.78-7.78 2.81-2.81c.8-.78.8-2.07 0-2.86zM5.41 20L4 18.59l7.72-7.72 1.47 1.35L5.41 20z\"/>\n",
              "  </svg>\n",
              "      </button>\n",
              "      \n",
              "  <style>\n",
              "    .colab-df-container {\n",
              "      display:flex;\n",
              "      flex-wrap:wrap;\n",
              "      gap: 12px;\n",
              "    }\n",
              "\n",
              "    .colab-df-convert {\n",
              "      background-color: #E8F0FE;\n",
              "      border: none;\n",
              "      border-radius: 50%;\n",
              "      cursor: pointer;\n",
              "      display: none;\n",
              "      fill: #1967D2;\n",
              "      height: 32px;\n",
              "      padding: 0 0 0 0;\n",
              "      width: 32px;\n",
              "    }\n",
              "\n",
              "    .colab-df-convert:hover {\n",
              "      background-color: #E2EBFA;\n",
              "      box-shadow: 0px 1px 2px rgba(60, 64, 67, 0.3), 0px 1px 3px 1px rgba(60, 64, 67, 0.15);\n",
              "      fill: #174EA6;\n",
              "    }\n",
              "\n",
              "    [theme=dark] .colab-df-convert {\n",
              "      background-color: #3B4455;\n",
              "      fill: #D2E3FC;\n",
              "    }\n",
              "\n",
              "    [theme=dark] .colab-df-convert:hover {\n",
              "      background-color: #434B5C;\n",
              "      box-shadow: 0px 1px 3px 1px rgba(0, 0, 0, 0.15);\n",
              "      filter: drop-shadow(0px 1px 2px rgba(0, 0, 0, 0.3));\n",
              "      fill: #FFFFFF;\n",
              "    }\n",
              "  </style>\n",
              "\n",
              "      <script>\n",
              "        const buttonEl =\n",
              "          document.querySelector('#df-195ed56d-d0b9-498b-9407-f048bdc9df09 button.colab-df-convert');\n",
              "        buttonEl.style.display =\n",
              "          google.colab.kernel.accessAllowed ? 'block' : 'none';\n",
              "\n",
              "        async function convertToInteractive(key) {\n",
              "          const element = document.querySelector('#df-195ed56d-d0b9-498b-9407-f048bdc9df09');\n",
              "          const dataTable =\n",
              "            await google.colab.kernel.invokeFunction('convertToInteractive',\n",
              "                                                     [key], {});\n",
              "          if (!dataTable) return;\n",
              "\n",
              "          const docLinkHtml = 'Like what you see? Visit the ' +\n",
              "            '<a target=\"_blank\" href=https://colab.research.google.com/notebooks/data_table.ipynb>data table notebook</a>'\n",
              "            + ' to learn more about interactive tables.';\n",
              "          element.innerHTML = '';\n",
              "          dataTable['output_type'] = 'display_data';\n",
              "          await google.colab.output.renderOutput(dataTable, element);\n",
              "          const docLink = document.createElement('div');\n",
              "          docLink.innerHTML = docLinkHtml;\n",
              "          element.appendChild(docLink);\n",
              "        }\n",
              "      </script>\n",
              "    </div>\n",
              "  </div>\n",
              "  "
            ]
          },
          "metadata": {},
          "execution_count": 67
        }
      ]
    },
    {
      "cell_type": "code",
      "source": [
        "\n"
      ],
      "metadata": {
        "colab": {
          "base_uri": "https://localhost:8080/",
          "height": 310
        },
        "id": "_X14oMDU1eI0",
        "outputId": "16685041-6342-454c-c7b8-11bfec5ca46a"
      },
      "execution_count": null,
      "outputs": [
        {
          "output_type": "error",
          "ename": "KeyError",
          "evalue": "ignored",
          "traceback": [
            "\u001b[0;31m---------------------------------------------------------------------------\u001b[0m",
            "\u001b[0;31mKeyError\u001b[0m                                  Traceback (most recent call last)",
            "\u001b[0;32m<ipython-input-52-14fed9258001>\u001b[0m in \u001b[0;36m<module>\u001b[0;34m()\u001b[0m\n\u001b[0;32m----> 1\u001b[0;31m \u001b[0mdf\u001b[0m\u001b[0;34m.\u001b[0m\u001b[0mdrop\u001b[0m\u001b[0;34m(\u001b[0m\u001b[0;34m'Datetime'\u001b[0m\u001b[0;34m,\u001b[0m\u001b[0maxis\u001b[0m\u001b[0;34m=\u001b[0m\u001b[0;36m1\u001b[0m\u001b[0;34m)\u001b[0m\u001b[0;34m\u001b[0m\u001b[0;34m\u001b[0m\u001b[0m\n\u001b[0m",
            "\u001b[0;32m/usr/local/lib/python3.7/dist-packages/pandas/util/_decorators.py\u001b[0m in \u001b[0;36mwrapper\u001b[0;34m(*args, **kwargs)\u001b[0m\n\u001b[1;32m    309\u001b[0m                     \u001b[0mstacklevel\u001b[0m\u001b[0;34m=\u001b[0m\u001b[0mstacklevel\u001b[0m\u001b[0;34m,\u001b[0m\u001b[0;34m\u001b[0m\u001b[0;34m\u001b[0m\u001b[0m\n\u001b[1;32m    310\u001b[0m                 )\n\u001b[0;32m--> 311\u001b[0;31m             \u001b[0;32mreturn\u001b[0m \u001b[0mfunc\u001b[0m\u001b[0;34m(\u001b[0m\u001b[0;34m*\u001b[0m\u001b[0margs\u001b[0m\u001b[0;34m,\u001b[0m \u001b[0;34m**\u001b[0m\u001b[0mkwargs\u001b[0m\u001b[0;34m)\u001b[0m\u001b[0;34m\u001b[0m\u001b[0;34m\u001b[0m\u001b[0m\n\u001b[0m\u001b[1;32m    312\u001b[0m \u001b[0;34m\u001b[0m\u001b[0m\n\u001b[1;32m    313\u001b[0m         \u001b[0;32mreturn\u001b[0m \u001b[0mwrapper\u001b[0m\u001b[0;34m\u001b[0m\u001b[0;34m\u001b[0m\u001b[0m\n",
            "\u001b[0;32m/usr/local/lib/python3.7/dist-packages/pandas/core/frame.py\u001b[0m in \u001b[0;36mdrop\u001b[0;34m(self, labels, axis, index, columns, level, inplace, errors)\u001b[0m\n\u001b[1;32m   4911\u001b[0m             \u001b[0mlevel\u001b[0m\u001b[0;34m=\u001b[0m\u001b[0mlevel\u001b[0m\u001b[0;34m,\u001b[0m\u001b[0;34m\u001b[0m\u001b[0;34m\u001b[0m\u001b[0m\n\u001b[1;32m   4912\u001b[0m             \u001b[0minplace\u001b[0m\u001b[0;34m=\u001b[0m\u001b[0minplace\u001b[0m\u001b[0;34m,\u001b[0m\u001b[0;34m\u001b[0m\u001b[0;34m\u001b[0m\u001b[0m\n\u001b[0;32m-> 4913\u001b[0;31m             \u001b[0merrors\u001b[0m\u001b[0;34m=\u001b[0m\u001b[0merrors\u001b[0m\u001b[0;34m,\u001b[0m\u001b[0;34m\u001b[0m\u001b[0;34m\u001b[0m\u001b[0m\n\u001b[0m\u001b[1;32m   4914\u001b[0m         )\n\u001b[1;32m   4915\u001b[0m \u001b[0;34m\u001b[0m\u001b[0m\n",
            "\u001b[0;32m/usr/local/lib/python3.7/dist-packages/pandas/core/generic.py\u001b[0m in \u001b[0;36mdrop\u001b[0;34m(self, labels, axis, index, columns, level, inplace, errors)\u001b[0m\n\u001b[1;32m   4148\u001b[0m         \u001b[0;32mfor\u001b[0m \u001b[0maxis\u001b[0m\u001b[0;34m,\u001b[0m \u001b[0mlabels\u001b[0m \u001b[0;32min\u001b[0m \u001b[0maxes\u001b[0m\u001b[0;34m.\u001b[0m\u001b[0mitems\u001b[0m\u001b[0;34m(\u001b[0m\u001b[0;34m)\u001b[0m\u001b[0;34m:\u001b[0m\u001b[0;34m\u001b[0m\u001b[0;34m\u001b[0m\u001b[0m\n\u001b[1;32m   4149\u001b[0m             \u001b[0;32mif\u001b[0m \u001b[0mlabels\u001b[0m \u001b[0;32mis\u001b[0m \u001b[0;32mnot\u001b[0m \u001b[0;32mNone\u001b[0m\u001b[0;34m:\u001b[0m\u001b[0;34m\u001b[0m\u001b[0;34m\u001b[0m\u001b[0m\n\u001b[0;32m-> 4150\u001b[0;31m                 \u001b[0mobj\u001b[0m \u001b[0;34m=\u001b[0m \u001b[0mobj\u001b[0m\u001b[0;34m.\u001b[0m\u001b[0m_drop_axis\u001b[0m\u001b[0;34m(\u001b[0m\u001b[0mlabels\u001b[0m\u001b[0;34m,\u001b[0m \u001b[0maxis\u001b[0m\u001b[0;34m,\u001b[0m \u001b[0mlevel\u001b[0m\u001b[0;34m=\u001b[0m\u001b[0mlevel\u001b[0m\u001b[0;34m,\u001b[0m \u001b[0merrors\u001b[0m\u001b[0;34m=\u001b[0m\u001b[0merrors\u001b[0m\u001b[0;34m)\u001b[0m\u001b[0;34m\u001b[0m\u001b[0;34m\u001b[0m\u001b[0m\n\u001b[0m\u001b[1;32m   4151\u001b[0m \u001b[0;34m\u001b[0m\u001b[0m\n\u001b[1;32m   4152\u001b[0m         \u001b[0;32mif\u001b[0m \u001b[0minplace\u001b[0m\u001b[0;34m:\u001b[0m\u001b[0;34m\u001b[0m\u001b[0;34m\u001b[0m\u001b[0m\n",
            "\u001b[0;32m/usr/local/lib/python3.7/dist-packages/pandas/core/generic.py\u001b[0m in \u001b[0;36m_drop_axis\u001b[0;34m(self, labels, axis, level, errors)\u001b[0m\n\u001b[1;32m   4183\u001b[0m                 \u001b[0mnew_axis\u001b[0m \u001b[0;34m=\u001b[0m \u001b[0maxis\u001b[0m\u001b[0;34m.\u001b[0m\u001b[0mdrop\u001b[0m\u001b[0;34m(\u001b[0m\u001b[0mlabels\u001b[0m\u001b[0;34m,\u001b[0m \u001b[0mlevel\u001b[0m\u001b[0;34m=\u001b[0m\u001b[0mlevel\u001b[0m\u001b[0;34m,\u001b[0m \u001b[0merrors\u001b[0m\u001b[0;34m=\u001b[0m\u001b[0merrors\u001b[0m\u001b[0;34m)\u001b[0m\u001b[0;34m\u001b[0m\u001b[0;34m\u001b[0m\u001b[0m\n\u001b[1;32m   4184\u001b[0m             \u001b[0;32melse\u001b[0m\u001b[0;34m:\u001b[0m\u001b[0;34m\u001b[0m\u001b[0;34m\u001b[0m\u001b[0m\n\u001b[0;32m-> 4185\u001b[0;31m                 \u001b[0mnew_axis\u001b[0m \u001b[0;34m=\u001b[0m \u001b[0maxis\u001b[0m\u001b[0;34m.\u001b[0m\u001b[0mdrop\u001b[0m\u001b[0;34m(\u001b[0m\u001b[0mlabels\u001b[0m\u001b[0;34m,\u001b[0m \u001b[0merrors\u001b[0m\u001b[0;34m=\u001b[0m\u001b[0merrors\u001b[0m\u001b[0;34m)\u001b[0m\u001b[0;34m\u001b[0m\u001b[0;34m\u001b[0m\u001b[0m\n\u001b[0m\u001b[1;32m   4186\u001b[0m             \u001b[0mresult\u001b[0m \u001b[0;34m=\u001b[0m \u001b[0mself\u001b[0m\u001b[0;34m.\u001b[0m\u001b[0mreindex\u001b[0m\u001b[0;34m(\u001b[0m\u001b[0;34m**\u001b[0m\u001b[0;34m{\u001b[0m\u001b[0maxis_name\u001b[0m\u001b[0;34m:\u001b[0m \u001b[0mnew_axis\u001b[0m\u001b[0;34m}\u001b[0m\u001b[0;34m)\u001b[0m\u001b[0;34m\u001b[0m\u001b[0;34m\u001b[0m\u001b[0m\n\u001b[1;32m   4187\u001b[0m \u001b[0;34m\u001b[0m\u001b[0m\n",
            "\u001b[0;32m/usr/local/lib/python3.7/dist-packages/pandas/core/indexes/base.py\u001b[0m in \u001b[0;36mdrop\u001b[0;34m(self, labels, errors)\u001b[0m\n\u001b[1;32m   6015\u001b[0m         \u001b[0;32mif\u001b[0m \u001b[0mmask\u001b[0m\u001b[0;34m.\u001b[0m\u001b[0many\u001b[0m\u001b[0;34m(\u001b[0m\u001b[0;34m)\u001b[0m\u001b[0;34m:\u001b[0m\u001b[0;34m\u001b[0m\u001b[0;34m\u001b[0m\u001b[0m\n\u001b[1;32m   6016\u001b[0m             \u001b[0;32mif\u001b[0m \u001b[0merrors\u001b[0m \u001b[0;34m!=\u001b[0m \u001b[0;34m\"ignore\"\u001b[0m\u001b[0;34m:\u001b[0m\u001b[0;34m\u001b[0m\u001b[0;34m\u001b[0m\u001b[0m\n\u001b[0;32m-> 6017\u001b[0;31m                 \u001b[0;32mraise\u001b[0m \u001b[0mKeyError\u001b[0m\u001b[0;34m(\u001b[0m\u001b[0;34mf\"{labels[mask]} not found in axis\"\u001b[0m\u001b[0;34m)\u001b[0m\u001b[0;34m\u001b[0m\u001b[0;34m\u001b[0m\u001b[0m\n\u001b[0m\u001b[1;32m   6018\u001b[0m             \u001b[0mindexer\u001b[0m \u001b[0;34m=\u001b[0m \u001b[0mindexer\u001b[0m\u001b[0;34m[\u001b[0m\u001b[0;34m~\u001b[0m\u001b[0mmask\u001b[0m\u001b[0;34m]\u001b[0m\u001b[0;34m\u001b[0m\u001b[0;34m\u001b[0m\u001b[0m\n\u001b[1;32m   6019\u001b[0m         \u001b[0;32mreturn\u001b[0m \u001b[0mself\u001b[0m\u001b[0;34m.\u001b[0m\u001b[0mdelete\u001b[0m\u001b[0;34m(\u001b[0m\u001b[0mindexer\u001b[0m\u001b[0;34m)\u001b[0m\u001b[0;34m\u001b[0m\u001b[0;34m\u001b[0m\u001b[0m\n",
            "\u001b[0;31mKeyError\u001b[0m: \"['Datetime'] not found in axis\""
          ]
        }
      ]
    },
    {
      "cell_type": "code",
      "source": [
        "#shifting only 'close' row value by value 514 \n",
        "\n",
        "df['dayofweek'] = df['Date'].dt.dayofweek\n",
        "df['quarter'] = df['Date'].dt.quarter\n",
        "df['month'] = df['Date'].dt.month\n",
        "df['monthofquarter'] = df['month']%4\n",
        "df['dayofyear'] = df['Date'].dt.dayofyear\n",
        "df['dayofmonth'] = df['Date'].dt.day\n",
        "df['weekofyear'] = df['Date'].dt.weekofyear\n",
        "df['year'] = df['Date'].dt.year\n",
        "df['target'] = np.nan\n",
        "for i in range(df.shape[0]):\n",
        "  df['target'] = df.apply(lambda row: 1 if (row['close'] > row['close_3']) else 0, axis=1)\n",
        "df.dropna(inplace=True)\n",
        "df.drop('Date', axis=1, inplace=True)\n",
        "df"
      ],
      "metadata": {
        "colab": {
          "base_uri": "https://localhost:8080/",
          "height": 556
        },
        "id": "91mLSug6xiFU",
        "outputId": "c6f507fc-4946-4acf-dd49-773d6318b81a"
      },
      "execution_count": 68,
      "outputs": [
        {
          "output_type": "stream",
          "name": "stderr",
          "text": [
            "/usr/local/lib/python3.7/dist-packages/ipykernel_launcher.py:9: FutureWarning: Series.dt.weekofyear and Series.dt.week have been deprecated.  Please use Series.dt.isocalendar().week instead.\n",
            "  if __name__ == '__main__':\n"
          ]
        },
        {
          "output_type": "error",
          "ename": "KeyError",
          "evalue": "ignored",
          "traceback": [
            "\u001b[0;31m---------------------------------------------------------------------------\u001b[0m",
            "\u001b[0;31mKeyError\u001b[0m                                  Traceback (most recent call last)",
            "\u001b[0;32m/usr/local/lib/python3.7/dist-packages/pandas/core/indexes/base.py\u001b[0m in \u001b[0;36mget_loc\u001b[0;34m(self, key, method, tolerance)\u001b[0m\n\u001b[1;32m   3360\u001b[0m             \u001b[0;32mtry\u001b[0m\u001b[0;34m:\u001b[0m\u001b[0;34m\u001b[0m\u001b[0;34m\u001b[0m\u001b[0m\n\u001b[0;32m-> 3361\u001b[0;31m                 \u001b[0;32mreturn\u001b[0m \u001b[0mself\u001b[0m\u001b[0;34m.\u001b[0m\u001b[0m_engine\u001b[0m\u001b[0;34m.\u001b[0m\u001b[0mget_loc\u001b[0m\u001b[0;34m(\u001b[0m\u001b[0mcasted_key\u001b[0m\u001b[0;34m)\u001b[0m\u001b[0;34m\u001b[0m\u001b[0;34m\u001b[0m\u001b[0m\n\u001b[0m\u001b[1;32m   3362\u001b[0m             \u001b[0;32mexcept\u001b[0m \u001b[0mKeyError\u001b[0m \u001b[0;32mas\u001b[0m \u001b[0merr\u001b[0m\u001b[0;34m:\u001b[0m\u001b[0;34m\u001b[0m\u001b[0;34m\u001b[0m\u001b[0m\n",
            "\u001b[0;32m/usr/local/lib/python3.7/dist-packages/pandas/_libs/index.pyx\u001b[0m in \u001b[0;36mpandas._libs.index.IndexEngine.get_loc\u001b[0;34m()\u001b[0m\n",
            "\u001b[0;32m/usr/local/lib/python3.7/dist-packages/pandas/_libs/index.pyx\u001b[0m in \u001b[0;36mpandas._libs.index.IndexEngine.get_loc\u001b[0;34m()\u001b[0m\n",
            "\u001b[0;32mpandas/_libs/hashtable_class_helper.pxi\u001b[0m in \u001b[0;36mpandas._libs.hashtable.PyObjectHashTable.get_item\u001b[0;34m()\u001b[0m\n",
            "\u001b[0;32mpandas/_libs/hashtable_class_helper.pxi\u001b[0m in \u001b[0;36mpandas._libs.hashtable.PyObjectHashTable.get_item\u001b[0;34m()\u001b[0m\n",
            "\u001b[0;31mKeyError\u001b[0m: 'close_3'",
            "\nThe above exception was the direct cause of the following exception:\n",
            "\u001b[0;31mKeyError\u001b[0m                                  Traceback (most recent call last)",
            "\u001b[0;32m<ipython-input-68-46bae77f3812>\u001b[0m in \u001b[0;36m<module>\u001b[0;34m()\u001b[0m\n\u001b[1;32m     11\u001b[0m \u001b[0mdf\u001b[0m\u001b[0;34m[\u001b[0m\u001b[0;34m'target'\u001b[0m\u001b[0;34m]\u001b[0m \u001b[0;34m=\u001b[0m \u001b[0mnp\u001b[0m\u001b[0;34m.\u001b[0m\u001b[0mnan\u001b[0m\u001b[0;34m\u001b[0m\u001b[0;34m\u001b[0m\u001b[0m\n\u001b[1;32m     12\u001b[0m \u001b[0;32mfor\u001b[0m \u001b[0mi\u001b[0m \u001b[0;32min\u001b[0m \u001b[0mrange\u001b[0m\u001b[0;34m(\u001b[0m\u001b[0mdf\u001b[0m\u001b[0;34m.\u001b[0m\u001b[0mshape\u001b[0m\u001b[0;34m[\u001b[0m\u001b[0;36m0\u001b[0m\u001b[0;34m]\u001b[0m\u001b[0;34m)\u001b[0m\u001b[0;34m:\u001b[0m\u001b[0;34m\u001b[0m\u001b[0;34m\u001b[0m\u001b[0m\n\u001b[0;32m---> 13\u001b[0;31m   \u001b[0mdf\u001b[0m\u001b[0;34m[\u001b[0m\u001b[0;34m'target'\u001b[0m\u001b[0;34m]\u001b[0m \u001b[0;34m=\u001b[0m \u001b[0mdf\u001b[0m\u001b[0;34m.\u001b[0m\u001b[0mapply\u001b[0m\u001b[0;34m(\u001b[0m\u001b[0;32mlambda\u001b[0m \u001b[0mrow\u001b[0m\u001b[0;34m:\u001b[0m \u001b[0;36m1\u001b[0m \u001b[0;32mif\u001b[0m \u001b[0;34m(\u001b[0m\u001b[0mrow\u001b[0m\u001b[0;34m[\u001b[0m\u001b[0;34m'close'\u001b[0m\u001b[0;34m]\u001b[0m \u001b[0;34m>\u001b[0m \u001b[0mrow\u001b[0m\u001b[0;34m[\u001b[0m\u001b[0;34m'close_3'\u001b[0m\u001b[0;34m]\u001b[0m\u001b[0;34m)\u001b[0m \u001b[0;32melse\u001b[0m \u001b[0;36m0\u001b[0m\u001b[0;34m,\u001b[0m \u001b[0maxis\u001b[0m\u001b[0;34m=\u001b[0m\u001b[0;36m1\u001b[0m\u001b[0;34m)\u001b[0m\u001b[0;34m\u001b[0m\u001b[0;34m\u001b[0m\u001b[0m\n\u001b[0m\u001b[1;32m     14\u001b[0m \u001b[0mdf\u001b[0m\u001b[0;34m.\u001b[0m\u001b[0mdropna\u001b[0m\u001b[0;34m(\u001b[0m\u001b[0minplace\u001b[0m\u001b[0;34m=\u001b[0m\u001b[0;32mTrue\u001b[0m\u001b[0;34m)\u001b[0m\u001b[0;34m\u001b[0m\u001b[0;34m\u001b[0m\u001b[0m\n\u001b[1;32m     15\u001b[0m \u001b[0mdf\u001b[0m\u001b[0;34m.\u001b[0m\u001b[0mdrop\u001b[0m\u001b[0;34m(\u001b[0m\u001b[0;34m'Date'\u001b[0m\u001b[0;34m,\u001b[0m \u001b[0maxis\u001b[0m\u001b[0;34m=\u001b[0m\u001b[0;36m1\u001b[0m\u001b[0;34m,\u001b[0m \u001b[0minplace\u001b[0m\u001b[0;34m=\u001b[0m\u001b[0;32mTrue\u001b[0m\u001b[0;34m)\u001b[0m\u001b[0;34m\u001b[0m\u001b[0;34m\u001b[0m\u001b[0m\n",
            "\u001b[0;32m/usr/local/lib/python3.7/dist-packages/pandas/core/frame.py\u001b[0m in \u001b[0;36mapply\u001b[0;34m(self, func, axis, raw, result_type, args, **kwargs)\u001b[0m\n\u001b[1;32m   8738\u001b[0m             \u001b[0mkwargs\u001b[0m\u001b[0;34m=\u001b[0m\u001b[0mkwargs\u001b[0m\u001b[0;34m,\u001b[0m\u001b[0;34m\u001b[0m\u001b[0;34m\u001b[0m\u001b[0m\n\u001b[1;32m   8739\u001b[0m         )\n\u001b[0;32m-> 8740\u001b[0;31m         \u001b[0;32mreturn\u001b[0m \u001b[0mop\u001b[0m\u001b[0;34m.\u001b[0m\u001b[0mapply\u001b[0m\u001b[0;34m(\u001b[0m\u001b[0;34m)\u001b[0m\u001b[0;34m\u001b[0m\u001b[0;34m\u001b[0m\u001b[0m\n\u001b[0m\u001b[1;32m   8741\u001b[0m \u001b[0;34m\u001b[0m\u001b[0m\n\u001b[1;32m   8742\u001b[0m     def applymap(\n",
            "\u001b[0;32m/usr/local/lib/python3.7/dist-packages/pandas/core/apply.py\u001b[0m in \u001b[0;36mapply\u001b[0;34m(self)\u001b[0m\n\u001b[1;32m    686\u001b[0m             \u001b[0;32mreturn\u001b[0m \u001b[0mself\u001b[0m\u001b[0;34m.\u001b[0m\u001b[0mapply_raw\u001b[0m\u001b[0;34m(\u001b[0m\u001b[0;34m)\u001b[0m\u001b[0;34m\u001b[0m\u001b[0;34m\u001b[0m\u001b[0m\n\u001b[1;32m    687\u001b[0m \u001b[0;34m\u001b[0m\u001b[0m\n\u001b[0;32m--> 688\u001b[0;31m         \u001b[0;32mreturn\u001b[0m \u001b[0mself\u001b[0m\u001b[0;34m.\u001b[0m\u001b[0mapply_standard\u001b[0m\u001b[0;34m(\u001b[0m\u001b[0;34m)\u001b[0m\u001b[0;34m\u001b[0m\u001b[0;34m\u001b[0m\u001b[0m\n\u001b[0m\u001b[1;32m    689\u001b[0m \u001b[0;34m\u001b[0m\u001b[0m\n\u001b[1;32m    690\u001b[0m     \u001b[0;32mdef\u001b[0m \u001b[0magg\u001b[0m\u001b[0;34m(\u001b[0m\u001b[0mself\u001b[0m\u001b[0;34m)\u001b[0m\u001b[0;34m:\u001b[0m\u001b[0;34m\u001b[0m\u001b[0;34m\u001b[0m\u001b[0m\n",
            "\u001b[0;32m/usr/local/lib/python3.7/dist-packages/pandas/core/apply.py\u001b[0m in \u001b[0;36mapply_standard\u001b[0;34m(self)\u001b[0m\n\u001b[1;32m    810\u001b[0m \u001b[0;34m\u001b[0m\u001b[0m\n\u001b[1;32m    811\u001b[0m     \u001b[0;32mdef\u001b[0m \u001b[0mapply_standard\u001b[0m\u001b[0;34m(\u001b[0m\u001b[0mself\u001b[0m\u001b[0;34m)\u001b[0m\u001b[0;34m:\u001b[0m\u001b[0;34m\u001b[0m\u001b[0;34m\u001b[0m\u001b[0m\n\u001b[0;32m--> 812\u001b[0;31m         \u001b[0mresults\u001b[0m\u001b[0;34m,\u001b[0m \u001b[0mres_index\u001b[0m \u001b[0;34m=\u001b[0m \u001b[0mself\u001b[0m\u001b[0;34m.\u001b[0m\u001b[0mapply_series_generator\u001b[0m\u001b[0;34m(\u001b[0m\u001b[0;34m)\u001b[0m\u001b[0;34m\u001b[0m\u001b[0;34m\u001b[0m\u001b[0m\n\u001b[0m\u001b[1;32m    813\u001b[0m \u001b[0;34m\u001b[0m\u001b[0m\n\u001b[1;32m    814\u001b[0m         \u001b[0;31m# wrap results\u001b[0m\u001b[0;34m\u001b[0m\u001b[0;34m\u001b[0m\u001b[0;34m\u001b[0m\u001b[0m\n",
            "\u001b[0;32m/usr/local/lib/python3.7/dist-packages/pandas/core/apply.py\u001b[0m in \u001b[0;36mapply_series_generator\u001b[0;34m(self)\u001b[0m\n\u001b[1;32m    826\u001b[0m             \u001b[0;32mfor\u001b[0m \u001b[0mi\u001b[0m\u001b[0;34m,\u001b[0m \u001b[0mv\u001b[0m \u001b[0;32min\u001b[0m \u001b[0menumerate\u001b[0m\u001b[0;34m(\u001b[0m\u001b[0mseries_gen\u001b[0m\u001b[0;34m)\u001b[0m\u001b[0;34m:\u001b[0m\u001b[0;34m\u001b[0m\u001b[0;34m\u001b[0m\u001b[0m\n\u001b[1;32m    827\u001b[0m                 \u001b[0;31m# ignore SettingWithCopy here in case the user mutates\u001b[0m\u001b[0;34m\u001b[0m\u001b[0;34m\u001b[0m\u001b[0;34m\u001b[0m\u001b[0m\n\u001b[0;32m--> 828\u001b[0;31m                 \u001b[0mresults\u001b[0m\u001b[0;34m[\u001b[0m\u001b[0mi\u001b[0m\u001b[0;34m]\u001b[0m \u001b[0;34m=\u001b[0m \u001b[0mself\u001b[0m\u001b[0;34m.\u001b[0m\u001b[0mf\u001b[0m\u001b[0;34m(\u001b[0m\u001b[0mv\u001b[0m\u001b[0;34m)\u001b[0m\u001b[0;34m\u001b[0m\u001b[0;34m\u001b[0m\u001b[0m\n\u001b[0m\u001b[1;32m    829\u001b[0m                 \u001b[0;32mif\u001b[0m \u001b[0misinstance\u001b[0m\u001b[0;34m(\u001b[0m\u001b[0mresults\u001b[0m\u001b[0;34m[\u001b[0m\u001b[0mi\u001b[0m\u001b[0;34m]\u001b[0m\u001b[0;34m,\u001b[0m \u001b[0mABCSeries\u001b[0m\u001b[0;34m)\u001b[0m\u001b[0;34m:\u001b[0m\u001b[0;34m\u001b[0m\u001b[0;34m\u001b[0m\u001b[0m\n\u001b[1;32m    830\u001b[0m                     \u001b[0;31m# If we have a view on v, we need to make a copy because\u001b[0m\u001b[0;34m\u001b[0m\u001b[0;34m\u001b[0m\u001b[0;34m\u001b[0m\u001b[0m\n",
            "\u001b[0;32m<ipython-input-68-46bae77f3812>\u001b[0m in \u001b[0;36m<lambda>\u001b[0;34m(row)\u001b[0m\n\u001b[1;32m     11\u001b[0m \u001b[0mdf\u001b[0m\u001b[0;34m[\u001b[0m\u001b[0;34m'target'\u001b[0m\u001b[0;34m]\u001b[0m \u001b[0;34m=\u001b[0m \u001b[0mnp\u001b[0m\u001b[0;34m.\u001b[0m\u001b[0mnan\u001b[0m\u001b[0;34m\u001b[0m\u001b[0;34m\u001b[0m\u001b[0m\n\u001b[1;32m     12\u001b[0m \u001b[0;32mfor\u001b[0m \u001b[0mi\u001b[0m \u001b[0;32min\u001b[0m \u001b[0mrange\u001b[0m\u001b[0;34m(\u001b[0m\u001b[0mdf\u001b[0m\u001b[0;34m.\u001b[0m\u001b[0mshape\u001b[0m\u001b[0;34m[\u001b[0m\u001b[0;36m0\u001b[0m\u001b[0;34m]\u001b[0m\u001b[0;34m)\u001b[0m\u001b[0;34m:\u001b[0m\u001b[0;34m\u001b[0m\u001b[0;34m\u001b[0m\u001b[0m\n\u001b[0;32m---> 13\u001b[0;31m   \u001b[0mdf\u001b[0m\u001b[0;34m[\u001b[0m\u001b[0;34m'target'\u001b[0m\u001b[0;34m]\u001b[0m \u001b[0;34m=\u001b[0m \u001b[0mdf\u001b[0m\u001b[0;34m.\u001b[0m\u001b[0mapply\u001b[0m\u001b[0;34m(\u001b[0m\u001b[0;32mlambda\u001b[0m \u001b[0mrow\u001b[0m\u001b[0;34m:\u001b[0m \u001b[0;36m1\u001b[0m \u001b[0;32mif\u001b[0m \u001b[0;34m(\u001b[0m\u001b[0mrow\u001b[0m\u001b[0;34m[\u001b[0m\u001b[0;34m'close'\u001b[0m\u001b[0;34m]\u001b[0m \u001b[0;34m>\u001b[0m \u001b[0mrow\u001b[0m\u001b[0;34m[\u001b[0m\u001b[0;34m'close_3'\u001b[0m\u001b[0;34m]\u001b[0m\u001b[0;34m)\u001b[0m \u001b[0;32melse\u001b[0m \u001b[0;36m0\u001b[0m\u001b[0;34m,\u001b[0m \u001b[0maxis\u001b[0m\u001b[0;34m=\u001b[0m\u001b[0;36m1\u001b[0m\u001b[0;34m)\u001b[0m\u001b[0;34m\u001b[0m\u001b[0;34m\u001b[0m\u001b[0m\n\u001b[0m\u001b[1;32m     14\u001b[0m \u001b[0mdf\u001b[0m\u001b[0;34m.\u001b[0m\u001b[0mdropna\u001b[0m\u001b[0;34m(\u001b[0m\u001b[0minplace\u001b[0m\u001b[0;34m=\u001b[0m\u001b[0;32mTrue\u001b[0m\u001b[0;34m)\u001b[0m\u001b[0;34m\u001b[0m\u001b[0;34m\u001b[0m\u001b[0m\n\u001b[1;32m     15\u001b[0m \u001b[0mdf\u001b[0m\u001b[0;34m.\u001b[0m\u001b[0mdrop\u001b[0m\u001b[0;34m(\u001b[0m\u001b[0;34m'Date'\u001b[0m\u001b[0;34m,\u001b[0m \u001b[0maxis\u001b[0m\u001b[0;34m=\u001b[0m\u001b[0;36m1\u001b[0m\u001b[0;34m,\u001b[0m \u001b[0minplace\u001b[0m\u001b[0;34m=\u001b[0m\u001b[0;32mTrue\u001b[0m\u001b[0;34m)\u001b[0m\u001b[0;34m\u001b[0m\u001b[0;34m\u001b[0m\u001b[0m\n",
            "\u001b[0;32m/usr/local/lib/python3.7/dist-packages/pandas/core/series.py\u001b[0m in \u001b[0;36m__getitem__\u001b[0;34m(self, key)\u001b[0m\n\u001b[1;32m    940\u001b[0m \u001b[0;34m\u001b[0m\u001b[0m\n\u001b[1;32m    941\u001b[0m         \u001b[0;32melif\u001b[0m \u001b[0mkey_is_scalar\u001b[0m\u001b[0;34m:\u001b[0m\u001b[0;34m\u001b[0m\u001b[0;34m\u001b[0m\u001b[0m\n\u001b[0;32m--> 942\u001b[0;31m             \u001b[0;32mreturn\u001b[0m \u001b[0mself\u001b[0m\u001b[0;34m.\u001b[0m\u001b[0m_get_value\u001b[0m\u001b[0;34m(\u001b[0m\u001b[0mkey\u001b[0m\u001b[0;34m)\u001b[0m\u001b[0;34m\u001b[0m\u001b[0;34m\u001b[0m\u001b[0m\n\u001b[0m\u001b[1;32m    943\u001b[0m \u001b[0;34m\u001b[0m\u001b[0m\n\u001b[1;32m    944\u001b[0m         \u001b[0;32mif\u001b[0m \u001b[0mis_hashable\u001b[0m\u001b[0;34m(\u001b[0m\u001b[0mkey\u001b[0m\u001b[0;34m)\u001b[0m\u001b[0;34m:\u001b[0m\u001b[0;34m\u001b[0m\u001b[0;34m\u001b[0m\u001b[0m\n",
            "\u001b[0;32m/usr/local/lib/python3.7/dist-packages/pandas/core/series.py\u001b[0m in \u001b[0;36m_get_value\u001b[0;34m(self, label, takeable)\u001b[0m\n\u001b[1;32m   1049\u001b[0m \u001b[0;34m\u001b[0m\u001b[0m\n\u001b[1;32m   1050\u001b[0m         \u001b[0;31m# Similar to Index.get_value, but we do not fall back to positional\u001b[0m\u001b[0;34m\u001b[0m\u001b[0;34m\u001b[0m\u001b[0;34m\u001b[0m\u001b[0m\n\u001b[0;32m-> 1051\u001b[0;31m         \u001b[0mloc\u001b[0m \u001b[0;34m=\u001b[0m \u001b[0mself\u001b[0m\u001b[0;34m.\u001b[0m\u001b[0mindex\u001b[0m\u001b[0;34m.\u001b[0m\u001b[0mget_loc\u001b[0m\u001b[0;34m(\u001b[0m\u001b[0mlabel\u001b[0m\u001b[0;34m)\u001b[0m\u001b[0;34m\u001b[0m\u001b[0;34m\u001b[0m\u001b[0m\n\u001b[0m\u001b[1;32m   1052\u001b[0m         \u001b[0;32mreturn\u001b[0m \u001b[0mself\u001b[0m\u001b[0;34m.\u001b[0m\u001b[0mindex\u001b[0m\u001b[0;34m.\u001b[0m\u001b[0m_get_values_for_loc\u001b[0m\u001b[0;34m(\u001b[0m\u001b[0mself\u001b[0m\u001b[0;34m,\u001b[0m \u001b[0mloc\u001b[0m\u001b[0;34m,\u001b[0m \u001b[0mlabel\u001b[0m\u001b[0;34m)\u001b[0m\u001b[0;34m\u001b[0m\u001b[0;34m\u001b[0m\u001b[0m\n\u001b[1;32m   1053\u001b[0m \u001b[0;34m\u001b[0m\u001b[0m\n",
            "\u001b[0;32m/usr/local/lib/python3.7/dist-packages/pandas/core/indexes/base.py\u001b[0m in \u001b[0;36mget_loc\u001b[0;34m(self, key, method, tolerance)\u001b[0m\n\u001b[1;32m   3361\u001b[0m                 \u001b[0;32mreturn\u001b[0m \u001b[0mself\u001b[0m\u001b[0;34m.\u001b[0m\u001b[0m_engine\u001b[0m\u001b[0;34m.\u001b[0m\u001b[0mget_loc\u001b[0m\u001b[0;34m(\u001b[0m\u001b[0mcasted_key\u001b[0m\u001b[0;34m)\u001b[0m\u001b[0;34m\u001b[0m\u001b[0;34m\u001b[0m\u001b[0m\n\u001b[1;32m   3362\u001b[0m             \u001b[0;32mexcept\u001b[0m \u001b[0mKeyError\u001b[0m \u001b[0;32mas\u001b[0m \u001b[0merr\u001b[0m\u001b[0;34m:\u001b[0m\u001b[0;34m\u001b[0m\u001b[0;34m\u001b[0m\u001b[0m\n\u001b[0;32m-> 3363\u001b[0;31m                 \u001b[0;32mraise\u001b[0m \u001b[0mKeyError\u001b[0m\u001b[0;34m(\u001b[0m\u001b[0mkey\u001b[0m\u001b[0;34m)\u001b[0m \u001b[0;32mfrom\u001b[0m \u001b[0merr\u001b[0m\u001b[0;34m\u001b[0m\u001b[0;34m\u001b[0m\u001b[0m\n\u001b[0m\u001b[1;32m   3364\u001b[0m \u001b[0;34m\u001b[0m\u001b[0m\n\u001b[1;32m   3365\u001b[0m         \u001b[0;32mif\u001b[0m \u001b[0mis_scalar\u001b[0m\u001b[0;34m(\u001b[0m\u001b[0mkey\u001b[0m\u001b[0;34m)\u001b[0m \u001b[0;32mand\u001b[0m \u001b[0misna\u001b[0m\u001b[0;34m(\u001b[0m\u001b[0mkey\u001b[0m\u001b[0;34m)\u001b[0m \u001b[0;32mand\u001b[0m \u001b[0;32mnot\u001b[0m \u001b[0mself\u001b[0m\u001b[0;34m.\u001b[0m\u001b[0mhasnans\u001b[0m\u001b[0;34m:\u001b[0m\u001b[0;34m\u001b[0m\u001b[0;34m\u001b[0m\u001b[0m\n",
            "\u001b[0;31mKeyError\u001b[0m: 'close_3'"
          ]
        }
      ]
    },
    {
      "cell_type": "code",
      "source": [
        ""
      ],
      "metadata": {
        "id": "rp97F4A99nwu"
      },
      "execution_count": null,
      "outputs": []
    },
    {
      "cell_type": "code",
      "source": [
        "df.target.unique()"
      ],
      "metadata": {
        "colab": {
          "base_uri": "https://localhost:8080/"
        },
        "id": "L0PdcVKWLGSp",
        "outputId": "30ec6054-7aea-4a59-a17d-ed82542b3f6e"
      },
      "execution_count": null,
      "outputs": [
        {
          "output_type": "execute_result",
          "data": {
            "text/plain": [
              "array([1, 0])"
            ]
          },
          "metadata": {},
          "execution_count": 55
        }
      ]
    },
    {
      "cell_type": "markdown",
      "source": [
        "Normalization"
      ],
      "metadata": {
        "id": "z2YBqirvXdCO"
      }
    },
    {
      "cell_type": "code",
      "source": [
        "# transform data\n",
        "cols = list(df.columns)\n",
        "unwanted = ['close','open','low','high','volume', 'adj_close','target']\n",
        "cols = [ele for ele in cols if ele not in unwanted]\n",
        "x = df[cols]\n",
        "y = df['target']\n",
        "train_size = 0.9\n",
        "print(int(train_size*x.shape[0]))\n",
        "\n",
        "x_train, x_test = x[:int(train_size*x.shape[0])], x[int(train_size*x.shape[0]):]\n",
        "y_train, y_test = y[:int(train_size*y.shape[0])], y[int(train_size*y.shape[0]):]"
      ],
      "metadata": {
        "colab": {
          "base_uri": "https://localhost:8080/"
        },
        "id": "aDtbe_A9HXL3",
        "outputId": "4b5f7249-63d4-43b9-f038-ee42ad81a7fb"
      },
      "execution_count": null,
      "outputs": [
        {
          "output_type": "stream",
          "name": "stdout",
          "text": [
            "108\n"
          ]
        }
      ]
    },
    {
      "cell_type": "code",
      "source": [
        "x_train.shape, x_test.shape,  y_test.shape, y_train.shape"
      ],
      "metadata": {
        "colab": {
          "base_uri": "https://localhost:8080/"
        },
        "id": "dH67fycwLV8v",
        "outputId": "64368219-a521-4827-b4e8-a995757b086f"
      },
      "execution_count": null,
      "outputs": [
        {
          "output_type": "execute_result",
          "data": {
            "text/plain": [
              "((108, 48), (13, 48), (13,), (108,))"
            ]
          },
          "metadata": {},
          "execution_count": 57
        }
      ]
    },
    {
      "cell_type": "code",
      "source": [
        "import matplotlib.pyplot as plt\n",
        "import seaborn as sns\n",
        "import scipy\n",
        "import re\n",
        "\n",
        "from scipy import stats\n",
        "from scipy.stats import ttest_ind\n",
        "from scipy.stats import pearsonr\n",
        "from sklearn.preprocessing import StandardScaler,LabelEncoder\n",
        "from sklearn.model_selection import train_test_split \n",
        "from sklearn.neighbors import KNeighborsClassifier\n",
        "from sklearn.svm import SVC\n",
        "from sklearn.ensemble import GradientBoostingClassifier\n",
        "from xgboost import XGBClassifier\n",
        "from sklearn.metrics import accuracy_score,confusion_matrix,classification_report"
      ],
      "metadata": {
        "id": "hl0ORBjxL_LP"
      },
      "execution_count": null,
      "outputs": []
    },
    {
      "cell_type": "code",
      "source": [
        "from sklearn.preprocessing import MinMaxScaler\n",
        "scaler = MinMaxScaler()\n",
        "x_train_scaled = scaler.fit_transform(x_train)\n",
        "x_test = scaler.transform(x_test)\n",
        "x_train_scaled"
      ],
      "metadata": {
        "colab": {
          "base_uri": "https://localhost:8080/"
        },
        "id": "6iqUM167TDsb",
        "outputId": "e32be0d3-c797-420a-95f0-e6c7caa9fa4d"
      },
      "execution_count": null,
      "outputs": [
        {
          "output_type": "execute_result",
          "data": {
            "text/plain": [
              "array([[0.47155986, 0.50919117, 0.48368512, ..., 0.        , 0.        ,\n",
              "        0.        ],\n",
              "       [0.48807295, 0.46874979, 0.45681326, ..., 0.        , 0.        ,\n",
              "        0.        ],\n",
              "       [0.54311882, 0.48896992, 0.50287896, ..., 0.        , 0.        ,\n",
              "        0.        ],\n",
              "       ...,\n",
              "       [0.33944954, 0.36213241, 0.32245635, ..., 0.90909091, 1.        ,\n",
              "        0.        ],\n",
              "       [0.36697248, 0.34007338, 0.30902043, ..., 0.90909091, 1.        ,\n",
              "        0.        ],\n",
              "       [0.48073417, 0.36764689, 0.4280225 , ..., 1.        , 1.        ,\n",
              "        0.        ]])"
            ]
          },
          "metadata": {},
          "execution_count": 59
        }
      ]
    },
    {
      "cell_type": "markdown",
      "source": [
        "# **KNN**"
      ],
      "metadata": {
        "id": "XbORGUbk4G5d"
      }
    },
    {
      "cell_type": "code",
      "source": [
        "knn=KNeighborsClassifier(n_neighbors=13)\n",
        "knn.fit(x_train_scaled,y_train)\n",
        "print(\"KNN Accuracy:{:.2f}%\".format(knn.score(x_test,y_test)*100))"
      ],
      "metadata": {
        "colab": {
          "base_uri": "https://localhost:8080/"
        },
        "id": "XLMe-6-UL0sC",
        "outputId": "c91a1c5f-c9d4-4c27-abdb-5468350d19b3"
      },
      "execution_count": null,
      "outputs": [
        {
          "output_type": "stream",
          "name": "stdout",
          "text": [
            "KNN Accuracy:92.31%\n"
          ]
        }
      ]
    },
    {
      "cell_type": "code",
      "source": [
        "import sklearn.metrics as metrics\n",
        "print(metrics.classification_report(y_test,knn.predict(x_test)))"
      ],
      "metadata": {
        "colab": {
          "base_uri": "https://localhost:8080/"
        },
        "id": "j7awXBhdMKU4",
        "outputId": "06fff553-2987-402c-b2d3-7c76a3bf3673"
      },
      "execution_count": null,
      "outputs": [
        {
          "output_type": "stream",
          "name": "stdout",
          "text": [
            "              precision    recall  f1-score   support\n",
            "\n",
            "           0       0.92      1.00      0.96        11\n",
            "           1       1.00      0.50      0.67         2\n",
            "\n",
            "    accuracy                           0.92        13\n",
            "   macro avg       0.96      0.75      0.81        13\n",
            "weighted avg       0.93      0.92      0.91        13\n",
            "\n"
          ]
        }
      ]
    },
    {
      "cell_type": "code",
      "source": [
        "from sklearn.metrics import roc_auc_score\n",
        "from sklearn import metrics"
      ],
      "metadata": {
        "id": "42HRCVAcfmzm"
      },
      "execution_count": null,
      "outputs": []
    },
    {
      "cell_type": "code",
      "source": [
        "metrics.plot_roc_curve(knn, x_test, y_test) \n",
        "plt.show()"
      ],
      "metadata": {
        "colab": {
          "base_uri": "https://localhost:8080/",
          "height": 334
        },
        "id": "aEHTlDBysDY9",
        "outputId": "cca7af81-af4e-4d8a-e638-e37ee53ca6e4"
      },
      "execution_count": null,
      "outputs": [
        {
          "output_type": "stream",
          "name": "stderr",
          "text": [
            "/usr/local/lib/python3.7/dist-packages/sklearn/utils/deprecation.py:87: FutureWarning: Function plot_roc_curve is deprecated; Function :func:`plot_roc_curve` is deprecated in 1.0 and will be removed in 1.2. Use one of the class methods: :meth:`sklearn.metric.RocCurveDisplay.from_predictions` or :meth:`sklearn.metric.RocCurveDisplay.from_estimator`.\n",
            "  warnings.warn(msg, category=FutureWarning)\n"
          ]
        },
        {
          "output_type": "display_data",
          "data": {
            "text/plain": [
              "<Figure size 432x288 with 1 Axes>"
            ],
            "image/png": "[encoded data removed]"
          },
          "metadata": {
            "needs_background": "light"
          }
        }
      ]
    },
    {
      "cell_type": "markdown",
      "source": [
        "# **SVM**"
      ],
      "metadata": {
        "id": "GpOoxKog4NLM"
      }
    },
    {
      "cell_type": "code",
      "source": [
        "svm=SVC()\n",
        "svm.fit(x_train_scaled,y_train)\n",
        "print(\"SVM Accuracy:{:.2f}%\".format(svm.score(x_test,y_test)*100))"
      ],
      "metadata": {
        "colab": {
          "base_uri": "https://localhost:8080/"
        },
        "id": "cT3_InLMMMY4",
        "outputId": "31331ac1-32a2-4e1e-db39-084aff549633"
      },
      "execution_count": null,
      "outputs": [
        {
          "output_type": "stream",
          "name": "stdout",
          "text": [
            "SVM Accuracy:39.02%\n"
          ]
        }
      ]
    },
    {
      "cell_type": "code",
      "source": [
        "print(metrics.classification_report(y_test,svm.predict(x_test)))"
      ],
      "metadata": {
        "colab": {
          "base_uri": "https://localhost:8080/"
        },
        "id": "lDMpjNpEMQMo",
        "outputId": "1743d6eb-8e74-4610-c795-ee2e8960f883"
      },
      "execution_count": null,
      "outputs": [
        {
          "output_type": "stream",
          "name": "stdout",
          "text": [
            "              precision    recall  f1-score   support\n",
            "\n",
            "           0       0.43      0.51      0.47        65\n",
            "           1       0.32      0.26      0.29        58\n",
            "\n",
            "    accuracy                           0.39       123\n",
            "   macro avg       0.38      0.38      0.38       123\n",
            "weighted avg       0.38      0.39      0.38       123\n",
            "\n"
          ]
        }
      ]
    },
    {
      "cell_type": "code",
      "source": [
        "metrics.plot_roc_curve(svm, x_test, y_test) \n",
        "plt.show()"
      ],
      "metadata": {
        "colab": {
          "base_uri": "https://localhost:8080/",
          "height": 334
        },
        "id": "YUpUQcTqfjpO",
        "outputId": "05387379-372e-4272-92c7-1a2066e7dd7c"
      },
      "execution_count": null,
      "outputs": [
        {
          "output_type": "stream",
          "name": "stderr",
          "text": [
            "/usr/local/lib/python3.7/dist-packages/sklearn/utils/deprecation.py:87: FutureWarning: Function plot_roc_curve is deprecated; Function :func:`plot_roc_curve` is deprecated in 1.0 and will be removed in 1.2. Use one of the class methods: :meth:`sklearn.metric.RocCurveDisplay.from_predictions` or :meth:`sklearn.metric.RocCurveDisplay.from_estimator`.\n",
            "  warnings.warn(msg, category=FutureWarning)\n"
          ]
        },
        {
          "output_type": "display_data",
          "data": {
            "text/plain": [
              "<Figure size 432x288 with 1 Axes>"
            ],
            "image/png": "[encoded data removed]"
          },
          "metadata": {
            "needs_background": "light"
          }
        }
      ]
    },
    {
      "cell_type": "markdown",
      "source": [
        "# **GBC**"
      ],
      "metadata": {
        "id": "UxTy6_E64StP"
      }
    },
    {
      "cell_type": "code",
      "source": [
        "gbc=GradientBoostingClassifier(subsample=1,n_estimators=100,max_depth=3,max_leaf_nodes=25)\n",
        "gbc.fit(x_train_scaled,y_train)\n",
        "print(\"Gradient Boosting Accuracy:{:.2f}%\".format(gbc.score(x_test,y_test)*100))"
      ],
      "metadata": {
        "colab": {
          "base_uri": "https://localhost:8080/"
        },
        "id": "MAh7l26uMo5f",
        "outputId": "70b370cd-05f5-4c4d-e6e8-8b2feff92cc0"
      },
      "execution_count": null,
      "outputs": [
        {
          "output_type": "stream",
          "name": "stdout",
          "text": [
            "Gradient Boosting Accuracy:41.46%\n"
          ]
        }
      ]
    },
    {
      "cell_type": "code",
      "source": [
        "print(metrics.classification_report(y_test,gbc.predict(x_test)))"
      ],
      "metadata": {
        "colab": {
          "base_uri": "https://localhost:8080/"
        },
        "id": "lRYyjOb0Mo8P",
        "outputId": "978dc918-b765-4d84-e0a2-332e1ca69ddd"
      },
      "execution_count": null,
      "outputs": [
        {
          "output_type": "stream",
          "name": "stdout",
          "text": [
            "              precision    recall  f1-score   support\n",
            "\n",
            "           0       0.11      0.02      0.03        65\n",
            "           1       0.44      0.86      0.58        58\n",
            "\n",
            "    accuracy                           0.41       123\n",
            "   macro avg       0.27      0.44      0.30       123\n",
            "weighted avg       0.27      0.41      0.29       123\n",
            "\n"
          ]
        }
      ]
    },
    {
      "cell_type": "code",
      "source": [
        "metrics.plot_roc_curve(gbc, x_test, y_test) \n",
        "plt.show()"
      ],
      "metadata": {
        "colab": {
          "base_uri": "https://localhost:8080/",
          "height": 334
        },
        "id": "z5_H9-BCQ6Pp",
        "outputId": "c2e0fc0b-4655-47e5-fd3d-96a17479f07b"
      },
      "execution_count": null,
      "outputs": [
        {
          "output_type": "stream",
          "name": "stderr",
          "text": [
            "/usr/local/lib/python3.7/dist-packages/sklearn/utils/deprecation.py:87: FutureWarning: Function plot_roc_curve is deprecated; Function :func:`plot_roc_curve` is deprecated in 1.0 and will be removed in 1.2. Use one of the class methods: :meth:`sklearn.metric.RocCurveDisplay.from_predictions` or :meth:`sklearn.metric.RocCurveDisplay.from_estimator`.\n",
            "  warnings.warn(msg, category=FutureWarning)\n"
          ]
        },
        {
          "output_type": "display_data",
          "data": {
            "text/plain": [
              "<Figure size 432x288 with 1 Axes>"
            ],
            "image/png": "[encoded data removed]"
          },
          "metadata": {
            "needs_background": "light"
          }
        }
      ]
    },
    {
      "cell_type": "markdown",
      "source": [
        "# **XGB**"
      ],
      "metadata": {
        "id": "2cgR53sg4pmb"
      }
    },
    {
      "cell_type": "code",
      "source": [
        "xgb=XGBClassifier(learning_rate = 0.01, max_depth = 10, n_estimators = 100)\n",
        "xgb.fit(x_train_scaled,y_train)\n",
        "xgb_predict = xgb.predict(x_test)\n",
        "print(\"XGB Accuracy:{:.2f}%\".format(xgb.score(x_test,y_test)*100))"
      ],
      "metadata": {
        "colab": {
          "base_uri": "https://localhost:8080/"
        },
        "id": "EM2IizTgMxCh",
        "outputId": "c7719cbd-6c62-4e2b-b9d8-37554387cf5a"
      },
      "execution_count": null,
      "outputs": [
        {
          "output_type": "stream",
          "name": "stdout",
          "text": [
            "XGB Accuracy:69.23%\n"
          ]
        }
      ]
    },
    {
      "cell_type": "code",
      "source": [
        "print(metrics.classification_report(y_test,xgb.predict(x_test)))"
      ],
      "metadata": {
        "colab": {
          "base_uri": "https://localhost:8080/"
        },
        "id": "UIS5SgmS4hQM",
        "outputId": "59ef04d1-96b6-4144-c47b-74f135fb0b28"
      },
      "execution_count": null,
      "outputs": [
        {
          "output_type": "stream",
          "name": "stdout",
          "text": [
            "              precision    recall  f1-score   support\n",
            "\n",
            "           0       0.49      0.72      0.59        65\n",
            "           1       0.36      0.17      0.23        58\n",
            "\n",
            "    accuracy                           0.46       123\n",
            "   macro avg       0.43      0.45      0.41       123\n",
            "weighted avg       0.43      0.46      0.42       123\n",
            "\n"
          ]
        }
      ]
    },
    {
      "cell_type": "code",
      "source": [
        "from sklearn.metrics import roc_auc_score\n",
        "from sklearn import metrics\n",
        "metrics.plot_roc_curve(xgb, x_test, y_test) \n",
        "\n",
        "plt.show()"
      ],
      "metadata": {
        "colab": {
          "base_uri": "https://localhost:8080/",
          "height": 334
        },
        "id": "92a_Zqo2eq-Q",
        "outputId": "3e48bd50-2eb6-4bc8-bf3c-c7ac4eaf77f2"
      },
      "execution_count": null,
      "outputs": [
        {
          "output_type": "stream",
          "name": "stderr",
          "text": [
            "/usr/local/lib/python3.7/dist-packages/sklearn/utils/deprecation.py:87: FutureWarning: Function plot_roc_curve is deprecated; Function :func:`plot_roc_curve` is deprecated in 1.0 and will be removed in 1.2. Use one of the class methods: :meth:`sklearn.metric.RocCurveDisplay.from_predictions` or :meth:`sklearn.metric.RocCurveDisplay.from_estimator`.\n",
            "  warnings.warn(msg, category=FutureWarning)\n"
          ]
        },
        {
          "output_type": "display_data",
          "data": {
            "text/plain": [
              "<Figure size 432x288 with 1 Axes>"
            ],
            "image/png": "[encoded data removed]"
          },
          "metadata": {
            "needs_background": "light"
          }
        }
      ]
    },
    {
      "cell_type": "code",
      "source": [
        "# fit whole data using xgb\n",
        "XGB_model = XGBClassifier(learning_rate = 0.01, max_depth = 7, n_estimators = 400)\n",
        "XGB_model.fit(x_train_scaled, y_train)\n",
        "y_XGB_predict = XGB_model.predict(x_test)\n",
        "print(\"XGB Accuracy:{:.2f}%\".format(XGB_model.score(x_test,y_test)*100))"
      ],
      "metadata": {
        "colab": {
          "base_uri": "https://localhost:8080/"
        },
        "id": "_Fb2ulh9MxFN",
        "outputId": "46eda90e-8a5c-4e86-e977-f9c05a4f8a98"
      },
      "execution_count": null,
      "outputs": [
        {
          "output_type": "stream",
          "name": "stdout",
          "text": [
            "XGB Accuracy:39.84%\n"
          ]
        }
      ]
    },
    {
      "cell_type": "code",
      "source": [
        "from sklearn.metrics import roc_auc_score\n",
        "from sklearn import metrics\n",
        "metrics.plot_roc_curve(XGB_model, x_test, y_test) \n",
        "\n",
        "plt.show()"
      ],
      "metadata": {
        "colab": {
          "base_uri": "https://localhost:8080/",
          "height": 334
        },
        "id": "sC5Ftkx0d7n_",
        "outputId": "e8a6ee95-42ae-4935-c54f-21ef8f919484"
      },
      "execution_count": null,
      "outputs": [
        {
          "output_type": "stream",
          "name": "stderr",
          "text": [
            "/usr/local/lib/python3.7/dist-packages/sklearn/utils/deprecation.py:87: FutureWarning: Function plot_roc_curve is deprecated; Function :func:`plot_roc_curve` is deprecated in 1.0 and will be removed in 1.2. Use one of the class methods: :meth:`sklearn.metric.RocCurveDisplay.from_predictions` or :meth:`sklearn.metric.RocCurveDisplay.from_estimator`.\n",
            "  warnings.warn(msg, category=FutureWarning)\n"
          ]
        },
        {
          "output_type": "display_data",
          "data": {
            "text/plain": [
              "<Figure size 432x288 with 1 Axes>"
            ],
            "image/png": "[encoded data removed]"
          },
          "metadata": {
            "needs_background": "light"
          }
        }
      ]
    },
    {
      "cell_type": "markdown",
      "source": [
        "# **Random Forest**"
      ],
      "metadata": {
        "id": "pqVKK5Kt42Jg"
      }
    },
    {
      "cell_type": "code",
      "source": [
        "from sklearn.ensemble import RandomForestClassifier\n",
        "clf=RandomForestClassifier(n_estimators=100)\n",
        "clf.fit(x_train_scaled,y_train)\n",
        "y_pred=clf.predict(x_test)\n",
        "print(\"Random Forest:{:.2f}%\".format(clf.score(x_test,y_test)*100))"
      ],
      "metadata": {
        "colab": {
          "base_uri": "https://localhost:8080/"
        },
        "id": "qsX1unapMxJN",
        "outputId": "ee55a7a5-afed-475d-b5c7-642ff8fa1583"
      },
      "execution_count": null,
      "outputs": [
        {
          "output_type": "stream",
          "name": "stdout",
          "text": [
            "Random Forest:47.15%\n"
          ]
        }
      ]
    },
    {
      "cell_type": "code",
      "source": [
        "print(metrics.classification_report(y_test,clf.predict(x_test)))"
      ],
      "metadata": {
        "colab": {
          "base_uri": "https://localhost:8080/"
        },
        "id": "NH-eQIk7M9hY",
        "outputId": "7000f04a-6a2b-4110-ea06-519d959bd00e"
      },
      "execution_count": null,
      "outputs": [
        {
          "output_type": "stream",
          "name": "stdout",
          "text": [
            "              precision    recall  f1-score   support\n",
            "\n",
            "           0       0.00      0.00      0.00        65\n",
            "           1       0.47      1.00      0.64        58\n",
            "\n",
            "    accuracy                           0.47       123\n",
            "   macro avg       0.24      0.50      0.32       123\n",
            "weighted avg       0.22      0.47      0.30       123\n",
            "\n"
          ]
        },
        {
          "output_type": "stream",
          "name": "stderr",
          "text": [
            "/usr/local/lib/python3.7/dist-packages/sklearn/metrics/_classification.py:1318: UndefinedMetricWarning: Precision and F-score are ill-defined and being set to 0.0 in labels with no predicted samples. Use `zero_division` parameter to control this behavior.\n",
            "  _warn_prf(average, modifier, msg_start, len(result))\n",
            "/usr/local/lib/python3.7/dist-packages/sklearn/metrics/_classification.py:1318: UndefinedMetricWarning: Precision and F-score are ill-defined and being set to 0.0 in labels with no predicted samples. Use `zero_division` parameter to control this behavior.\n",
            "  _warn_prf(average, modifier, msg_start, len(result))\n",
            "/usr/local/lib/python3.7/dist-packages/sklearn/metrics/_classification.py:1318: UndefinedMetricWarning: Precision and F-score are ill-defined and being set to 0.0 in labels with no predicted samples. Use `zero_division` parameter to control this behavior.\n",
            "  _warn_prf(average, modifier, msg_start, len(result))\n"
          ]
        }
      ]
    },
    {
      "cell_type": "code",
      "source": [
        "# fit whole data using random forest \n",
        "rand_forest_regressor = RandomForestClassifier(max_depth = 60, n_estimators= 1500)\n",
        "rand_forest_regressor.fit(x_train_scaled, y_train)\n",
        "y_rand_forest_predict = rand_forest_regressor.predict(x_test)\n",
        "print(\"Random Forest:{:.2f}%\".format(rand_forest_regressor.score(x_test,y_test)*100))"
      ],
      "metadata": {
        "colab": {
          "base_uri": "https://localhost:8080/"
        },
        "id": "UBWIidpqUMmJ",
        "outputId": "35b72422-0304-4a0b-a818-76aae9f04948"
      },
      "execution_count": null,
      "outputs": [
        {
          "output_type": "stream",
          "name": "stdout",
          "text": [
            "Random Forest:47.15%\n"
          ]
        }
      ]
    },
    {
      "cell_type": "code",
      "source": [
        "from sklearn.metrics import roc_auc_score\n",
        "from sklearn import metrics\n",
        "metrics.plot_roc_curve(rand_forest_regressor, x_test, y_test) \n",
        "\n",
        "plt.show()"
      ],
      "metadata": {
        "colab": {
          "base_uri": "https://localhost:8080/",
          "height": 334
        },
        "id": "S21-e1IeZWMA",
        "outputId": "489f10d4-ae6c-45b1-dd79-fc0692eca638"
      },
      "execution_count": null,
      "outputs": [
        {
          "output_type": "stream",
          "name": "stderr",
          "text": [
            "/usr/local/lib/python3.7/dist-packages/sklearn/utils/deprecation.py:87: FutureWarning: Function plot_roc_curve is deprecated; Function :func:`plot_roc_curve` is deprecated in 1.0 and will be removed in 1.2. Use one of the class methods: :meth:`sklearn.metric.RocCurveDisplay.from_predictions` or :meth:`sklearn.metric.RocCurveDisplay.from_estimator`.\n",
            "  warnings.warn(msg, category=FutureWarning)\n"
          ]
        },
        {
          "output_type": "display_data",
          "data": {
            "text/plain": [
              "<Figure size 432x288 with 1 Axes>"
            ],
            "image/png": "[encoded data removed]"
          },
          "metadata": {
            "needs_background": "light"
          }
        }
      ]
    },
    {
      "cell_type": "markdown",
      "source": [
        "## **Decision Tree Classifier**"
      ],
      "metadata": {
        "id": "TdBGsm-6480E"
      }
    },
    {
      "cell_type": "code",
      "source": [
        "from sklearn.tree import DecisionTreeClassifier\n",
        "clf = DecisionTreeClassifier()\n",
        "\n",
        "# Train Decision Tree Classifer\n",
        "clf = clf.fit(x_train_scaled,y_train)\n",
        "\n",
        "#Predict the response for test dataset\n",
        "y_pred = clf.predict(x_test)\n",
        "print(\"Decision Trees:{:.2f}%\".format(clf.score(x_test,y_test)*100))\n"
      ],
      "metadata": {
        "colab": {
          "base_uri": "https://localhost:8080/"
        },
        "id": "VyL41RB9NBFP",
        "outputId": "5f759bfd-fe07-4100-8253-182710fa3024"
      },
      "execution_count": null,
      "outputs": [
        {
          "output_type": "stream",
          "name": "stdout",
          "text": [
            "Decision Trees:54.47%\n"
          ]
        }
      ]
    },
    {
      "cell_type": "code",
      "source": [
        "metrics.plot_roc_curve(clf, x_test, y_test) \n",
        "\n",
        "plt.show()\n"
      ],
      "metadata": {
        "colab": {
          "base_uri": "https://localhost:8080/",
          "height": 334
        },
        "id": "yl69PC_3hWJb",
        "outputId": "b6033fc8-c687-4a6c-b16f-83b5a127394b"
      },
      "execution_count": null,
      "outputs": [
        {
          "output_type": "stream",
          "name": "stderr",
          "text": [
            "/usr/local/lib/python3.7/dist-packages/sklearn/utils/deprecation.py:87: FutureWarning: Function plot_roc_curve is deprecated; Function :func:`plot_roc_curve` is deprecated in 1.0 and will be removed in 1.2. Use one of the class methods: :meth:`sklearn.metric.RocCurveDisplay.from_predictions` or :meth:`sklearn.metric.RocCurveDisplay.from_estimator`.\n",
            "  warnings.warn(msg, category=FutureWarning)\n"
          ]
        },
        {
          "output_type": "display_data",
          "data": {
            "text/plain": [
              "<Figure size 432x288 with 1 Axes>"
            ],
            "image/png": "[encoded data removed]"
          },
          "metadata": {
            "needs_background": "light"
          }
        }
      ]
    },
    {
      "cell_type": "markdown",
      "source": [
        "# **LGBM**"
      ],
      "metadata": {
        "id": "Xi__c1Gg5Dds"
      }
    },
    {
      "cell_type": "code",
      "source": [
        "import lightgbm as lgb\n",
        "model = lgb.LGBMClassifier(learning_rate=0.013,max_depth=-1,random_state=42)\n",
        "model.fit(x_train_scaled,y_train,eval_set=[(x_test,y_test),(x_train_scaled,y_train)],\n",
        "          verbose=20,eval_metric='logloss')\n",
        "\n",
        "print('Training accuracy {:.4f}'.format(model.score(x_train_scaled,y_train)))\n",
        "print('Testing accuracy {:.4f}'.format(model.score(x_test,y_test)))"
      ],
      "metadata": {
        "colab": {
          "base_uri": "https://localhost:8080/"
        },
        "id": "OfptrVfFNBLn",
        "outputId": "79df815d-b355-4368-f664-32ed947e7007"
      },
      "execution_count": null,
      "outputs": [
        {
          "output_type": "stream",
          "name": "stdout",
          "text": [
            "[20]\ttraining's binary_logloss: 0.628116\ttraining's binary_logloss: 0.628116\tvalid_0's binary_logloss: 0.718356\tvalid_0's binary_logloss: 0.718356\n",
            "[40]\ttraining's binary_logloss: 0.579612\ttraining's binary_logloss: 0.579612\tvalid_0's binary_logloss: 0.749814\tvalid_0's binary_logloss: 0.749814\n",
            "[60]\ttraining's binary_logloss: 0.537989\ttraining's binary_logloss: 0.537989\tvalid_0's binary_logloss: 0.782473\tvalid_0's binary_logloss: 0.782473\n",
            "[80]\ttraining's binary_logloss: 0.500758\ttraining's binary_logloss: 0.500758\tvalid_0's binary_logloss: 0.813588\tvalid_0's binary_logloss: 0.813588\n",
            "[100]\ttraining's binary_logloss: 0.466078\ttraining's binary_logloss: 0.466078\tvalid_0's binary_logloss: 0.837078\tvalid_0's binary_logloss: 0.837078\n",
            "Training accuracy 0.9248\n",
            "Testing accuracy 0.3984\n"
          ]
        }
      ]
    },
    {
      "cell_type": "code",
      "source": [
        "print('Training accuracy {:.4f}'.format(model.score(x_train_scaled,y_train)))\n",
        "print('Testing accuracy {:.4f}'.format(model.score(x_test,y_test)))"
      ],
      "metadata": {
        "colab": {
          "base_uri": "https://localhost:8080/"
        },
        "id": "g0s8TeyJNL6R",
        "outputId": "0f4ca148-acda-4a9e-94f8-0b3e61c71f13"
      },
      "execution_count": null,
      "outputs": [
        {
          "output_type": "stream",
          "name": "stdout",
          "text": [
            "Training accuracy 0.9248\n",
            "Testing accuracy 0.3984\n"
          ]
        }
      ]
    },
    {
      "cell_type": "code",
      "source": [
        "lgb.plot_metric(model)"
      ],
      "metadata": {
        "colab": {
          "base_uri": "https://localhost:8080/",
          "height": 312
        },
        "id": "ti5CKUr0NL9N",
        "outputId": "730b4f08-1c46-450a-8505-3cf74b61ee7c"
      },
      "execution_count": null,
      "outputs": [
        {
          "output_type": "execute_result",
          "data": {
            "text/plain": [
              "<matplotlib.axes._subplots.AxesSubplot at 0x7fd9d18c1450>"
            ]
          },
          "metadata": {},
          "execution_count": 33
        },
        {
          "output_type": "display_data",
          "data": {
            "text/plain": [
              "<Figure size 432x288 with 1 Axes>"
            ],
            "image/png": "[encoded data removed]"
          },
          "metadata": {
            "needs_background": "light"
          }
        }
      ]
    },
    {
      "cell_type": "code",
      "source": [
        "from sklearn.metrics import roc_auc_score\n",
        "from sklearn import metrics\n",
        "metrics.plot_roc_curve(model, x_test, y_test) \n",
        "\n",
        "plt.show()"
      ],
      "metadata": {
        "colab": {
          "base_uri": "https://localhost:8080/",
          "height": 334
        },
        "id": "CmlnF_H3e_Kl",
        "outputId": "f39af582-6fe8-435c-f0f6-1dae1dd1cbf2"
      },
      "execution_count": null,
      "outputs": [
        {
          "output_type": "stream",
          "name": "stderr",
          "text": [
            "/usr/local/lib/python3.7/dist-packages/sklearn/utils/deprecation.py:87: FutureWarning: Function plot_roc_curve is deprecated; Function :func:`plot_roc_curve` is deprecated in 1.0 and will be removed in 1.2. Use one of the class methods: :meth:`sklearn.metric.RocCurveDisplay.from_predictions` or :meth:`sklearn.metric.RocCurveDisplay.from_estimator`.\n",
            "  warnings.warn(msg, category=FutureWarning)\n"
          ]
        },
        {
          "output_type": "display_data",
          "data": {
            "text/plain": [
              "<Figure size 432x288 with 1 Axes>"
            ],
            "image/png": "[encoded data removed]"
          },
          "metadata": {
            "needs_background": "light"
          }
        }
      ]
    },
    {
      "cell_type": "markdown",
      "source": [
        "## **Deep Learning Model**"
      ],
      "metadata": {
        "id": "FwDpBvrJznyU"
      }
    },
    {
      "cell_type": "code",
      "source": [
        "df[\"target\"].unique()"
      ],
      "metadata": {
        "colab": {
          "base_uri": "https://localhost:8080/"
        },
        "id": "3Rlp4MfHw5lR",
        "outputId": "fc6c1cfa-e272-419a-a1ed-6a549462410f"
      },
      "execution_count": null,
      "outputs": [
        {
          "output_type": "execute_result",
          "data": {
            "text/plain": [
              "array([1, 0])"
            ]
          },
          "metadata": {},
          "execution_count": 35
        }
      ]
    },
    {
      "cell_type": "code",
      "source": [
        "data=df.values\n",
        "data"
      ],
      "metadata": {
        "colab": {
          "base_uri": "https://localhost:8080/"
        },
        "id": "UzjIHlpXw5oG",
        "outputId": "f665012f-0abf-453a-9c51-9535bb475403"
      },
      "execution_count": null,
      "outputs": [
        {
          "output_type": "execute_result",
          "data": {
            "text/plain": [
              "array([[3.00000000e+02, 3.02600006e+02, 2.96000000e+02, ...,\n",
              "        1.90000000e+01, 2.01700000e+03, 1.00000000e+00],\n",
              "       [2.98399994e+02, 3.02000000e+02, 2.97500000e+02, ...,\n",
              "        2.00000000e+01, 2.01700000e+03, 1.00000000e+00],\n",
              "       [3.02000000e+02, 3.08399994e+02, 2.99350006e+02, ...,\n",
              "        2.00000000e+01, 2.01700000e+03, 1.00000000e+00],\n",
              "       ...,\n",
              "       [4.95000000e+02, 4.99200012e+02, 4.90049988e+02, ...,\n",
              "        1.70000000e+01, 2.02200000e+03, 0.00000000e+00],\n",
              "       [4.99000000e+02, 5.07899994e+02, 4.98450012e+02, ...,\n",
              "        1.70000000e+01, 2.02200000e+03, 0.00000000e+00],\n",
              "       [5.00000000e+02, 5.02799988e+02, 4.91850006e+02, ...,\n",
              "        1.70000000e+01, 2.02200000e+03, 0.00000000e+00]])"
            ]
          },
          "metadata": {},
          "execution_count": 36
        }
      ]
    },
    {
      "cell_type": "code",
      "source": [
        "# keras model\n",
        "import tensorflow as tf\n",
        "from tensorflow import keras\n",
        "import numpy as np\n",
        "import pandas as pd\n",
        "import matplotlib.pyplot as plt\n",
        "import sklearn"
      ],
      "metadata": {
        "id": "2DaMo_MBe9k_"
      },
      "execution_count": null,
      "outputs": []
    },
    {
      "cell_type": "code",
      "source": [
        "# create training and test datasets\n",
        "\n",
        "from sklearn.model_selection import train_test_split\n",
        "\n",
        "x_train_scaled, x_test, y_train, y_test = train_test_split(x, y, test_size=0.2, random_state=42)\n",
        "\n",
        "# inspect first 10 values for each dataset\n",
        "\n",
        "print(x_train[:], '\\n')\n",
        "print(x_test[:], '\\n')\n",
        "print(y_train[:], '\\n')\n",
        "print(y_test[:], '\\n')"
      ],
      "metadata": {
        "colab": {
          "base_uri": "https://localhost:8080/"
        },
        "id": "UUK5phi5e9rL",
        "outputId": "19aa1139-5356-4e15-ead5-30044cbd8fd2"
      },
      "execution_count": null,
      "outputs": [
        {
          "output_type": "stream",
          "name": "stdout",
          "text": [
            "         close_3      open_3      high_3       low_3    volume_3     close_4  \\\n",
            "10    296.500000  300.899994  300.899994  295.250000   7843574.0  299.399994   \n",
            "11    294.450012  297.000000  298.149994  293.000000   8699405.0  296.500000   \n",
            "12    298.100006  295.899994  299.399994  294.450012  11934889.0  294.450012   \n",
            "13    297.899994  300.000000  302.600006  296.000000  13376269.0  298.100006   \n",
            "14    301.399994  298.399994  302.000000  297.500000  10383539.0  297.899994   \n",
            "...          ...         ...         ...         ...         ...         ...   \n",
            "1108  497.950012  494.000000  501.000000  491.700012  20084248.0  490.600006   \n",
            "1109  488.200012  500.350006  504.200012  483.250000  20645100.0  497.950012   \n",
            "1110  499.899994  488.799988  507.500000  483.100006  34080545.0  488.200012   \n",
            "1111  502.950012  504.899994  506.500000  491.750000  20808243.0  499.899994   \n",
            "1112  502.950012  504.600006  508.700012  500.000000  24080485.0  502.950012   \n",
            "\n",
            "          open_4      high_4       low_4    volume_4  ...      low_10  \\\n",
            "10    296.100006  300.750000  293.899994  11560550.0  ...  281.049988   \n",
            "11    300.899994  300.899994  295.250000   7843574.0  ...  282.500000   \n",
            "12    297.000000  298.149994  293.000000   8699405.0  ...  287.100006   \n",
            "13    295.899994  299.399994  294.450012  11934889.0  ...  285.799988   \n",
            "14    300.000000  302.600006  296.000000  13376269.0  ...  293.100006   \n",
            "...          ...         ...         ...         ...  ...         ...   \n",
            "1108  482.000000  493.899994  482.000000  23431826.0  ...  453.649994   \n",
            "1109  494.000000  501.000000  491.700012  20084248.0  ...  457.100006   \n",
            "1110  500.350006  504.200012  483.250000  20645100.0  ...  454.250000   \n",
            "1111  488.799988  507.500000  483.100006  34080545.0  ...  458.649994   \n",
            "1112  504.899994  506.500000  491.750000  20808243.0  ...  468.100006   \n",
            "\n",
            "       volume_10  dayofweek  quarter  month  monthofquarter  dayofyear  \\\n",
            "10    22622372.0          4        2      5               1        132   \n",
            "11    14152004.0          0        2      5               1        135   \n",
            "12     9754789.0          1        2      5               1        136   \n",
            "13    13950914.0          2        2      5               1        137   \n",
            "14    24534923.0          3        2      5               1        138   \n",
            "...          ...        ...      ...    ...             ...        ...   \n",
            "1108  19056690.0          3        4     10               2        294   \n",
            "1109   9984651.0          4        4     10               2        295   \n",
            "1110  16521128.0          0        4     10               2        298   \n",
            "1111  20686981.0          1        4     10               2        299   \n",
            "1112  33763609.0          2        4     10               2        300   \n",
            "\n",
            "      dayofmonth  weekofyear  year  \n",
            "10            12          19  2017  \n",
            "11            15          20  2017  \n",
            "12            16          20  2017  \n",
            "13            17          20  2017  \n",
            "14            18          20  2017  \n",
            "...          ...         ...   ...  \n",
            "1108          21          42  2021  \n",
            "1109          22          42  2021  \n",
            "1110          25          43  2021  \n",
            "1111          26          43  2021  \n",
            "1112          27          43  2021  \n",
            "\n",
            "[1103 rows x 48 columns] \n",
            "\n",
            "         close_3      open_3      high_3       low_3     volume_3     close_4  \\\n",
            "607   254.550003  256.200012  261.399994  251.500000   43272106.0  254.149994   \n",
            "726   175.500000  187.550003  188.199997  175.000000   64448494.0  186.550003   \n",
            "932   282.100006  285.600006  290.649994  279.100006   42300984.0  282.350006   \n",
            "1170  508.350006  509.000000  510.350006  505.149994    8724574.0  511.350006   \n",
            "425   305.299988  306.000000  307.100006  300.750000   21109911.0  305.299988   \n",
            "...          ...         ...         ...         ...          ...         ...   \n",
            "606   254.149994  258.000000  258.000000  252.600006   37577511.0  260.950012   \n",
            "766   187.800003  176.550003  189.800003  176.000000  201321234.0  174.050003   \n",
            "790   199.100006  192.800003  201.000000  192.550003   89539723.0  191.899994   \n",
            "898   269.549988  269.000000  271.000000  265.549988   38676657.0  270.350006   \n",
            "381   294.950012  286.450012  300.000000  283.500000   44619891.0  285.350006   \n",
            "\n",
            "          open_4      high_4       low_4     volume_4  ...      low_10  \\\n",
            "607   258.000000  258.000000  252.600006   37577511.0  ...  270.149994   \n",
            "726   194.000000  194.500000  185.250000   52954239.0  ...  173.550003   \n",
            "932   271.899994  283.350006  269.500000   48717297.0  ...  296.399994   \n",
            "1170  510.000000  512.849976  507.000000   10450974.0  ...  479.149994   \n",
            "425   295.799988  306.000000  294.750000   22949961.0  ...  295.500000   \n",
            "...          ...         ...         ...          ...  ...         ...   \n",
            "606   250.100006  262.000000  244.350006   60328507.0  ...  280.000000   \n",
            "766   174.899994  177.649994  171.500000   83494674.0  ...  150.800003   \n",
            "790   188.899994  197.449997  188.399994  143063102.0  ...  177.250000   \n",
            "898   272.100006  274.899994  269.200012   48495641.0  ...  244.250000   \n",
            "381   287.899994  292.799988  283.200012   27760214.0  ...  248.399994   \n",
            "\n",
            "       volume_10  dayofweek  quarter  month  monthofquarter  dayofyear  \\\n",
            "607   41094131.0          2        4     10               2        289   \n",
            "726   67491360.0          3        2      4               0        100   \n",
            "932   35803901.0          2        1      2               2         34   \n",
            "1170  24694169.0          2        1      1               1         19   \n",
            "425    9526067.0          0        1      1               1         14   \n",
            "...          ...        ...      ...    ...             ...        ...   \n",
            "606   37851718.0          1        4     10               2        288   \n",
            "766   88195120.0          2        2      6               2        162   \n",
            "790   43613239.0          1        3      7               3        196   \n",
            "898   37003272.0          1        4     12               0        350   \n",
            "381   33066232.0          4        4     11               3        313   \n",
            "\n",
            "      dayofmonth  weekofyear  year  \n",
            "607           16          42  2019  \n",
            "726            9          15  2020  \n",
            "932            3           5  2021  \n",
            "1170          19           3  2022  \n",
            "425           14           3  2019  \n",
            "...          ...         ...   ...  \n",
            "606           15          42  2019  \n",
            "766           10          24  2020  \n",
            "790           14          29  2020  \n",
            "898           15          51  2020  \n",
            "381            9          45  2018  \n",
            "\n",
            "[246 rows x 48 columns] \n",
            "\n",
            "316     1\n",
            "1107    1\n",
            "20      0\n",
            "545     1\n",
            "438     1\n",
            "       ..\n",
            "1054    1\n",
            "1105    1\n",
            "1140    1\n",
            "870     1\n",
            "1136    1\n",
            "Name: target, Length: 980, dtype: int64 \n",
            "\n",
            "607     1\n",
            "726     1\n",
            "932     1\n",
            "1170    1\n",
            "425     0\n",
            "       ..\n",
            "606     1\n",
            "766     0\n",
            "790     0\n",
            "898     1\n",
            "381     0\n",
            "Name: target, Length: 246, dtype: int64 \n",
            "\n"
          ]
        }
      ]
    },
    {
      "cell_type": "code",
      "source": [
        "tf.random.set_seed(42)\n",
        "\n",
        "\n",
        "# CREATE MODEL\n",
        "\n",
        "model_1 = keras.Sequential([keras.layers.Dense(10, activation='relu'),keras.layers.Dense(1, activation='sigmoid')], name='model_1')\n",
        "\n",
        "\n",
        "# COMPILE MODEL\n",
        "\n",
        "model_1.compile(loss='binary_crossentropy',optimizer=keras.optimizers.Adam(),metrics='accuracy')\n",
        "\n",
        "\n",
        "# CREATE LEARNING RATE CALL BACK\n",
        "\n",
        "lr_scheduler = keras.callbacks.LearningRateScheduler(lambda epoch: 1e-4 * 10**(epoch/20))\n",
        "\n",
        "\n",
        "# FIT MODEL\n",
        "\n",
        "m1 = model_1.fit(x_train_scaled, y_train,verbose=2,epochs=60,validation_data=(x_test,y_test),callbacks=lr_scheduler,)"
      ],
      "metadata": {
        "colab": {
          "base_uri": "https://localhost:8080/"
        },
        "id": "MhvJfhYLXOPO",
        "outputId": "8abbb332-b08f-43b6-8e08-c5b3dceb75e1"
      },
      "execution_count": null,
      "outputs": [
        {
          "output_type": "stream",
          "name": "stdout",
          "text": [
            "Epoch 1/60\n",
            "31/31 - 1s - loss: 2651138.0000 - accuracy: 0.5122 - val_loss: 2199562.7500 - val_accuracy: 0.5000 - lr: 1.0000e-04 - 1s/epoch - 39ms/step\n",
            "Epoch 2/60\n",
            "31/31 - 0s - loss: 2163642.7500 - accuracy: 0.5041 - val_loss: 1835671.3750 - val_accuracy: 0.5244 - lr: 1.1220e-04 - 120ms/epoch - 4ms/step\n",
            "Epoch 3/60\n",
            "31/31 - 0s - loss: 1886597.6250 - accuracy: 0.5255 - val_loss: 1648659.6250 - val_accuracy: 0.5203 - lr: 1.2589e-04 - 243ms/epoch - 8ms/step\n",
            "Epoch 4/60\n",
            "31/31 - 0s - loss: 1754038.8750 - accuracy: 0.5102 - val_loss: 1557557.1250 - val_accuracy: 0.5041 - lr: 1.4125e-04 - 196ms/epoch - 6ms/step\n",
            "Epoch 5/60\n",
            "31/31 - 0s - loss: 1644337.2500 - accuracy: 0.5082 - val_loss: 1452974.5000 - val_accuracy: 0.5163 - lr: 1.5849e-04 - 233ms/epoch - 8ms/step\n",
            "Epoch 6/60\n",
            "31/31 - 0s - loss: 1525916.1250 - accuracy: 0.5092 - val_loss: 1343413.2500 - val_accuracy: 0.5081 - lr: 1.7783e-04 - 125ms/epoch - 4ms/step\n",
            "Epoch 7/60\n",
            "31/31 - 0s - loss: 1398686.2500 - accuracy: 0.5102 - val_loss: 1220231.2500 - val_accuracy: 0.5163 - lr: 1.9953e-04 - 126ms/epoch - 4ms/step\n",
            "Epoch 8/60\n",
            "31/31 - 0s - loss: 1286642.5000 - accuracy: 0.5122 - val_loss: 1125775.5000 - val_accuracy: 0.5163 - lr: 2.2387e-04 - 110ms/epoch - 4ms/step\n",
            "Epoch 9/60\n",
            "31/31 - 0s - loss: 1191514.0000 - accuracy: 0.5143 - val_loss: 1037681.8125 - val_accuracy: 0.5163 - lr: 2.5119e-04 - 156ms/epoch - 5ms/step\n",
            "Epoch 10/60\n",
            "31/31 - 0s - loss: 1106901.1250 - accuracy: 0.5082 - val_loss: 958057.1250 - val_accuracy: 0.5203 - lr: 2.8184e-04 - 90ms/epoch - 3ms/step\n",
            "Epoch 11/60\n",
            "31/31 - 0s - loss: 1015699.2500 - accuracy: 0.5163 - val_loss: 880454.9375 - val_accuracy: 0.5244 - lr: 3.1623e-04 - 92ms/epoch - 3ms/step\n",
            "Epoch 12/60\n",
            "31/31 - 0s - loss: 928098.0000 - accuracy: 0.5163 - val_loss: 831296.1250 - val_accuracy: 0.5163 - lr: 3.5481e-04 - 73ms/epoch - 2ms/step\n",
            "Epoch 13/60\n",
            "31/31 - 0s - loss: 846587.5000 - accuracy: 0.5082 - val_loss: 725103.5625 - val_accuracy: 0.5163 - lr: 3.9811e-04 - 70ms/epoch - 2ms/step\n",
            "Epoch 14/60\n",
            "31/31 - 0s - loss: 769718.6250 - accuracy: 0.5133 - val_loss: 639014.0625 - val_accuracy: 0.5081 - lr: 4.4668e-04 - 92ms/epoch - 3ms/step\n",
            "Epoch 15/60\n",
            "31/31 - 0s - loss: 684718.6875 - accuracy: 0.5082 - val_loss: 549748.3125 - val_accuracy: 0.5000 - lr: 5.0119e-04 - 90ms/epoch - 3ms/step\n",
            "Epoch 16/60\n",
            "31/31 - 0s - loss: 601166.0000 - accuracy: 0.5051 - val_loss: 466778.2188 - val_accuracy: 0.5041 - lr: 5.6234e-04 - 88ms/epoch - 3ms/step\n",
            "Epoch 17/60\n",
            "31/31 - 0s - loss: 517926.5938 - accuracy: 0.5173 - val_loss: 379738.5312 - val_accuracy: 0.5488 - lr: 6.3096e-04 - 91ms/epoch - 3ms/step\n",
            "Epoch 18/60\n",
            "31/31 - 0s - loss: 437985.8438 - accuracy: 0.5071 - val_loss: 299242.8438 - val_accuracy: 0.5407 - lr: 7.0795e-04 - 74ms/epoch - 2ms/step\n",
            "Epoch 19/60\n",
            "31/31 - 0s - loss: 376346.8125 - accuracy: 0.5173 - val_loss: 221405.5469 - val_accuracy: 0.5569 - lr: 7.9433e-04 - 77ms/epoch - 2ms/step\n",
            "Epoch 20/60\n",
            "31/31 - 0s - loss: 273652.7188 - accuracy: 0.5082 - val_loss: 155090.6094 - val_accuracy: 0.5772 - lr: 8.9125e-04 - 69ms/epoch - 2ms/step\n",
            "Epoch 21/60\n",
            "31/31 - 0s - loss: 214317.7656 - accuracy: 0.5112 - val_loss: 104898.4688 - val_accuracy: 0.5285 - lr: 0.0010 - 81ms/epoch - 3ms/step\n",
            "Epoch 22/60\n",
            "31/31 - 0s - loss: 198199.5781 - accuracy: 0.4867 - val_loss: 130115.6562 - val_accuracy: 0.5203 - lr: 0.0011 - 88ms/epoch - 3ms/step\n",
            "Epoch 23/60\n",
            "31/31 - 0s - loss: 164087.3594 - accuracy: 0.5153 - val_loss: 103976.6562 - val_accuracy: 0.5244 - lr: 0.0013 - 76ms/epoch - 2ms/step\n",
            "Epoch 24/60\n",
            "31/31 - 0s - loss: 173461.2188 - accuracy: 0.5092 - val_loss: 60820.8125 - val_accuracy: 0.5203 - lr: 0.0014 - 77ms/epoch - 2ms/step\n",
            "Epoch 25/60\n",
            "31/31 - 0s - loss: 148885.7812 - accuracy: 0.5082 - val_loss: 125354.6250 - val_accuracy: 0.4919 - lr: 0.0016 - 85ms/epoch - 3ms/step\n",
            "Epoch 26/60\n",
            "31/31 - 0s - loss: 158542.0781 - accuracy: 0.5000 - val_loss: 95918.1328 - val_accuracy: 0.4837 - lr: 0.0018 - 97ms/epoch - 3ms/step\n",
            "Epoch 27/60\n",
            "31/31 - 0s - loss: 136109.2031 - accuracy: 0.5276 - val_loss: 69458.4375 - val_accuracy: 0.5041 - lr: 0.0020 - 85ms/epoch - 3ms/step\n",
            "Epoch 28/60\n",
            "31/31 - 0s - loss: 141746.4844 - accuracy: 0.5010 - val_loss: 65769.7656 - val_accuracy: 0.5000 - lr: 0.0022 - 83ms/epoch - 3ms/step\n",
            "Epoch 29/60\n",
            "31/31 - 0s - loss: 163440.2969 - accuracy: 0.5153 - val_loss: 42995.3750 - val_accuracy: 0.4837 - lr: 0.0025 - 73ms/epoch - 2ms/step\n",
            "Epoch 30/60\n",
            "31/31 - 0s - loss: 238764.5000 - accuracy: 0.4857 - val_loss: 68016.9141 - val_accuracy: 0.4878 - lr: 0.0028 - 72ms/epoch - 2ms/step\n",
            "Epoch 31/60\n",
            "31/31 - 0s - loss: 159398.0781 - accuracy: 0.4980 - val_loss: 128579.1875 - val_accuracy: 0.5041 - lr: 0.0032 - 84ms/epoch - 3ms/step\n",
            "Epoch 32/60\n",
            "31/31 - 0s - loss: 177897.3125 - accuracy: 0.4908 - val_loss: 63641.0625 - val_accuracy: 0.5366 - lr: 0.0035 - 77ms/epoch - 2ms/step\n",
            "Epoch 33/60\n",
            "31/31 - 0s - loss: 242671.0000 - accuracy: 0.4867 - val_loss: 259065.2500 - val_accuracy: 0.5000 - lr: 0.0040 - 77ms/epoch - 2ms/step\n",
            "Epoch 34/60\n",
            "31/31 - 0s - loss: 222695.4688 - accuracy: 0.5082 - val_loss: 55966.4375 - val_accuracy: 0.4919 - lr: 0.0045 - 75ms/epoch - 2ms/step\n",
            "Epoch 35/60\n",
            "31/31 - 0s - loss: 152430.0625 - accuracy: 0.4980 - val_loss: 89963.6953 - val_accuracy: 0.5122 - lr: 0.0050 - 73ms/epoch - 2ms/step\n",
            "Epoch 36/60\n",
            "31/31 - 0s - loss: 152550.4375 - accuracy: 0.5010 - val_loss: 36766.7969 - val_accuracy: 0.4959 - lr: 0.0056 - 82ms/epoch - 3ms/step\n",
            "Epoch 37/60\n",
            "31/31 - 0s - loss: 133063.9531 - accuracy: 0.4929 - val_loss: 184465.4688 - val_accuracy: 0.4919 - lr: 0.0063 - 82ms/epoch - 3ms/step\n",
            "Epoch 38/60\n",
            "31/31 - 0s - loss: 247865.4375 - accuracy: 0.5092 - val_loss: 391023.0938 - val_accuracy: 0.5000 - lr: 0.0071 - 69ms/epoch - 2ms/step\n",
            "Epoch 39/60\n",
            "31/31 - 0s - loss: 354870.3125 - accuracy: 0.4918 - val_loss: 394868.0625 - val_accuracy: 0.4919 - lr: 0.0079 - 81ms/epoch - 3ms/step\n",
            "Epoch 40/60\n",
            "31/31 - 0s - loss: 320428.2188 - accuracy: 0.5082 - val_loss: 72247.2578 - val_accuracy: 0.5163 - lr: 0.0089 - 75ms/epoch - 2ms/step\n",
            "Epoch 41/60\n",
            "31/31 - 0s - loss: 216707.9219 - accuracy: 0.5010 - val_loss: 482823.3125 - val_accuracy: 0.4919 - lr: 0.0100 - 74ms/epoch - 2ms/step\n",
            "Epoch 42/60\n",
            "31/31 - 0s - loss: 262329.0625 - accuracy: 0.5153 - val_loss: 37412.8320 - val_accuracy: 0.4919 - lr: 0.0112 - 85ms/epoch - 3ms/step\n",
            "Epoch 43/60\n",
            "31/31 - 0s - loss: 182329.3438 - accuracy: 0.4969 - val_loss: 391002.8750 - val_accuracy: 0.4919 - lr: 0.0126 - 85ms/epoch - 3ms/step\n",
            "Epoch 44/60\n",
            "31/31 - 0s - loss: 191307.2656 - accuracy: 0.4918 - val_loss: 360789.0938 - val_accuracy: 0.4919 - lr: 0.0141 - 74ms/epoch - 2ms/step\n",
            "Epoch 45/60\n",
            "31/31 - 0s - loss: 189722.9844 - accuracy: 0.5102 - val_loss: 51072.0430 - val_accuracy: 0.4715 - lr: 0.0158 - 87ms/epoch - 3ms/step\n",
            "Epoch 46/60\n",
            "31/31 - 0s - loss: 166042.1719 - accuracy: 0.5061 - val_loss: 395624.3750 - val_accuracy: 0.4919 - lr: 0.0178 - 85ms/epoch - 3ms/step\n",
            "Epoch 47/60\n",
            "31/31 - 0s - loss: 245156.4062 - accuracy: 0.5184 - val_loss: 256995.2344 - val_accuracy: 0.5122 - lr: 0.0200 - 77ms/epoch - 2ms/step\n",
            "Epoch 48/60\n",
            "31/31 - 0s - loss: 254973.1562 - accuracy: 0.4969 - val_loss: 112357.4141 - val_accuracy: 0.5122 - lr: 0.0224 - 71ms/epoch - 2ms/step\n",
            "Epoch 49/60\n",
            "31/31 - 0s - loss: 105261.1016 - accuracy: 0.5010 - val_loss: 92663.9219 - val_accuracy: 0.4837 - lr: 0.0251 - 87ms/epoch - 3ms/step\n",
            "Epoch 50/60\n",
            "31/31 - 0s - loss: 141423.7344 - accuracy: 0.4765 - val_loss: 75610.1797 - val_accuracy: 0.5041 - lr: 0.0282 - 77ms/epoch - 2ms/step\n",
            "Epoch 51/60\n",
            "31/31 - 0s - loss: 119740.0469 - accuracy: 0.4969 - val_loss: 264582.7812 - val_accuracy: 0.4919 - lr: 0.0316 - 75ms/epoch - 2ms/step\n",
            "Epoch 52/60\n",
            "31/31 - 0s - loss: 113255.7656 - accuracy: 0.5031 - val_loss: 104894.4141 - val_accuracy: 0.5000 - lr: 0.0355 - 82ms/epoch - 3ms/step\n",
            "Epoch 53/60\n",
            "31/31 - 0s - loss: 49507.2031 - accuracy: 0.5143 - val_loss: 19200.8223 - val_accuracy: 0.5407 - lr: 0.0398 - 91ms/epoch - 3ms/step\n",
            "Epoch 54/60\n",
            "31/31 - 0s - loss: 19132.8594 - accuracy: 0.5316 - val_loss: 20178.5938 - val_accuracy: 0.4919 - lr: 0.0447 - 79ms/epoch - 3ms/step\n",
            "Epoch 55/60\n",
            "31/31 - 0s - loss: 16637.4121 - accuracy: 0.4898 - val_loss: 11755.2188 - val_accuracy: 0.5081 - lr: 0.0501 - 74ms/epoch - 2ms/step\n",
            "Epoch 56/60\n",
            "31/31 - 0s - loss: 10195.2822 - accuracy: 0.5071 - val_loss: 8296.5840 - val_accuracy: 0.4593 - lr: 0.0562 - 83ms/epoch - 3ms/step\n",
            "Epoch 57/60\n",
            "31/31 - 0s - loss: 5947.8608 - accuracy: 0.5112 - val_loss: 4870.4746 - val_accuracy: 0.4593 - lr: 0.0631 - 75ms/epoch - 2ms/step\n",
            "Epoch 58/60\n",
            "31/31 - 0s - loss: 6776.1064 - accuracy: 0.4918 - val_loss: 4862.4502 - val_accuracy: 0.4878 - lr: 0.0708 - 85ms/epoch - 3ms/step\n",
            "Epoch 59/60\n",
            "31/31 - 0s - loss: 4449.7969 - accuracy: 0.4959 - val_loss: 1761.3268 - val_accuracy: 0.5041 - lr: 0.0794 - 69ms/epoch - 2ms/step\n",
            "Epoch 60/60\n",
            "31/31 - 0s - loss: 606.3726 - accuracy: 0.4908 - val_loss: 1621.5676 - val_accuracy: 0.4715 - lr: 0.0891 - 74ms/epoch - 2ms/step\n"
          ]
        }
      ]
    },
    {
      "cell_type": "code",
      "source": [
        "# plot out the learning rate decay curve\n",
        "\n",
        "# get LR scheduler\n",
        "\n",
        "lrs = 1e-4 * 10**(np.arange(60) / 20) # can also use tf.range(60), where 60 == epochs\n",
        "\n",
        "# get loss\n",
        "\n",
        "loss = m1.history['loss']\n",
        "\n",
        "# plot learning rate decay curve with LR and loss\n",
        "\n",
        "plt.figure(figsize=(12,8))\n",
        "plt.semilogx(lrs, loss)\n",
        "plt.xlabel('learning rate')\n",
        "plt.ylabel('loss')\n",
        "plt.title('learning rate decay curve')"
      ],
      "metadata": {
        "colab": {
          "base_uri": "https://localhost:8080/",
          "height": 534
        },
        "id": "EJQlE-X-XOSC",
        "outputId": "4642f7fa-0e58-45a0-a65e-a3158289a59e"
      },
      "execution_count": null,
      "outputs": [
        {
          "output_type": "execute_result",
          "data": {
            "text/plain": [
              "Text(0.5, 1.0, 'learning rate decay curve')"
            ]
          },
          "metadata": {},
          "execution_count": 42
        },
        {
          "output_type": "display_data",
          "data": {
            "text/plain": [
              "<Figure size 864x576 with 1 Axes>"
            ],
            "image/png": "[encoded data removed]"
          },
          "metadata": {
            "needs_background": "light"
          }
        }
      ]
    },
    {
      "cell_type": "code",
      "source": [
        "plt.figure(figsize=(10,10))\n",
        "pd.DataFrame(m1.history).plot(figsize=(10,7), title='loss curve for model_1', xlabel='epochs')"
      ],
      "metadata": {
        "colab": {
          "base_uri": "https://localhost:8080/",
          "height": 493
        },
        "id": "j4NnZOMhXOVa",
        "outputId": "f6bae985-f0bf-4e9e-bd86-c0a68067b41a"
      },
      "execution_count": null,
      "outputs": [
        {
          "output_type": "execute_result",
          "data": {
            "text/plain": [
              "<matplotlib.axes._subplots.AxesSubplot at 0x7fd953f57d50>"
            ]
          },
          "metadata": {},
          "execution_count": 43
        },
        {
          "output_type": "display_data",
          "data": {
            "text/plain": [
              "<Figure size 720x720 with 0 Axes>"
            ]
          },
          "metadata": {}
        },
        {
          "output_type": "display_data",
          "data": {
            "text/plain": [
              "<Figure size 720x504 with 1 Axes>"
            ],
            "image/png": "[encoded data removed]"
          },
          "metadata": {
            "needs_background": "light"
          }
        }
      ]
    },
    {
      "cell_type": "code",
      "source": [
        "model_1.evaluate(x_test, y_test)\n",
        "# accuracy is 100%"
      ],
      "metadata": {
        "colab": {
          "base_uri": "https://localhost:8080/"
        },
        "id": "2yitonBKXOZQ",
        "outputId": "27d7f568-d300-4035-a9cb-0e4b90192562"
      },
      "execution_count": null,
      "outputs": [
        {
          "output_type": "stream",
          "name": "stdout",
          "text": [
            "8/8 [==============================] - 0s 4ms/step - loss: 1621.5676 - accuracy: 0.4715\n"
          ]
        },
        {
          "output_type": "execute_result",
          "data": {
            "text/plain": [
              "[1621.567626953125, 0.47154471278190613]"
            ]
          },
          "metadata": {},
          "execution_count": 44
        }
      ]
    },
    {
      "cell_type": "code",
      "source": [
        ""
      ],
      "metadata": {
        "id": "nUSydSx6Y9Xj"
      },
      "execution_count": null,
      "outputs": []
    },
    {
      "cell_type": "code",
      "source": [
        ""
      ],
      "metadata": {
        "id": "tK91UydebvGC"
      },
      "execution_count": null,
      "outputs": []
    },
    {
      "cell_type": "code",
      "source": [
        ""
      ],
      "metadata": {
        "id": "6q5R7_vpbvJM"
      },
      "execution_count": null,
      "outputs": []
    },
    {
      "cell_type": "code",
      "source": [
        ""
      ],
      "metadata": {
        "id": "FN3oOTeIbvL8"
      },
      "execution_count": null,
      "outputs": []
    },
    {
      "cell_type": "code",
      "source": [
        ""
      ],
      "metadata": {
        "id": "GFH_bvXYbvOu"
      },
      "execution_count": null,
      "outputs": []
    },
    {
      "cell_type": "code",
      "source": [
        ""
      ],
      "metadata": {
        "id": "1cEkhkzMbvRK"
      },
      "execution_count": null,
      "outputs": []
    },
    {
      "cell_type": "code",
      "source": [
        ""
      ],
      "metadata": {
        "id": "b7WWVSwJbvUB"
      },
      "execution_count": null,
      "outputs": []
    },
    {
      "cell_type": "code",
      "source": [
        "# keras model\n",
        "import tensorflow as tf\n",
        "from tensorflow import keras\n",
        "import numpy as np\n",
        "import pandas as pd\n",
        "import matplotlib.pyplot as plt\n",
        "import sklearn\n",
        "tf.random.set_seed(42)"
      ],
      "metadata": {
        "id": "mk-sRmYcOarg"
      },
      "execution_count": null,
      "outputs": []
    },
    {
      "cell_type": "code",
      "source": [
        "model_1 = tf.keras.Sequential([tf.keras.layers.Dense(1)])"
      ],
      "metadata": {
        "id": "SyJqCHvnOauG"
      },
      "execution_count": null,
      "outputs": []
    },
    {
      "cell_type": "code",
      "source": [
        "optimizer = tf.keras.optimizers.SGD()\n",
        "model_1.compile(loss = tf.keras.losses.BinaryCrossentropy(), metrics = ['accuracy'])\n",
        "\n",
        "model_1.fit(x_train_scaled, y_train, epochs = 5)"
      ],
      "metadata": {
        "colab": {
          "base_uri": "https://localhost:8080/"
        },
        "id": "FTdZbqX5Oawm",
        "outputId": "8ab3ebea-59d5-434b-c1db-f2338c2ee720"
      },
      "execution_count": null,
      "outputs": [
        {
          "output_type": "stream",
          "name": "stdout",
          "text": [
            "Epoch 1/5\n",
            "31/31 [==============================] - 1s 2ms/step - loss: 8.1523 - accuracy: 0.4714\n",
            "Epoch 2/5\n",
            "31/31 [==============================] - 0s 2ms/step - loss: 8.1523 - accuracy: 0.4714\n",
            "Epoch 3/5\n",
            "31/31 [==============================] - 0s 2ms/step - loss: 8.1523 - accuracy: 0.4714\n",
            "Epoch 4/5\n",
            "31/31 [==============================] - 0s 2ms/step - loss: 8.1523 - accuracy: 0.4714\n",
            "Epoch 5/5\n",
            "31/31 [==============================] - 0s 2ms/step - loss: 8.1523 - accuracy: 0.4714\n"
          ]
        },
        {
          "output_type": "execute_result",
          "data": {
            "text/plain": [
              "<keras.callbacks.History at 0x7fd95537c9d0>"
            ]
          },
          "metadata": {},
          "execution_count": 47
        }
      ]
    },
    {
      "cell_type": "code",
      "source": [
        "model_1.fit(x_train_scaled, y_train, epochs = 200, verbose = 0) \n",
        "#we set verbose = 0 to remove training procedure )\n",
        "model_1.evaluate(x_train_scaled, y_train)"
      ],
      "metadata": {
        "colab": {
          "base_uri": "https://localhost:8080/"
        },
        "id": "UrSJBEXDOazQ",
        "outputId": "9146953d-3dca-480c-f7ed-120f2b9172c4"
      },
      "execution_count": null,
      "outputs": [
        {
          "output_type": "stream",
          "name": "stdout",
          "text": [
            "31/31 [==============================] - 0s 1ms/step - loss: 8.1523 - accuracy: 0.4714\n"
          ]
        },
        {
          "output_type": "execute_result",
          "data": {
            "text/plain": [
              "[8.152291297912598, 0.4714285731315613]"
            ]
          },
          "metadata": {},
          "execution_count": 48
        }
      ]
    },
    {
      "cell_type": "code",
      "source": [
        "tf.random.set_seed(42)"
      ],
      "metadata": {
        "id": "BXyiYdwFOZtC"
      },
      "execution_count": null,
      "outputs": []
    },
    {
      "cell_type": "code",
      "source": [
        "model_2 = tf.keras.Sequential([ tf.keras.layers.Dense(1), tf.keras.layers.Dense(1)])\n",
        "\n",
        "model_2.compile(loss = tf.keras.losses.BinaryCrossentropy(),optimizer = tf.keras.optimizers.SGD(),metrics = ['accuracy'])\n",
        "\n",
        "model_2.fit(x_train_scaled, y_train, epochs = 100, verbose = 0)"
      ],
      "metadata": {
        "colab": {
          "base_uri": "https://localhost:8080/"
        },
        "id": "_VLpI1LwOZwT",
        "outputId": "1a054bfe-9b25-446f-a70c-a8d9dd538f66"
      },
      "execution_count": null,
      "outputs": [
        {
          "output_type": "execute_result",
          "data": {
            "text/plain": [
              "<keras.callbacks.History at 0x7fd9551b08d0>"
            ]
          },
          "metadata": {},
          "execution_count": 50
        }
      ]
    },
    {
      "cell_type": "code",
      "source": [
        "model_2.evaluate(x_train_scaled, y_train)"
      ],
      "metadata": {
        "colab": {
          "base_uri": "https://localhost:8080/"
        },
        "id": "xYzrbEGhOZzJ",
        "outputId": "fa4f9123-c26d-424e-e180-1da61dd0aab7"
      },
      "execution_count": null,
      "outputs": [
        {
          "output_type": "stream",
          "name": "stdout",
          "text": [
            "31/31 [==============================] - 0s 1ms/step - loss: 8.1523 - accuracy: 0.4714\n"
          ]
        },
        {
          "output_type": "execute_result",
          "data": {
            "text/plain": [
              "[8.152291297912598, 0.4714285731315613]"
            ]
          },
          "metadata": {},
          "execution_count": 51
        }
      ]
    },
    {
      "cell_type": "code",
      "source": [
        "tf.random.set_seed(42)"
      ],
      "metadata": {
        "id": "K0JpgztlOZ1w"
      },
      "execution_count": null,
      "outputs": []
    },
    {
      "cell_type": "code",
      "source": [
        "model_3 = tf.keras.Sequential([\n",
        "\n",
        "  tf.keras.layers.Dense(100), # add 100 dense neurons\n",
        "\n",
        "  tf.keras.layers.Dense(10),\n",
        "\n",
        "  tf.keras.layers.Dense(1)\n",
        "\n",
        "])\n",
        "\n",
        "model_3.compile(loss=tf.keras.losses.BinaryCrossentropy(),\n",
        "\n",
        "                optimizer=tf.keras.optimizers.Adam(), \n",
        "\n",
        "                metrics=['accuracy'])\n",
        "\n",
        "model_3.fit(x_train_scaled, y_train, epochs=100, verbose=0)"
      ],
      "metadata": {
        "colab": {
          "base_uri": "https://localhost:8080/"
        },
        "id": "WOd_5Qe6ROUo",
        "outputId": "c8267eb8-bd55-4f83-8f7d-228e151b08c0"
      },
      "execution_count": null,
      "outputs": [
        {
          "output_type": "execute_result",
          "data": {
            "text/plain": [
              "<keras.callbacks.History at 0x7fd954f14e10>"
            ]
          },
          "metadata": {},
          "execution_count": 54
        }
      ]
    },
    {
      "cell_type": "code",
      "source": [
        "model_3.evaluate(x_train_scaled, y_train)\n"
      ],
      "metadata": {
        "colab": {
          "base_uri": "https://localhost:8080/"
        },
        "id": "PwrAFLycROXh",
        "outputId": "a46e8cc3-07f1-4f20-df54-e6146e982174"
      },
      "execution_count": null,
      "outputs": [
        {
          "output_type": "stream",
          "name": "stdout",
          "text": [
            "31/31 [==============================] - 0s 1ms/step - loss: 7.6472 - accuracy: 0.5000\n"
          ]
        },
        {
          "output_type": "execute_result",
          "data": {
            "text/plain": [
              "[7.647209644317627, 0.5]"
            ]
          },
          "metadata": {},
          "execution_count": 55
        }
      ]
    },
    {
      "cell_type": "code",
      "source": [
        ""
      ],
      "metadata": {
        "id": "XEGS6bVUROab"
      },
      "execution_count": null,
      "outputs": []
    },
    {
      "cell_type": "code",
      "source": [
        "import matplotlib.pyplot as plt"
      ],
      "metadata": {
        "id": "fPG7sd-1ROdO"
      },
      "execution_count": null,
      "outputs": []
    },
    {
      "cell_type": "code",
      "source": [
        "x_train_scaled, y_train = x[:1000], y[:1000]\n",
        "x_test, y_test = x[1000:], y[1000:]\n",
        "x_train_scaled.shape, x_test.shape"
      ],
      "metadata": {
        "colab": {
          "base_uri": "https://localhost:8080/"
        },
        "id": "tEWTFInJROf3",
        "outputId": "5bc4de95-3a2f-487c-ad46-6a57b0a830db"
      },
      "execution_count": null,
      "outputs": [
        {
          "output_type": "execute_result",
          "data": {
            "text/plain": [
              "((1000, 48), (226, 48))"
            ]
          },
          "metadata": {},
          "execution_count": 60
        }
      ]
    },
    {
      "cell_type": "code",
      "source": [
        "tf.random.set_seed(42)"
      ],
      "metadata": {
        "id": "-UM0xuoJROjD"
      },
      "execution_count": null,
      "outputs": []
    },
    {
      "cell_type": "code",
      "source": [
        "model_4 = tf.keras.Sequential([\n",
        "\n",
        "                               tf.keras.layers.Dense(4, activation = 'relu'), #we may right it \"tf.keras.activations.relu\" too\n",
        "\n",
        "                               tf.keras.layers.Dense(4, activation = 'relu'),\n",
        "\n",
        "                               tf.keras.layers.Dense(1, activation = 'sigmoid')\n",
        "\n",
        "])\n",
        "\n",
        "model_4.compile( loss= tf.keras.losses.binary_crossentropy,\n",
        "\n",
        "                optimizer = tf.keras.optimizers.Adam(lr = 0.01),\n",
        "\n",
        "                metrics = ['accuracy'])\n",
        "\n",
        "history= model_4.fit(x_train_scaled, y_train, epochs = 25, verbose = 0)"
      ],
      "metadata": {
        "colab": {
          "base_uri": "https://localhost:8080/"
        },
        "id": "uvNYMiNaROmN",
        "outputId": "95b239b1-27ab-4688-de6b-5907c0fbe98b"
      },
      "execution_count": null,
      "outputs": [
        {
          "output_type": "stream",
          "name": "stderr",
          "text": [
            "/usr/local/lib/python3.7/dist-packages/keras/optimizer_v2/adam.py:105: UserWarning: The `lr` argument is deprecated, use `learning_rate` instead.\n",
            "  super(Adam, self).__init__(name, **kwargs)\n"
          ]
        }
      ]
    },
    {
      "cell_type": "code",
      "source": [
        "loss, accuracy = model_4.evaluate(x_test, y_test)\n",
        "print(f' Model loss on the test set: {loss}')\n",
        "print(f' Model accuracy on the test set: {100*accuracy}')"
      ],
      "metadata": {
        "colab": {
          "base_uri": "https://localhost:8080/"
        },
        "id": "1kY8vgPtROsR",
        "outputId": "8faea408-65c2-4979-d89f-66d1d13e8802"
      },
      "execution_count": null,
      "outputs": [
        {
          "output_type": "stream",
          "name": "stdout",
          "text": [
            "8/8 [==============================] - 0s 2ms/step - loss: 252.8581 - accuracy: 0.5354\n",
            " Model loss on the test set: 252.8581085205078\n",
            " Model accuracy on the test set: 53.53982448577881\n"
          ]
        }
      ]
    },
    {
      "cell_type": "code",
      "source": [
        "pd.DataFrame(history.history)"
      ],
      "metadata": {
        "colab": {
          "base_uri": "https://localhost:8080/",
          "height": 833
        },
        "id": "jZuk9vWlROzM",
        "outputId": "9aa0ce51-d3c5-44e4-d041-e8d66539e991"
      },
      "execution_count": null,
      "outputs": [
        {
          "output_type": "execute_result",
          "data": {
            "text/plain": [
              "            loss  accuracy\n",
              "0   2.463159e+06     0.504\n",
              "1   3.733006e+04     0.502\n",
              "2   4.821641e+04     0.499\n",
              "3   4.867600e+04     0.486\n",
              "4   2.494095e+04     0.492\n",
              "5   3.042275e+04     0.460\n",
              "6   4.022294e+04     0.481\n",
              "7   2.095037e+04     0.502\n",
              "8   1.273036e+04     0.494\n",
              "9   1.540593e+04     0.488\n",
              "10  2.249387e+04     0.478\n",
              "11  1.473065e+04     0.482\n",
              "12  8.880780e+03     0.511\n",
              "13  7.765360e+03     0.491\n",
              "14  1.636924e+04     0.461\n",
              "15  1.191445e+04     0.497\n",
              "16  3.032239e+03     0.537\n",
              "17  5.960443e+03     0.515\n",
              "18  3.020769e+03     0.492\n",
              "19  6.387525e+03     0.493\n",
              "20  5.721804e+03     0.510\n",
              "21  1.106257e+04     0.485\n",
              "22  1.655941e+03     0.478\n",
              "23  1.209178e+03     0.482\n",
              "24  8.640291e+02     0.518"
            ],
            "text/html": [
              "\n",
              "  <div id=\"df-826ca41d-6c57-49c2-afb6-4c00180c892d\">\n",
              "    <div class=\"colab-df-container\">\n",
              "      <div>\n",
              "<style scoped>\n",
              "    .dataframe tbody tr th:only-of-type {\n",
              "        vertical-align: middle;\n",
              "    }\n",
              "\n",
              "    .dataframe tbody tr th {\n",
              "        vertical-align: top;\n",
              "    }\n",
              "\n",
              "    .dataframe thead th {\n",
              "        text-align: right;\n",
              "    }\n",
              "</style>\n",
              "<table border=\"1\" class=\"dataframe\">\n",
              "  <thead>\n",
              "    <tr style=\"text-align: right;\">\n",
              "      <th></th>\n",
              "      <th>loss</th>\n",
              "      <th>accuracy</th>\n",
              "    </tr>\n",
              "  </thead>\n",
              "  <tbody>\n",
              "    <tr>\n",
              "      <th>0</th>\n",
              "      <td>2.463159e+06</td>\n",
              "      <td>0.504</td>\n",
              "    </tr>\n",
              "    <tr>\n",
              "      <th>1</th>\n",
              "      <td>3.733006e+04</td>\n",
              "      <td>0.502</td>\n",
              "    </tr>\n",
              "    <tr>\n",
              "      <th>2</th>\n",
              "      <td>4.821641e+04</td>\n",
              "      <td>0.499</td>\n",
              "    </tr>\n",
              "    <tr>\n",
              "      <th>3</th>\n",
              "      <td>4.867600e+04</td>\n",
              "      <td>0.486</td>\n",
              "    </tr>\n",
              "    <tr>\n",
              "      <th>4</th>\n",
              "      <td>2.494095e+04</td>\n",
              "      <td>0.492</td>\n",
              "    </tr>\n",
              "    <tr>\n",
              "      <th>5</th>\n",
              "      <td>3.042275e+04</td>\n",
              "      <td>0.460</td>\n",
              "    </tr>\n",
              "    <tr>\n",
              "      <th>6</th>\n",
              "      <td>4.022294e+04</td>\n",
              "      <td>0.481</td>\n",
              "    </tr>\n",
              "    <tr>\n",
              "      <th>7</th>\n",
              "      <td>2.095037e+04</td>\n",
              "      <td>0.502</td>\n",
              "    </tr>\n",
              "    <tr>\n",
              "      <th>8</th>\n",
              "      <td>1.273036e+04</td>\n",
              "      <td>0.494</td>\n",
              "    </tr>\n",
              "    <tr>\n",
              "      <th>9</th>\n",
              "      <td>1.540593e+04</td>\n",
              "      <td>0.488</td>\n",
              "    </tr>\n",
              "    <tr>\n",
              "      <th>10</th>\n",
              "      <td>2.249387e+04</td>\n",
              "      <td>0.478</td>\n",
              "    </tr>\n",
              "    <tr>\n",
              "      <th>11</th>\n",
              "      <td>1.473065e+04</td>\n",
              "      <td>0.482</td>\n",
              "    </tr>\n",
              "    <tr>\n",
              "      <th>12</th>\n",
              "      <td>8.880780e+03</td>\n",
              "      <td>0.511</td>\n",
              "    </tr>\n",
              "    <tr>\n",
              "      <th>13</th>\n",
              "      <td>7.765360e+03</td>\n",
              "      <td>0.491</td>\n",
              "    </tr>\n",
              "    <tr>\n",
              "      <th>14</th>\n",
              "      <td>1.636924e+04</td>\n",
              "      <td>0.461</td>\n",
              "    </tr>\n",
              "    <tr>\n",
              "      <th>15</th>\n",
              "      <td>1.191445e+04</td>\n",
              "      <td>0.497</td>\n",
              "    </tr>\n",
              "    <tr>\n",
              "      <th>16</th>\n",
              "      <td>3.032239e+03</td>\n",
              "      <td>0.537</td>\n",
              "    </tr>\n",
              "    <tr>\n",
              "      <th>17</th>\n",
              "      <td>5.960443e+03</td>\n",
              "      <td>0.515</td>\n",
              "    </tr>\n",
              "    <tr>\n",
              "      <th>18</th>\n",
              "      <td>3.020769e+03</td>\n",
              "      <td>0.492</td>\n",
              "    </tr>\n",
              "    <tr>\n",
              "      <th>19</th>\n",
              "      <td>6.387525e+03</td>\n",
              "      <td>0.493</td>\n",
              "    </tr>\n",
              "    <tr>\n",
              "      <th>20</th>\n",
              "      <td>5.721804e+03</td>\n",
              "      <td>0.510</td>\n",
              "    </tr>\n",
              "    <tr>\n",
              "      <th>21</th>\n",
              "      <td>1.106257e+04</td>\n",
              "      <td>0.485</td>\n",
              "    </tr>\n",
              "    <tr>\n",
              "      <th>22</th>\n",
              "      <td>1.655941e+03</td>\n",
              "      <td>0.478</td>\n",
              "    </tr>\n",
              "    <tr>\n",
              "      <th>23</th>\n",
              "      <td>1.209178e+03</td>\n",
              "      <td>0.482</td>\n",
              "    </tr>\n",
              "    <tr>\n",
              "      <th>24</th>\n",
              "      <td>8.640291e+02</td>\n",
              "      <td>0.518</td>\n",
              "    </tr>\n",
              "  </tbody>\n",
              "</table>\n",
              "</div>\n",
              "      <button class=\"colab-df-convert\" onclick=\"convertToInteractive('df-826ca41d-6c57-49c2-afb6-4c00180c892d')\"\n",
              "              title=\"Convert this dataframe to an interactive table.\"\n",
              "              style=\"display:none;\">\n",
              "        \n",
              "  <svg xmlns=\"http://www.w3.org/2000/svg\" height=\"24px\"viewBox=\"0 0 24 24\"\n",
              "       width=\"24px\">\n",
              "    <path d=\"M0 0h24v24H0V0z\" fill=\"none\"/>\n",
              "    <path d=\"M18.56 5.44l.94 2.06.94-2.06 2.06-.94-2.06-.94-.94-2.06-.94 2.06-2.06.94zm-11 1L8.5 8.5l.94-2.06 2.06-.94-2.06-.94L8.5 2.5l-.94 2.06-2.06.94zm10 10l.94 2.06.94-2.06 2.06-.94-2.06-.94-.94-2.06-.94 2.06-2.06.94z\"/><path d=\"M17.41 7.96l-1.37-1.37c-.4-.4-.92-.59-1.43-.59-.52 0-1.04.2-1.43.59L10.3 9.45l-7.72 7.72c-.78.78-.78 2.05 0 2.83L4 21.41c.39.39.9.59 1.41.59.51 0 1.02-.2 1.41-.59l7.78-7.78 2.81-2.81c.8-.78.8-2.07 0-2.86zM5.41 20L4 18.59l7.72-7.72 1.47 1.35L5.41 20z\"/>\n",
              "  </svg>\n",
              "      </button>\n",
              "      \n",
              "  <style>\n",
              "    .colab-df-container {\n",
              "      display:flex;\n",
              "      flex-wrap:wrap;\n",
              "      gap: 12px;\n",
              "    }\n",
              "\n",
              "    .colab-df-convert {\n",
              "      background-color: #E8F0FE;\n",
              "      border: none;\n",
              "      border-radius: 50%;\n",
              "      cursor: pointer;\n",
              "      display: none;\n",
              "      fill: #1967D2;\n",
              "      height: 32px;\n",
              "      padding: 0 0 0 0;\n",
              "      width: 32px;\n",
              "    }\n",
              "\n",
              "    .colab-df-convert:hover {\n",
              "      background-color: #E2EBFA;\n",
              "      box-shadow: 0px 1px 2px rgba(60, 64, 67, 0.3), 0px 1px 3px 1px rgba(60, 64, 67, 0.15);\n",
              "      fill: #174EA6;\n",
              "    }\n",
              "\n",
              "    [theme=dark] .colab-df-convert {\n",
              "      background-color: #3B4455;\n",
              "      fill: #D2E3FC;\n",
              "    }\n",
              "\n",
              "    [theme=dark] .colab-df-convert:hover {\n",
              "      background-color: #434B5C;\n",
              "      box-shadow: 0px 1px 3px 1px rgba(0, 0, 0, 0.15);\n",
              "      filter: drop-shadow(0px 1px 2px rgba(0, 0, 0, 0.3));\n",
              "      fill: #FFFFFF;\n",
              "    }\n",
              "  </style>\n",
              "\n",
              "      <script>\n",
              "        const buttonEl =\n",
              "          document.querySelector('#df-826ca41d-6c57-49c2-afb6-4c00180c892d button.colab-df-convert');\n",
              "        buttonEl.style.display =\n",
              "          google.colab.kernel.accessAllowed ? 'block' : 'none';\n",
              "\n",
              "        async function convertToInteractive(key) {\n",
              "          const element = document.querySelector('#df-826ca41d-6c57-49c2-afb6-4c00180c892d');\n",
              "          const dataTable =\n",
              "            await google.colab.kernel.invokeFunction('convertToInteractive',\n",
              "                                                     [key], {});\n",
              "          if (!dataTable) return;\n",
              "\n",
              "          const docLinkHtml = 'Like what you see? Visit the ' +\n",
              "            '<a target=\"_blank\" href=https://colab.research.google.com/notebooks/data_table.ipynb>data table notebook</a>'\n",
              "            + ' to learn more about interactive tables.';\n",
              "          element.innerHTML = '';\n",
              "          dataTable['output_type'] = 'display_data';\n",
              "          await google.colab.output.renderOutput(dataTable, element);\n",
              "          const docLink = document.createElement('div');\n",
              "          docLink.innerHTML = docLinkHtml;\n",
              "          element.appendChild(docLink);\n",
              "        }\n",
              "      </script>\n",
              "    </div>\n",
              "  </div>\n",
              "  "
            ]
          },
          "metadata": {},
          "execution_count": 67
        }
      ]
    },
    {
      "cell_type": "code",
      "source": [
        "pd.DataFrame(history.history).plot()\n",
        "plt.title(\"Model_4 training curves\")"
      ],
      "metadata": {
        "colab": {
          "base_uri": "https://localhost:8080/",
          "height": 298
        },
        "id": "7wRdIoXLRO19",
        "outputId": "9e4a1d44-3193-43a9-f003-0fc9e985129e"
      },
      "execution_count": null,
      "outputs": [
        {
          "output_type": "execute_result",
          "data": {
            "text/plain": [
              "Text(0.5, 1.0, 'Model_4 training curves')"
            ]
          },
          "metadata": {},
          "execution_count": 68
        },
        {
          "output_type": "display_data",
          "data": {
            "text/plain": [
              "<Figure size 432x288 with 1 Axes>"
            ],
            "image/png": "[encoded data removed]"
          },
          "metadata": {
            "needs_background": "light"
          }
        }
      ]
    },
    {
      "cell_type": "code",
      "source": [
        "\n",
        "tf.random.set_seed(42)\n",
        "\n",
        "\n",
        "model_4 = tf.keras.Sequential([\n",
        "  tf.keras.layers.Dense(4, activation=\"relu\"),\n",
        "  tf.keras.layers.Dense(4, activation=\"relu\"),\n",
        "  tf.keras.layers.Dense(1, activation=\"sigmoid\")\n",
        "])\n",
        "\n",
        "# Compile the model\n",
        "model_4.compile(loss=\"binary_crossentropy\", # we can use strings here too\n",
        "              optimizer=\"Adam\", # same as tf.keras.optimizers.Adam() with default settings\n",
        "              metrics=[\"accuracy\"]) \n",
        "\n",
        "# Create a learning rate scheduler callback\n",
        "lr_scheduler = tf.keras.callbacks.LearningRateScheduler(lambda epoch: 1e-4 * 10**(epoch/20)) # traverse a set of learning rate values starting from 1e-4, increasing by 10**(epoch/20) every epoch\n",
        "\n",
        "# Fit the model (passing the lr_scheduler callback)\n",
        "history = model_4.fit(x_train_scaled, \n",
        "                      y_train, \n",
        "                      epochs=100,\n",
        "                      callbacks=[lr_scheduler])"
      ],
      "metadata": {
        "id": "HPSGA-i9RO4r",
        "colab": {
          "base_uri": "https://localhost:8080/"
        },
        "outputId": "a229800b-50ac-4de4-bebc-bdfaab123838"
      },
      "execution_count": null,
      "outputs": [
        {
          "output_type": "stream",
          "name": "stdout",
          "text": [
            "Epoch 1/100\n",
            "32/32 [==============================] - 1s 1ms/step - loss: 17323414.0000 - accuracy: 0.4850 - lr: 1.0000e-04\n",
            "Epoch 2/100\n",
            "32/32 [==============================] - 0s 2ms/step - loss: 16452578.0000 - accuracy: 0.4850 - lr: 1.1220e-04\n",
            "Epoch 3/100\n",
            "32/32 [==============================] - 0s 1ms/step - loss: 15464593.0000 - accuracy: 0.4850 - lr: 1.2589e-04\n",
            "Epoch 4/100\n",
            "32/32 [==============================] - 0s 2ms/step - loss: 14403458.0000 - accuracy: 0.4850 - lr: 1.4125e-04\n",
            "Epoch 5/100\n",
            "32/32 [==============================] - 0s 2ms/step - loss: 13209366.0000 - accuracy: 0.4850 - lr: 1.5849e-04\n",
            "Epoch 6/100\n",
            "32/32 [==============================] - 0s 2ms/step - loss: 11898094.0000 - accuracy: 0.4840 - lr: 1.7783e-04\n",
            "Epoch 7/100\n",
            "32/32 [==============================] - 0s 2ms/step - loss: 10392598.0000 - accuracy: 0.4840 - lr: 1.9953e-04\n",
            "Epoch 8/100\n",
            "32/32 [==============================] - 0s 2ms/step - loss: 8646986.0000 - accuracy: 0.4880 - lr: 2.2387e-04\n",
            "Epoch 9/100\n",
            "32/32 [==============================] - 0s 2ms/step - loss: 6741556.5000 - accuracy: 0.4860 - lr: 2.5119e-04\n",
            "Epoch 10/100\n",
            "32/32 [==============================] - 0s 2ms/step - loss: 4677322.0000 - accuracy: 0.4800 - lr: 2.8184e-04\n",
            "Epoch 11/100\n",
            "32/32 [==============================] - 0s 2ms/step - loss: 2912364.0000 - accuracy: 0.4880 - lr: 3.1623e-04\n",
            "Epoch 12/100\n",
            "32/32 [==============================] - 0s 2ms/step - loss: 1651276.0000 - accuracy: 0.5010 - lr: 3.5481e-04\n",
            "Epoch 13/100\n",
            "32/32 [==============================] - 0s 2ms/step - loss: 1039478.3125 - accuracy: 0.5070 - lr: 3.9811e-04\n",
            "Epoch 14/100\n",
            "32/32 [==============================] - 0s 2ms/step - loss: 785082.6875 - accuracy: 0.5060 - lr: 4.4668e-04\n",
            "Epoch 15/100\n",
            "32/32 [==============================] - 0s 2ms/step - loss: 634276.5625 - accuracy: 0.5040 - lr: 5.0119e-04\n",
            "Epoch 16/100\n",
            "32/32 [==============================] - 0s 2ms/step - loss: 543883.4375 - accuracy: 0.5020 - lr: 5.6234e-04\n",
            "Epoch 17/100\n",
            "32/32 [==============================] - 0s 2ms/step - loss: 466347.2188 - accuracy: 0.5020 - lr: 6.3096e-04\n",
            "Epoch 18/100\n",
            "32/32 [==============================] - 0s 2ms/step - loss: 384079.5625 - accuracy: 0.5110 - lr: 7.0795e-04\n",
            "Epoch 19/100\n",
            "32/32 [==============================] - 0s 2ms/step - loss: 320247.1562 - accuracy: 0.5120 - lr: 7.9433e-04\n",
            "Epoch 20/100\n",
            "32/32 [==============================] - 0s 2ms/step - loss: 276652.8438 - accuracy: 0.5040 - lr: 8.9125e-04\n",
            "Epoch 21/100\n",
            "32/32 [==============================] - 0s 2ms/step - loss: 238788.8750 - accuracy: 0.4880 - lr: 0.0010\n",
            "Epoch 22/100\n",
            "32/32 [==============================] - 0s 2ms/step - loss: 210096.1719 - accuracy: 0.4840 - lr: 0.0011\n",
            "Epoch 23/100\n",
            "32/32 [==============================] - 0s 2ms/step - loss: 189772.4375 - accuracy: 0.4880 - lr: 0.0013\n",
            "Epoch 24/100\n",
            "32/32 [==============================] - 0s 2ms/step - loss: 169353.1250 - accuracy: 0.5000 - lr: 0.0014\n",
            "Epoch 25/100\n",
            "32/32 [==============================] - 0s 1ms/step - loss: 145840.7031 - accuracy: 0.4840 - lr: 0.0016\n",
            "Epoch 26/100\n",
            "32/32 [==============================] - 0s 1ms/step - loss: 117883.7734 - accuracy: 0.4790 - lr: 0.0018\n",
            "Epoch 27/100\n",
            "32/32 [==============================] - 0s 2ms/step - loss: 93504.4609 - accuracy: 0.4850 - lr: 0.0020\n",
            "Epoch 28/100\n",
            "32/32 [==============================] - 0s 2ms/step - loss: 76171.5234 - accuracy: 0.4780 - lr: 0.0022\n",
            "Epoch 29/100\n",
            "32/32 [==============================] - 0s 2ms/step - loss: 58715.4375 - accuracy: 0.4980 - lr: 0.0025\n",
            "Epoch 30/100\n",
            "32/32 [==============================] - 0s 1ms/step - loss: 42088.7969 - accuracy: 0.5000 - lr: 0.0028\n",
            "Epoch 31/100\n",
            "32/32 [==============================] - 0s 2ms/step - loss: 37525.4609 - accuracy: 0.5170 - lr: 0.0032\n",
            "Epoch 32/100\n",
            "32/32 [==============================] - 0s 1ms/step - loss: 32270.5391 - accuracy: 0.5150 - lr: 0.0035\n",
            "Epoch 33/100\n",
            "32/32 [==============================] - 0s 2ms/step - loss: 34040.5859 - accuracy: 0.4840 - lr: 0.0040\n",
            "Epoch 34/100\n",
            "32/32 [==============================] - 0s 2ms/step - loss: 21348.8086 - accuracy: 0.5090 - lr: 0.0045\n",
            "Epoch 35/100\n",
            "32/32 [==============================] - 0s 2ms/step - loss: 15905.8213 - accuracy: 0.5210 - lr: 0.0050\n",
            "Epoch 36/100\n",
            "32/32 [==============================] - 0s 1ms/step - loss: 32741.4062 - accuracy: 0.4920 - lr: 0.0056\n",
            "Epoch 37/100\n",
            "32/32 [==============================] - 0s 2ms/step - loss: 26377.9160 - accuracy: 0.5240 - lr: 0.0063\n",
            "Epoch 38/100\n",
            "32/32 [==============================] - 0s 2ms/step - loss: 25018.5391 - accuracy: 0.4880 - lr: 0.0071\n",
            "Epoch 39/100\n",
            "32/32 [==============================] - 0s 2ms/step - loss: 24772.7949 - accuracy: 0.5160 - lr: 0.0079\n",
            "Epoch 40/100\n",
            "32/32 [==============================] - 0s 2ms/step - loss: 18258.2480 - accuracy: 0.5250 - lr: 0.0089\n",
            "Epoch 41/100\n",
            "32/32 [==============================] - 0s 2ms/step - loss: 25506.8691 - accuracy: 0.5170 - lr: 0.0100\n",
            "Epoch 42/100\n",
            "32/32 [==============================] - 0s 2ms/step - loss: 31911.3340 - accuracy: 0.5230 - lr: 0.0112\n",
            "Epoch 43/100\n",
            "32/32 [==============================] - 0s 2ms/step - loss: 17263.1094 - accuracy: 0.5380 - lr: 0.0126\n",
            "Epoch 44/100\n",
            "32/32 [==============================] - 0s 2ms/step - loss: 31539.5234 - accuracy: 0.5120 - lr: 0.0141\n",
            "Epoch 45/100\n",
            "32/32 [==============================] - 0s 1ms/step - loss: 15755.2051 - accuracy: 0.5380 - lr: 0.0158\n",
            "Epoch 46/100\n",
            "32/32 [==============================] - 0s 2ms/step - loss: 36725.6367 - accuracy: 0.5070 - lr: 0.0178\n",
            "Epoch 47/100\n",
            "32/32 [==============================] - 0s 2ms/step - loss: 28118.7832 - accuracy: 0.5120 - lr: 0.0200\n",
            "Epoch 48/100\n",
            "32/32 [==============================] - 0s 2ms/step - loss: 20317.6367 - accuracy: 0.4990 - lr: 0.0224\n",
            "Epoch 49/100\n",
            "32/32 [==============================] - 0s 2ms/step - loss: 21342.8926 - accuracy: 0.5290 - lr: 0.0251\n",
            "Epoch 50/100\n",
            "32/32 [==============================] - 0s 1ms/step - loss: 17417.2129 - accuracy: 0.5210 - lr: 0.0282\n",
            "Epoch 51/100\n",
            "32/32 [==============================] - 0s 2ms/step - loss: 19689.6543 - accuracy: 0.5240 - lr: 0.0316\n",
            "Epoch 52/100\n",
            "32/32 [==============================] - 0s 2ms/step - loss: 27357.9043 - accuracy: 0.5130 - lr: 0.0355\n",
            "Epoch 53/100\n",
            "32/32 [==============================] - 0s 2ms/step - loss: 6465.8608 - accuracy: 0.5210 - lr: 0.0398\n",
            "Epoch 54/100\n",
            "32/32 [==============================] - 0s 2ms/step - loss: 7369.2866 - accuracy: 0.4900 - lr: 0.0447\n",
            "Epoch 55/100\n",
            "32/32 [==============================] - 0s 1ms/step - loss: 3705.4438 - accuracy: 0.5060 - lr: 0.0501\n",
            "Epoch 56/100\n",
            "32/32 [==============================] - 0s 2ms/step - loss: 4621.1030 - accuracy: 0.5000 - lr: 0.0562\n",
            "Epoch 57/100\n",
            "32/32 [==============================] - 0s 2ms/step - loss: 2221.0876 - accuracy: 0.4900 - lr: 0.0631\n",
            "Epoch 58/100\n",
            "32/32 [==============================] - 0s 2ms/step - loss: 1286.1304 - accuracy: 0.5080 - lr: 0.0708\n",
            "Epoch 59/100\n",
            "32/32 [==============================] - 0s 2ms/step - loss: 900.7737 - accuracy: 0.4990 - lr: 0.0794\n",
            "Epoch 60/100\n",
            "32/32 [==============================] - 0s 1ms/step - loss: 544.8217 - accuracy: 0.4820 - lr: 0.0891\n",
            "Epoch 61/100\n",
            "32/32 [==============================] - 0s 2ms/step - loss: 296.7027 - accuracy: 0.5020 - lr: 0.1000\n",
            "Epoch 62/100\n",
            "32/32 [==============================] - 0s 2ms/step - loss: 27.0616 - accuracy: 0.4930 - lr: 0.1122\n",
            "Epoch 63/100\n",
            "32/32 [==============================] - 0s 2ms/step - loss: 28.9014 - accuracy: 0.4970 - lr: 0.1259\n",
            "Epoch 64/100\n",
            "32/32 [==============================] - 0s 2ms/step - loss: 0.6890 - accuracy: 0.5170 - lr: 0.1413\n",
            "Epoch 65/100\n",
            "32/32 [==============================] - 0s 1ms/step - loss: 16.6917 - accuracy: 0.5160 - lr: 0.1585\n",
            "Epoch 66/100\n",
            "32/32 [==============================] - 0s 1ms/step - loss: 16.0587 - accuracy: 0.4930 - lr: 0.1778\n",
            "Epoch 67/100\n",
            "32/32 [==============================] - 0s 2ms/step - loss: 10.6542 - accuracy: 0.5160 - lr: 0.1995\n",
            "Epoch 68/100\n",
            "32/32 [==============================] - 0s 2ms/step - loss: 14.4391 - accuracy: 0.5160 - lr: 0.2239\n",
            "Epoch 69/100\n",
            "32/32 [==============================] - 0s 2ms/step - loss: 22.3298 - accuracy: 0.5160 - lr: 0.2512\n",
            "Epoch 70/100\n",
            "32/32 [==============================] - 0s 2ms/step - loss: 4.8171 - accuracy: 0.5020 - lr: 0.2818\n",
            "Epoch 71/100\n",
            "32/32 [==============================] - 0s 2ms/step - loss: 0.8342 - accuracy: 0.5180 - lr: 0.3162\n",
            "Epoch 72/100\n",
            "32/32 [==============================] - 0s 2ms/step - loss: 0.6904 - accuracy: 0.4980 - lr: 0.3548\n",
            "Epoch 73/100\n",
            "32/32 [==============================] - 0s 2ms/step - loss: 0.6902 - accuracy: 0.5220 - lr: 0.3981\n",
            "Epoch 74/100\n",
            "32/32 [==============================] - 0s 2ms/step - loss: 0.6960 - accuracy: 0.4820 - lr: 0.4467\n",
            "Epoch 75/100\n",
            "32/32 [==============================] - 0s 2ms/step - loss: 0.6947 - accuracy: 0.4860 - lr: 0.5012\n",
            "Epoch 76/100\n",
            "32/32 [==============================] - 0s 2ms/step - loss: 0.6893 - accuracy: 0.5230 - lr: 0.5623\n",
            "Epoch 77/100\n",
            "32/32 [==============================] - 0s 2ms/step - loss: 0.6900 - accuracy: 0.5190 - lr: 0.6310\n",
            "Epoch 78/100\n",
            "32/32 [==============================] - 0s 2ms/step - loss: 0.6930 - accuracy: 0.5060 - lr: 0.7079\n",
            "Epoch 79/100\n",
            "32/32 [==============================] - 0s 2ms/step - loss: 0.6939 - accuracy: 0.4870 - lr: 0.7943\n",
            "Epoch 80/100\n",
            "32/32 [==============================] - 0s 2ms/step - loss: 0.7059 - accuracy: 0.5060 - lr: 0.8913\n",
            "Epoch 81/100\n",
            "32/32 [==============================] - 0s 2ms/step - loss: 0.7109 - accuracy: 0.4850 - lr: 1.0000\n",
            "Epoch 82/100\n",
            "32/32 [==============================] - 0s 2ms/step - loss: 0.6931 - accuracy: 0.5030 - lr: 1.1220\n",
            "Epoch 83/100\n",
            "32/32 [==============================] - 0s 2ms/step - loss: 0.7173 - accuracy: 0.5210 - lr: 1.2589\n",
            "Epoch 84/100\n",
            "32/32 [==============================] - 0s 2ms/step - loss: 0.7044 - accuracy: 0.4810 - lr: 1.4125\n",
            "Epoch 85/100\n",
            "32/32 [==============================] - 0s 2ms/step - loss: 0.6915 - accuracy: 0.5110 - lr: 1.5849\n",
            "Epoch 86/100\n",
            "32/32 [==============================] - 0s 2ms/step - loss: 0.7233 - accuracy: 0.5130 - lr: 1.7783\n",
            "Epoch 87/100\n",
            "32/32 [==============================] - 0s 2ms/step - loss: 0.6980 - accuracy: 0.5020 - lr: 1.9953\n",
            "Epoch 88/100\n",
            "32/32 [==============================] - 0s 2ms/step - loss: 0.7200 - accuracy: 0.5170 - lr: 2.2387\n",
            "Epoch 89/100\n",
            "32/32 [==============================] - 0s 2ms/step - loss: 0.6952 - accuracy: 0.5310 - lr: 2.5119\n",
            "Epoch 90/100\n",
            "32/32 [==============================] - 0s 2ms/step - loss: 0.7225 - accuracy: 0.5200 - lr: 2.8184\n",
            "Epoch 91/100\n",
            "32/32 [==============================] - 0s 2ms/step - loss: 0.7107 - accuracy: 0.5100 - lr: 3.1623\n",
            "Epoch 92/100\n",
            "32/32 [==============================] - 0s 2ms/step - loss: 0.7467 - accuracy: 0.5120 - lr: 3.5481\n",
            "Epoch 93/100\n",
            "32/32 [==============================] - 0s 2ms/step - loss: 0.7074 - accuracy: 0.5090 - lr: 3.9811\n",
            "Epoch 94/100\n",
            "32/32 [==============================] - 0s 2ms/step - loss: 0.7281 - accuracy: 0.4940 - lr: 4.4668\n",
            "Epoch 95/100\n",
            "32/32 [==============================] - 0s 2ms/step - loss: 0.7393 - accuracy: 0.4990 - lr: 5.0119\n",
            "Epoch 96/100\n",
            "32/32 [==============================] - 0s 2ms/step - loss: 0.7887 - accuracy: 0.4990 - lr: 5.6234\n",
            "Epoch 97/100\n",
            "32/32 [==============================] - 0s 2ms/step - loss: 0.7872 - accuracy: 0.4750 - lr: 6.3096\n",
            "Epoch 98/100\n",
            "32/32 [==============================] - 0s 2ms/step - loss: 0.7679 - accuracy: 0.5110 - lr: 7.0795\n",
            "Epoch 99/100\n",
            "32/32 [==============================] - 0s 2ms/step - loss: 0.8226 - accuracy: 0.5070 - lr: 7.9433\n",
            "Epoch 100/100\n",
            "32/32 [==============================] - 0s 2ms/step - loss: 0.7367 - accuracy: 0.5090 - lr: 8.9125\n"
          ]
        }
      ]
    },
    {
      "cell_type": "code",
      "source": [
        "# Checkout the history\n",
        "pd.DataFrame(history.history).plot(figsize=(10,7), xlabel=\"epochs\");"
      ],
      "metadata": {
        "colab": {
          "base_uri": "https://localhost:8080/",
          "height": 453
        },
        "id": "-EmtMaMgQSy7",
        "outputId": "a680cf37-cc88-43a9-8a32-9dfd899cbb53"
      },
      "execution_count": null,
      "outputs": [
        {
          "output_type": "display_data",
          "data": {
            "text/plain": [
              "<Figure size 720x504 with 1 Axes>"
            ],
            "image/png": "[encoded data removed]"
          },
          "metadata": {
            "needs_background": "light"
          }
        }
      ]
    },
    {
      "cell_type": "code",
      "source": [
        "# Plot the learning rate versus the loss\n",
        "lrs = 1e-4 * (10 ** (np.arange(100)/20))\n",
        "plt.figure(figsize=(10, 7))\n",
        "plt.semilogx(lrs, history.history[\"loss\"]) # we want the x-axis (learning rate) to be log scale\n",
        "plt.xlabel(\"Learning Rate\")\n",
        "plt.ylabel(\"Loss\")\n",
        "plt.title(\"Learning rate vs. loss\");"
      ],
      "metadata": {
        "colab": {
          "base_uri": "https://localhost:8080/",
          "height": 462
        },
        "id": "eip518LqQS5P",
        "outputId": "6fceb561-4cf7-4213-ddb9-e0d17a7f5670"
      },
      "execution_count": null,
      "outputs": [
        {
          "output_type": "display_data",
          "data": {
            "text/plain": [
              "<Figure size 720x504 with 1 Axes>"
            ],
            "image/png": "[encoded data removed]"
          },
          "metadata": {
            "needs_background": "light"
          }
        }
      ]
    },
    {
      "cell_type": "code",
      "source": [
        "# Set the random seed\n",
        "tf.random.set_seed(42)\n",
        "\n",
        "# Create the model\n",
        "model_10 = tf.keras.Sequential([\n",
        "  tf.keras.layers.Dense(4, activation=\"relu\"),\n",
        "  tf.keras.layers.Dense(4, activation=\"relu\"),\n",
        "  tf.keras.layers.Dense(1, activation=\"sigmoid\")\n",
        "])\n",
        "\n",
        "# Compile the model with the ideal learning rate\n",
        "model_10.compile(loss=\"binary_crossentropy\",\n",
        "                optimizer=tf.keras.optimizers.Adam(lr=0.02), # to adjust the learning rate, you need to use tf.keras.optimizers.Adam (not \"adam\")\n",
        "                metrics=[\"accuracy\"])\n",
        "\n",
        "# Fit the model for 20 epochs (5 less than before)\n",
        "history = model_10.fit(x_train_scaled, y_train, epochs=20)"
      ],
      "metadata": {
        "colab": {
          "base_uri": "https://localhost:8080/"
        },
        "id": "xvj5fRFpQTCF",
        "outputId": "087f9c78-6958-452d-d6c3-21539dc9dd0c"
      },
      "execution_count": null,
      "outputs": [
        {
          "output_type": "stream",
          "name": "stdout",
          "text": [
            "Epoch 1/20\n"
          ]
        },
        {
          "output_type": "stream",
          "name": "stderr",
          "text": [
            "/usr/local/lib/python3.7/dist-packages/keras/optimizer_v2/adam.py:105: UserWarning: The `lr` argument is deprecated, use `learning_rate` instead.\n",
            "  super(Adam, self).__init__(name, **kwargs)\n"
          ]
        },
        {
          "output_type": "stream",
          "name": "stdout",
          "text": [
            "32/32 [==============================] - 1s 1ms/step - loss: 1390561.3750 - accuracy: 0.4830\n",
            "Epoch 2/20\n",
            "32/32 [==============================] - 0s 1ms/step - loss: 70588.5547 - accuracy: 0.4870\n",
            "Epoch 3/20\n",
            "32/32 [==============================] - 0s 2ms/step - loss: 28590.0625 - accuracy: 0.5170\n",
            "Epoch 4/20\n",
            "32/32 [==============================] - 0s 1ms/step - loss: 41087.7656 - accuracy: 0.4870\n",
            "Epoch 5/20\n",
            "32/32 [==============================] - 0s 2ms/step - loss: 12389.1299 - accuracy: 0.4900\n",
            "Epoch 6/20\n",
            "32/32 [==============================] - 0s 2ms/step - loss: 12066.2412 - accuracy: 0.4950\n",
            "Epoch 7/20\n",
            "32/32 [==============================] - 0s 2ms/step - loss: 19358.0234 - accuracy: 0.4970\n",
            "Epoch 8/20\n",
            "32/32 [==============================] - 0s 2ms/step - loss: 8182.0146 - accuracy: 0.4990\n",
            "Epoch 9/20\n",
            "32/32 [==============================] - 0s 2ms/step - loss: 763.8158 - accuracy: 0.5120\n",
            "Epoch 10/20\n",
            "32/32 [==============================] - 0s 2ms/step - loss: 683.7903 - accuracy: 0.5120\n",
            "Epoch 11/20\n",
            "32/32 [==============================] - 0s 2ms/step - loss: 1152.4282 - accuracy: 0.5150\n",
            "Epoch 12/20\n",
            "32/32 [==============================] - 0s 2ms/step - loss: 472.6138 - accuracy: 0.4990\n",
            "Epoch 13/20\n",
            "32/32 [==============================] - 0s 2ms/step - loss: 589.3301 - accuracy: 0.4950\n",
            "Epoch 14/20\n",
            "32/32 [==============================] - 0s 2ms/step - loss: 394.2244 - accuracy: 0.5030\n",
            "Epoch 15/20\n",
            "32/32 [==============================] - 0s 2ms/step - loss: 146.4289 - accuracy: 0.5020\n",
            "Epoch 16/20\n",
            "32/32 [==============================] - 0s 2ms/step - loss: 118.4268 - accuracy: 0.4830\n",
            "Epoch 17/20\n",
            "32/32 [==============================] - 0s 2ms/step - loss: 52.5984 - accuracy: 0.5120\n",
            "Epoch 18/20\n",
            "32/32 [==============================] - 0s 1ms/step - loss: 108.8307 - accuracy: 0.5010\n",
            "Epoch 19/20\n",
            "32/32 [==============================] - 0s 2ms/step - loss: 83.1900 - accuracy: 0.4890\n",
            "Epoch 20/20\n",
            "32/32 [==============================] - 0s 1ms/step - loss: 199.0833 - accuracy: 0.4890\n"
          ]
        }
      ]
    },
    {
      "cell_type": "code",
      "source": [
        "# Evaluate model on the test dataset\n",
        "model_10.evaluate(x_test, y_test)"
      ],
      "metadata": {
        "colab": {
          "base_uri": "https://localhost:8080/"
        },
        "id": "3-QguuwYQTLx",
        "outputId": "29680851-b520-4fca-e058-3e472037ce74"
      },
      "execution_count": null,
      "outputs": [
        {
          "output_type": "stream",
          "name": "stdout",
          "text": [
            "8/8 [==============================] - 0s 2ms/step - loss: 23.8246 - accuracy: 0.5354\n"
          ]
        },
        {
          "output_type": "execute_result",
          "data": {
            "text/plain": [
              "[23.824560165405273, 0.5353982448577881]"
            ]
          },
          "metadata": {},
          "execution_count": 74
        }
      ]
    },
    {
      "cell_type": "code",
      "source": [
        "# Check the accuracy of our model\n",
        "loss, accuracy = model_10.evaluate(x_test, y_test)\n",
        "print(f\"Model loss on test set: {loss}\")\n",
        "print(f\"Model accuracy on test set: {(accuracy*100):.2f}%\")"
      ],
      "metadata": {
        "colab": {
          "base_uri": "https://localhost:8080/"
        },
        "id": "uYwLWskKQTfw",
        "outputId": "edd38756-7416-48ab-c83e-075aa2657fc4"
      },
      "execution_count": null,
      "outputs": [
        {
          "output_type": "stream",
          "name": "stdout",
          "text": [
            "8/8 [==============================] - 0s 2ms/step - loss: 23.8246 - accuracy: 0.5354\n",
            "Model loss on test set: 23.824560165405273\n",
            "Model accuracy on test set: 53.54%\n"
          ]
        }
      ]
    },
    {
      "cell_type": "code",
      "source": [
        "y_test, y_test"
      ],
      "metadata": {
        "colab": {
          "base_uri": "https://localhost:8080/"
        },
        "id": "q2ht6qieVskm",
        "outputId": "c18d7a3d-57f7-47aa-8d76-f4911926be6e"
      },
      "execution_count": null,
      "outputs": [
        {
          "output_type": "execute_result",
          "data": {
            "text/plain": [
              "(1010    1\n",
              " 1011    1\n",
              " 1012    1\n",
              " 1013    1\n",
              " 1014    0\n",
              "        ..\n",
              " 1231    1\n",
              " 1232    0\n",
              " 1233    0\n",
              " 1234    0\n",
              " 1235    0\n",
              " Name: target, Length: 226, dtype: int64, 1010    1\n",
              " 1011    1\n",
              " 1012    1\n",
              " 1013    1\n",
              " 1014    0\n",
              "        ..\n",
              " 1231    1\n",
              " 1232    0\n",
              " 1233    0\n",
              " 1234    0\n",
              " 1235    0\n",
              " Name: target, Length: 226, dtype: int64)"
            ]
          },
          "metadata": {},
          "execution_count": 80
        }
      ]
    },
    {
      "cell_type": "code",
      "source": [
        "# Create a confusion matrix\n",
        "from sklearn.metrics import confusion_matrix\n",
        "\n",
        "print(metrics.classification_report(model_10.predict(x_test,y_test)))"
      ],
      "metadata": {
        "colab": {
          "base_uri": "https://localhost:8080/",
          "height": 346
        },
        "id": "ksDTf4AhQTnh",
        "outputId": "d4ae0f5e-a461-4f49-c98c-0d9b55111a5c"
      },
      "execution_count": null,
      "outputs": [
        {
          "output_type": "error",
          "ename": "ValueError",
          "evalue": "ignored",
          "traceback": [
            "\u001b[0;31m---------------------------------------------------------------------------\u001b[0m",
            "\u001b[0;31mValueError\u001b[0m                                Traceback (most recent call last)",
            "\u001b[0;32m<ipython-input-82-2fef382f70bb>\u001b[0m in \u001b[0;36m<module>\u001b[0;34m()\u001b[0m\n\u001b[1;32m      2\u001b[0m \u001b[0;32mfrom\u001b[0m \u001b[0msklearn\u001b[0m\u001b[0;34m.\u001b[0m\u001b[0mmetrics\u001b[0m \u001b[0;32mimport\u001b[0m \u001b[0mconfusion_matrix\u001b[0m\u001b[0;34m\u001b[0m\u001b[0;34m\u001b[0m\u001b[0m\n\u001b[1;32m      3\u001b[0m \u001b[0;34m\u001b[0m\u001b[0m\n\u001b[0;32m----> 4\u001b[0;31m \u001b[0mprint\u001b[0m\u001b[0;34m(\u001b[0m\u001b[0mmetrics\u001b[0m\u001b[0;34m.\u001b[0m\u001b[0mclassification_report\u001b[0m\u001b[0;34m(\u001b[0m\u001b[0mmodel_10\u001b[0m\u001b[0;34m.\u001b[0m\u001b[0mpredict\u001b[0m\u001b[0;34m(\u001b[0m\u001b[0mx_test\u001b[0m\u001b[0;34m,\u001b[0m\u001b[0my_test\u001b[0m\u001b[0;34m)\u001b[0m\u001b[0;34m)\u001b[0m\u001b[0;34m)\u001b[0m\u001b[0;34m\u001b[0m\u001b[0;34m\u001b[0m\u001b[0m\n\u001b[0m",
            "\u001b[0;32m/usr/local/lib/python3.7/dist-packages/keras/utils/traceback_utils.py\u001b[0m in \u001b[0;36merror_handler\u001b[0;34m(*args, **kwargs)\u001b[0m\n\u001b[1;32m     65\u001b[0m     \u001b[0;32mexcept\u001b[0m \u001b[0mException\u001b[0m \u001b[0;32mas\u001b[0m \u001b[0me\u001b[0m\u001b[0;34m:\u001b[0m  \u001b[0;31m# pylint: disable=broad-except\u001b[0m\u001b[0;34m\u001b[0m\u001b[0;34m\u001b[0m\u001b[0m\n\u001b[1;32m     66\u001b[0m       \u001b[0mfiltered_tb\u001b[0m \u001b[0;34m=\u001b[0m \u001b[0m_process_traceback_frames\u001b[0m\u001b[0;34m(\u001b[0m\u001b[0me\u001b[0m\u001b[0;34m.\u001b[0m\u001b[0m__traceback__\u001b[0m\u001b[0;34m)\u001b[0m\u001b[0;34m\u001b[0m\u001b[0;34m\u001b[0m\u001b[0m\n\u001b[0;32m---> 67\u001b[0;31m       \u001b[0;32mraise\u001b[0m \u001b[0me\u001b[0m\u001b[0;34m.\u001b[0m\u001b[0mwith_traceback\u001b[0m\u001b[0;34m(\u001b[0m\u001b[0mfiltered_tb\u001b[0m\u001b[0;34m)\u001b[0m \u001b[0;32mfrom\u001b[0m \u001b[0;32mNone\u001b[0m\u001b[0;34m\u001b[0m\u001b[0;34m\u001b[0m\u001b[0m\n\u001b[0m\u001b[1;32m     68\u001b[0m     \u001b[0;32mfinally\u001b[0m\u001b[0;34m:\u001b[0m\u001b[0;34m\u001b[0m\u001b[0;34m\u001b[0m\u001b[0m\n\u001b[1;32m     69\u001b[0m       \u001b[0;32mdel\u001b[0m \u001b[0mfiltered_tb\u001b[0m\u001b[0;34m\u001b[0m\u001b[0;34m\u001b[0m\u001b[0m\n",
            "\u001b[0;32m/usr/local/lib/python3.7/dist-packages/pandas/core/generic.py\u001b[0m in \u001b[0;36m__nonzero__\u001b[0;34m(self)\u001b[0m\n\u001b[1;32m   1536\u001b[0m     \u001b[0;32mdef\u001b[0m \u001b[0m__nonzero__\u001b[0m\u001b[0;34m(\u001b[0m\u001b[0mself\u001b[0m\u001b[0;34m)\u001b[0m\u001b[0;34m:\u001b[0m\u001b[0;34m\u001b[0m\u001b[0;34m\u001b[0m\u001b[0m\n\u001b[1;32m   1537\u001b[0m         raise ValueError(\n\u001b[0;32m-> 1538\u001b[0;31m             \u001b[0;34mf\"The truth value of a {type(self).__name__} is ambiguous. \"\u001b[0m\u001b[0;34m\u001b[0m\u001b[0;34m\u001b[0m\u001b[0m\n\u001b[0m\u001b[1;32m   1539\u001b[0m             \u001b[0;34m\"Use a.empty, a.bool(), a.item(), a.any() or a.all().\"\u001b[0m\u001b[0;34m\u001b[0m\u001b[0;34m\u001b[0m\u001b[0m\n\u001b[1;32m   1540\u001b[0m         )\n",
            "\u001b[0;31mValueError\u001b[0m: The truth value of a Series is ambiguous. Use a.empty, a.bool(), a.item(), a.any() or a.all()."
          ]
        }
      ]
    },
    {
      "cell_type": "code",
      "source": [
        "confusion_matrix(y_test, tf.round(y_preds))"
      ],
      "metadata": {
        "colab": {
          "base_uri": "https://localhost:8080/",
          "height": 165
        },
        "id": "9Jm1qw3NQTsu",
        "outputId": "88ec702f-6fd7-428c-95ad-7d4bcbee96d7"
      },
      "execution_count": null,
      "outputs": [
        {
          "output_type": "error",
          "ename": "NameError",
          "evalue": "ignored",
          "traceback": [
            "\u001b[0;31m---------------------------------------------------------------------------\u001b[0m",
            "\u001b[0;31mNameError\u001b[0m                                 Traceback (most recent call last)",
            "\u001b[0;32m<ipython-input-78-2bdb38278905>\u001b[0m in \u001b[0;36m<module>\u001b[0;34m()\u001b[0m\n\u001b[0;32m----> 1\u001b[0;31m \u001b[0mconfusion_matrix\u001b[0m\u001b[0;34m(\u001b[0m\u001b[0my_test\u001b[0m\u001b[0;34m,\u001b[0m \u001b[0mtf\u001b[0m\u001b[0;34m.\u001b[0m\u001b[0mround\u001b[0m\u001b[0;34m(\u001b[0m\u001b[0my_preds\u001b[0m\u001b[0;34m)\u001b[0m\u001b[0;34m)\u001b[0m\u001b[0;34m\u001b[0m\u001b[0;34m\u001b[0m\u001b[0m\n\u001b[0m",
            "\u001b[0;31mNameError\u001b[0m: name 'y_preds' is not defined"
          ]
        }
      ]
    },
    {
      "cell_type": "code",
      "source": [
        "import itertools\n",
        "\n",
        "figsize = (10, 10)\n",
        "\n",
        "# Create the confusion matrix\n",
        "cm = confusion_matrix(y_test, tf.round(y_preds))\n",
        "cm_norm = cm.astype(\"float\") / cm.sum(axis=1)[:, np.newaxis] # normalize it\n",
        "n_classes = cm.shape[0]\n",
        "\n",
        "# Let's prettify it\n",
        "fig, ax = plt.subplots(figsize=figsize)\n",
        "# Create a matrix plot\n",
        "cax = ax.matshow(cm, cmap=plt.cm.Blues) # https://matplotlib.org/3.2.0/api/_as_gen/matplotlib.axes.Axes.matshow.html\n",
        "fig.colorbar(cax)\n",
        "\n",
        "# Create classes\n",
        "classes = False\n",
        "\n",
        "if classes:\n",
        "  labels = classes\n",
        "else:\n",
        "  labels = np.arange(cm.shape[0])\n",
        "\n",
        "# Label the axes\n",
        "ax.set(title=\"Confusion Matrix\",\n",
        "       xlabel=\"Predicted label\",\n",
        "       ylabel=\"True label\",\n",
        "       xticks=np.arange(n_classes),\n",
        "       yticks=np.arange(n_classes),\n",
        "       xticklabels=labels,\n",
        "       yticklabels=labels)\n",
        "\n",
        "# Set x-axis labels to bottom\n",
        "ax.xaxis.set_label_position(\"bottom\")\n",
        "ax.xaxis.tick_bottom()\n",
        "\n",
        "# Adjust label size\n",
        "ax.xaxis.label.set_size(20)\n",
        "ax.yaxis.label.set_size(20)\n",
        "ax.title.set_size(20)\n",
        "\n",
        "# Set threshold for different colors\n",
        "threshold = (cm.max() + cm.min()) / 2.\n",
        "\n",
        "# Plot the text on each cell\n",
        "for i, j in itertools.product(range(cm.shape[0]), range(cm.shape[1])):\n",
        "  plt.text(j, i, f\"{cm[i, j]} ({cm_norm[i, j]*100:.1f}%)\",\n",
        "           horizontalalignment=\"center\",\n",
        "           color=\"white\" if cm[i, j] > threshold else \"black\",\n",
        "           size=15)"
      ],
      "metadata": {
        "colab": {
          "base_uri": "https://localhost:8080/",
          "height": 575
        },
        "id": "Tw8kTOwHQTzb",
        "outputId": "a0ba9885-e27d-46c7-b31e-f3bb208d806f"
      },
      "execution_count": null,
      "outputs": [
        {
          "output_type": "display_data",
          "data": {
            "text/plain": [
              "<Figure size 720x720 with 2 Axes>"
            ],
            "image/png": "[encoded data removed]"
          },
          "metadata": {
            "needs_background": "light"
          }
        }
      ]
    },
    {
      "cell_type": "code",
      "source": [
        ""
      ],
      "metadata": {
        "id": "FRXXMDYvRO7l"
      },
      "execution_count": null,
      "outputs": []
    },
    {
      "cell_type": "code",
      "source": [
        ""
      ],
      "metadata": {
        "id": "vE_rlT9gYkRB"
      },
      "execution_count": null,
      "outputs": []
    },
    {
      "cell_type": "code",
      "source": [
        "import pandas as pd\n",
        "\n",
        "from sklearn import preprocessing\n",
        "from sklearn.model_selection import train_test_split\n",
        "\n",
        "import tensorflow as tf\n",
        "\n",
        "model2 = tf.keras.Sequential()\n",
        "\n",
        "model2.add(tf.keras.Input(shape=(2,)))\n",
        "model2.add(tf.keras.layers.Dense(8, activation='relu'))\n",
        "model2.add(tf.keras.layers.Dense(1, activation=\"sigmoid\"))\n",
        "\n",
        "model2.summary()"
      ],
      "metadata": {
        "colab": {
          "base_uri": "https://localhost:8080/"
        },
        "id": "Ce0DWjs0w5q-",
        "outputId": "a4053a90-6903-44bf-901c-c9015c9c12e3"
      },
      "execution_count": null,
      "outputs": [
        {
          "output_type": "stream",
          "name": "stdout",
          "text": [
            "Model: \"sequential_4\"\n",
            "_________________________________________________________________\n",
            " Layer (type)                Output Shape              Param #   \n",
            "=================================================================\n",
            " dense_6 (Dense)             (None, 8)                 24        \n",
            "                                                                 \n",
            " dense_7 (Dense)             (None, 1)                 9         \n",
            "                                                                 \n",
            "=================================================================\n",
            "Total params: 33\n",
            "Trainable params: 33\n",
            "Non-trainable params: 0\n",
            "_________________________________________________________________\n"
          ]
        }
      ]
    },
    {
      "cell_type": "code",
      "source": [
        "# loss function\n",
        "loss_fn = tf.keras.losses.BinaryCrossentropy()\n",
        "\n",
        "# optimizer\n",
        "optimizer = tf.keras.optimizers.Adam(0.003)\n",
        "model2.compile(optimizer=optimizer,\n",
        "              loss=loss_fn,\n",
        "              metrics=['accuracy'],\n",
        "              )"
      ],
      "metadata": {
        "id": "lz1iars-e_jP"
      },
      "execution_count": null,
      "outputs": []
    },
    {
      "cell_type": "code",
      "source": [
        "history = model2.fit(x_train_scaled,y_train,batch_size=16,\n",
        "                epochs=15,\n",
        "                validation_data=(x_test,y_test),\n",
        "                verbose=True)"
      ],
      "metadata": {
        "colab": {
          "base_uri": "https://localhost:8080/",
          "height": 623
        },
        "id": "WLGq658ibLpH",
        "outputId": "387b819b-2e89-43d6-aadf-ce2258f8b0a5"
      },
      "execution_count": null,
      "outputs": [
        {
          "output_type": "stream",
          "name": "stdout",
          "text": [
            "Epoch 1/15\n"
          ]
        },
        {
          "output_type": "error",
          "ename": "ValueError",
          "evalue": "ignored",
          "traceback": [
            "\u001b[0;31m---------------------------------------------------------------------------\u001b[0m",
            "\u001b[0;31mValueError\u001b[0m                                Traceback (most recent call last)",
            "\u001b[0;32m<ipython-input-67-d7af3f68a79c>\u001b[0m in \u001b[0;36m<module>\u001b[0;34m()\u001b[0m\n\u001b[1;32m      2\u001b[0m                 \u001b[0mepochs\u001b[0m\u001b[0;34m=\u001b[0m\u001b[0;36m15\u001b[0m\u001b[0;34m,\u001b[0m\u001b[0;34m\u001b[0m\u001b[0;34m\u001b[0m\u001b[0m\n\u001b[1;32m      3\u001b[0m                 \u001b[0mvalidation_data\u001b[0m\u001b[0;34m=\u001b[0m\u001b[0;34m(\u001b[0m\u001b[0mx_test\u001b[0m\u001b[0;34m,\u001b[0m\u001b[0my_test\u001b[0m\u001b[0;34m)\u001b[0m\u001b[0;34m,\u001b[0m\u001b[0;34m\u001b[0m\u001b[0;34m\u001b[0m\u001b[0m\n\u001b[0;32m----> 4\u001b[0;31m                 verbose=True)\n\u001b[0m",
            "\u001b[0;32m/usr/local/lib/python3.7/dist-packages/keras/utils/traceback_utils.py\u001b[0m in \u001b[0;36merror_handler\u001b[0;34m(*args, **kwargs)\u001b[0m\n\u001b[1;32m     65\u001b[0m     \u001b[0;32mexcept\u001b[0m \u001b[0mException\u001b[0m \u001b[0;32mas\u001b[0m \u001b[0me\u001b[0m\u001b[0;34m:\u001b[0m  \u001b[0;31m# pylint: disable=broad-except\u001b[0m\u001b[0;34m\u001b[0m\u001b[0;34m\u001b[0m\u001b[0m\n\u001b[1;32m     66\u001b[0m       \u001b[0mfiltered_tb\u001b[0m \u001b[0;34m=\u001b[0m \u001b[0m_process_traceback_frames\u001b[0m\u001b[0;34m(\u001b[0m\u001b[0me\u001b[0m\u001b[0;34m.\u001b[0m\u001b[0m__traceback__\u001b[0m\u001b[0;34m)\u001b[0m\u001b[0;34m\u001b[0m\u001b[0;34m\u001b[0m\u001b[0m\n\u001b[0;32m---> 67\u001b[0;31m       \u001b[0;32mraise\u001b[0m \u001b[0me\u001b[0m\u001b[0;34m.\u001b[0m\u001b[0mwith_traceback\u001b[0m\u001b[0;34m(\u001b[0m\u001b[0mfiltered_tb\u001b[0m\u001b[0;34m)\u001b[0m \u001b[0;32mfrom\u001b[0m \u001b[0;32mNone\u001b[0m\u001b[0;34m\u001b[0m\u001b[0;34m\u001b[0m\u001b[0m\n\u001b[0m\u001b[1;32m     68\u001b[0m     \u001b[0;32mfinally\u001b[0m\u001b[0;34m:\u001b[0m\u001b[0;34m\u001b[0m\u001b[0;34m\u001b[0m\u001b[0m\n\u001b[1;32m     69\u001b[0m       \u001b[0;32mdel\u001b[0m \u001b[0mfiltered_tb\u001b[0m\u001b[0;34m\u001b[0m\u001b[0;34m\u001b[0m\u001b[0m\n",
            "\u001b[0;32m/usr/local/lib/python3.7/dist-packages/tensorflow/python/framework/func_graph.py\u001b[0m in \u001b[0;36mautograph_handler\u001b[0;34m(*args, **kwargs)\u001b[0m\n\u001b[1;32m   1145\u001b[0m           \u001b[0;32mexcept\u001b[0m \u001b[0mException\u001b[0m \u001b[0;32mas\u001b[0m \u001b[0me\u001b[0m\u001b[0;34m:\u001b[0m  \u001b[0;31m# pylint:disable=broad-except\u001b[0m\u001b[0;34m\u001b[0m\u001b[0;34m\u001b[0m\u001b[0m\n\u001b[1;32m   1146\u001b[0m             \u001b[0;32mif\u001b[0m \u001b[0mhasattr\u001b[0m\u001b[0;34m(\u001b[0m\u001b[0me\u001b[0m\u001b[0;34m,\u001b[0m \u001b[0;34m\"ag_error_metadata\"\u001b[0m\u001b[0;34m)\u001b[0m\u001b[0;34m:\u001b[0m\u001b[0;34m\u001b[0m\u001b[0;34m\u001b[0m\u001b[0m\n\u001b[0;32m-> 1147\u001b[0;31m               \u001b[0;32mraise\u001b[0m \u001b[0me\u001b[0m\u001b[0;34m.\u001b[0m\u001b[0mag_error_metadata\u001b[0m\u001b[0;34m.\u001b[0m\u001b[0mto_exception\u001b[0m\u001b[0;34m(\u001b[0m\u001b[0me\u001b[0m\u001b[0;34m)\u001b[0m\u001b[0;34m\u001b[0m\u001b[0;34m\u001b[0m\u001b[0m\n\u001b[0m\u001b[1;32m   1148\u001b[0m             \u001b[0;32melse\u001b[0m\u001b[0;34m:\u001b[0m\u001b[0;34m\u001b[0m\u001b[0;34m\u001b[0m\u001b[0m\n\u001b[1;32m   1149\u001b[0m               \u001b[0;32mraise\u001b[0m\u001b[0;34m\u001b[0m\u001b[0;34m\u001b[0m\u001b[0m\n",
            "\u001b[0;31mValueError\u001b[0m: in user code:\n\n    File \"/usr/local/lib/python3.7/dist-packages/keras/engine/training.py\", line 1021, in train_function  *\n        return step_function(self, iterator)\n    File \"/usr/local/lib/python3.7/dist-packages/keras/engine/training.py\", line 1010, in step_function  **\n        outputs = model.distribute_strategy.run(run_step, args=(data,))\n    File \"/usr/local/lib/python3.7/dist-packages/keras/engine/training.py\", line 1000, in run_step  **\n        outputs = model.train_step(data)\n    File \"/usr/local/lib/python3.7/dist-packages/keras/engine/training.py\", line 859, in train_step\n        y_pred = self(x, training=True)\n    File \"/usr/local/lib/python3.7/dist-packages/keras/utils/traceback_utils.py\", line 67, in error_handler\n        raise e.with_traceback(filtered_tb) from None\n    File \"/usr/local/lib/python3.7/dist-packages/keras/engine/input_spec.py\", line 264, in assert_input_compatibility\n        raise ValueError(f'Input {input_index} of layer \"{layer_name}\" is '\n\n    ValueError: Input 0 of layer \"sequential_4\" is incompatible with the layer: expected shape=(None, 2), found shape=(None, 10)\n"
          ]
        }
      ]
    },
    {
      "cell_type": "code",
      "source": [
        "from keras.models import Sequential\n",
        "model1 = df.Sequential()\n",
        "model1.df(x_train_scaled,y_train,batch_size=16, epochs=15,validation_split=0.05,verbose=0)"
      ],
      "metadata": {
        "colab": {
          "base_uri": "https://localhost:8080/",
          "height": 322
        },
        "id": "SfU26osC02At",
        "outputId": "4e2e7d27-544b-4285-f1c2-cb503345b56c"
      },
      "execution_count": null,
      "outputs": [
        {
          "output_type": "error",
          "ename": "AttributeError",
          "evalue": "ignored",
          "traceback": [
            "\u001b[0;31m---------------------------------------------------------------------------\u001b[0m",
            "\u001b[0;31mAttributeError\u001b[0m                            Traceback (most recent call last)",
            "\u001b[0;32m<ipython-input-58-f3bb98850eb6>\u001b[0m in \u001b[0;36m<module>\u001b[0;34m()\u001b[0m\n\u001b[1;32m      1\u001b[0m \u001b[0;32mfrom\u001b[0m \u001b[0mkeras\u001b[0m\u001b[0;34m.\u001b[0m\u001b[0mmodels\u001b[0m \u001b[0;32mimport\u001b[0m \u001b[0mSequential\u001b[0m\u001b[0;34m\u001b[0m\u001b[0;34m\u001b[0m\u001b[0m\n\u001b[0;32m----> 2\u001b[0;31m \u001b[0mmodel1\u001b[0m \u001b[0;34m=\u001b[0m \u001b[0mdf\u001b[0m\u001b[0;34m.\u001b[0m\u001b[0mSequential\u001b[0m\u001b[0;34m(\u001b[0m\u001b[0;34m)\u001b[0m\u001b[0;34m\u001b[0m\u001b[0;34m\u001b[0m\u001b[0m\n\u001b[0m\u001b[1;32m      3\u001b[0m \u001b[0mmodel1\u001b[0m\u001b[0;34m.\u001b[0m\u001b[0mdf\u001b[0m\u001b[0;34m(\u001b[0m\u001b[0mx_train_scaled\u001b[0m\u001b[0;34m,\u001b[0m\u001b[0my_train\u001b[0m\u001b[0;34m,\u001b[0m\u001b[0mbatch_size\u001b[0m\u001b[0;34m=\u001b[0m\u001b[0;36m16\u001b[0m\u001b[0;34m,\u001b[0m \u001b[0mepochs\u001b[0m\u001b[0;34m=\u001b[0m\u001b[0;36m15\u001b[0m\u001b[0;34m,\u001b[0m\u001b[0mvalidation_split\u001b[0m\u001b[0;34m=\u001b[0m\u001b[0;36m0.05\u001b[0m\u001b[0;34m,\u001b[0m\u001b[0mverbose\u001b[0m\u001b[0;34m=\u001b[0m\u001b[0;36m0\u001b[0m\u001b[0;34m)\u001b[0m\u001b[0;34m\u001b[0m\u001b[0;34m\u001b[0m\u001b[0m\n",
            "\u001b[0;32m/usr/local/lib/python3.7/dist-packages/pandas/core/generic.py\u001b[0m in \u001b[0;36m__getattr__\u001b[0;34m(self, name)\u001b[0m\n\u001b[1;32m   5485\u001b[0m         ):\n\u001b[1;32m   5486\u001b[0m             \u001b[0;32mreturn\u001b[0m \u001b[0mself\u001b[0m\u001b[0;34m[\u001b[0m\u001b[0mname\u001b[0m\u001b[0;34m]\u001b[0m\u001b[0;34m\u001b[0m\u001b[0;34m\u001b[0m\u001b[0m\n\u001b[0;32m-> 5487\u001b[0;31m         \u001b[0;32mreturn\u001b[0m \u001b[0mobject\u001b[0m\u001b[0;34m.\u001b[0m\u001b[0m__getattribute__\u001b[0m\u001b[0;34m(\u001b[0m\u001b[0mself\u001b[0m\u001b[0;34m,\u001b[0m \u001b[0mname\u001b[0m\u001b[0;34m)\u001b[0m\u001b[0;34m\u001b[0m\u001b[0;34m\u001b[0m\u001b[0m\n\u001b[0m\u001b[1;32m   5488\u001b[0m \u001b[0;34m\u001b[0m\u001b[0m\n\u001b[1;32m   5489\u001b[0m     \u001b[0;32mdef\u001b[0m \u001b[0m__setattr__\u001b[0m\u001b[0;34m(\u001b[0m\u001b[0mself\u001b[0m\u001b[0;34m,\u001b[0m \u001b[0mname\u001b[0m\u001b[0;34m:\u001b[0m \u001b[0mstr\u001b[0m\u001b[0;34m,\u001b[0m \u001b[0mvalue\u001b[0m\u001b[0;34m)\u001b[0m \u001b[0;34m->\u001b[0m \u001b[0;32mNone\u001b[0m\u001b[0;34m:\u001b[0m\u001b[0;34m\u001b[0m\u001b[0;34m\u001b[0m\u001b[0m\n",
            "\u001b[0;31mAttributeError\u001b[0m: 'DataFrame' object has no attribute 'Sequential'"
          ]
        }
      ]
    },
    {
      "cell_type": "code",
      "source": [
        "\n",
        "# example of a multi-label classification task\n",
        "from sklearn.datasets import make_multilabel_classification\n",
        "# define dataset\n",
        "x_train_scaled, y_train= make_multilabel_classification( n_features=10, n_classes=3, n_labels=2, random_state=42)\n",
        "# summarize dataset shape\n",
        "print(x_train_scaled.shape, y_train.shape)\n",
        "# summarize first few examples\n",
        "for i in range(10):\n",
        "\tprint(x_train_scaled[i], y_train[i])"
      ],
      "metadata": {
        "colab": {
          "base_uri": "https://localhost:8080/"
        },
        "id": "T4cztArfaSRY",
        "outputId": "ae280e8b-a566-465c-a1ab-e7d00c833745"
      },
      "execution_count": null,
      "outputs": [
        {
          "output_type": "stream",
          "name": "stdout",
          "text": [
            "(100, 10) (100, 3)\n",
            "[ 7.  8.  3.  9.  2.  6.  2. 12.  8.  4.] [1 1 0]\n",
            "[5. 6. 8. 7. 2. 7. 2. 7. 9. 4.] [1 1 0]\n",
            "[2. 7. 9. 0. 8. 8. 6. 2. 0. 0.] [0 0 1]\n",
            "[4. 4. 5. 5. 4. 6. 5. 6. 8. 6.] [1 1 1]\n",
            "[ 3. 14.  1.  1.  5.  5.  6. 14.  4.  3.] [0 1 0]\n",
            "[8. 6. 8. 5. 5. 0. 4. 6. 4. 7.] [0 0 0]\n",
            "[ 3.  3.  7.  6.  2.  8.  4. 10.  9.  6.] [1 1 0]\n",
            "[4. 5. 3. 3. 6. 5. 2. 5. 6. 5.] [0 0 0]\n",
            "[7. 3. 4. 1. 9. 5. 4. 2. 2. 4.] [0 0 0]\n",
            "[ 5. 13.  4.  5.  4.  4.  0.  6.  7.  4.] [1 1 0]\n"
          ]
        }
      ]
    },
    {
      "cell_type": "code",
      "source": [
        ""
      ],
      "metadata": {
        "id": "M1t8N2Sh02Du"
      },
      "execution_count": null,
      "outputs": []
    },
    {
      "cell_type": "code",
      "source": [
        ""
      ],
      "metadata": {
        "id": "8Gv-3FM_02Gg"
      },
      "execution_count": null,
      "outputs": []
    },
    {
      "cell_type": "code",
      "source": [
        ""
      ],
      "metadata": {
        "id": "ZIp1gR0302JC"
      },
      "execution_count": null,
      "outputs": []
    },
    {
      "cell_type": "code",
      "source": [
        ""
      ],
      "metadata": {
        "id": "eo9eHo2S02Ls"
      },
      "execution_count": null,
      "outputs": []
    },
    {
      "cell_type": "code",
      "source": [
        ""
      ],
      "metadata": {
        "id": "fyWtL7Od02OR"
      },
      "execution_count": null,
      "outputs": []
    },
    {
      "cell_type": "code",
      "source": [
        ""
      ],
      "metadata": {
        "id": "yy1tyhSB02Qx"
      },
      "execution_count": null,
      "outputs": []
    },
    {
      "cell_type": "code",
      "source": [
        ""
      ],
      "metadata": {
        "id": "_L1E9tk202TT"
      },
      "execution_count": null,
      "outputs": []
    },
    {
      "cell_type": "code",
      "source": [
        ""
      ],
      "metadata": {
        "id": "o0FPLOrO02Vz"
      },
      "execution_count": null,
      "outputs": []
    },
    {
      "cell_type": "code",
      "source": [
        ""
      ],
      "metadata": {
        "id": "HJrOl6uh02Yr"
      },
      "execution_count": null,
      "outputs": []
    },
    {
      "cell_type": "code",
      "source": [
        ""
      ],
      "metadata": {
        "id": "8DWYY2Uf02b6"
      },
      "execution_count": null,
      "outputs": []
    },
    {
      "cell_type": "code",
      "source": [
        ""
      ],
      "metadata": {
        "id": "mcVkD1Jr02fu"
      },
      "execution_count": null,
      "outputs": []
    },
    {
      "cell_type": "code",
      "source": [
        ""
      ],
      "metadata": {
        "id": "YvXvdKLd02kR"
      },
      "execution_count": null,
      "outputs": []
    },
    {
      "cell_type": "code",
      "source": [
        ""
      ],
      "metadata": {
        "id": "zwCR0mw602o8"
      },
      "execution_count": null,
      "outputs": []
    },
    {
      "cell_type": "code",
      "source": [
        ""
      ],
      "metadata": {
        "id": "ITZ_9vPf02tQ"
      },
      "execution_count": null,
      "outputs": []
    },
    {
      "cell_type": "code",
      "source": [
        ""
      ],
      "metadata": {
        "id": "2pMxL4m3020H"
      },
      "execution_count": null,
      "outputs": []
    },
    {
      "cell_type": "code",
      "source": [
        ""
      ],
      "metadata": {
        "id": "idmRmpJp022f"
      },
      "execution_count": null,
      "outputs": []
    },
    {
      "cell_type": "code",
      "source": [
        ""
      ],
      "metadata": {
        "id": "nyNv7LNFe_l7"
      },
      "execution_count": null,
      "outputs": []
    },
    {
      "cell_type": "code",
      "source": [
        "from sklearn.preprocessing import MinMaxScaler\n",
        "scaler = MinMaxScaler()\n",
        "x_train_scaled = scaler.fit_transform(x_train)\n",
        "x_test = scaler.transform(x_test)\n",
        "x_train_scaled"
      ],
      "metadata": {
        "colab": {
          "base_uri": "https://localhost:8080/"
        },
        "id": "rEY8-RtDSeQ8",
        "outputId": "6f7e63d7-a614-4494-e8c5-eeac8a1eba4c"
      },
      "execution_count": null,
      "outputs": [
        {
          "output_type": "execute_result",
          "data": {
            "text/plain": [
              "array([[0.415843  , 0.42781286, 0.42816821, ..., 0.3       , 0.34615385,\n",
              "        0.        ],\n",
              "       [0.42558371, 0.41374858, 0.41645499, ..., 0.33333333, 0.34615385,\n",
              "        0.        ],\n",
              "       [0.41727546, 0.42752581, 0.41687834, ..., 0.36666667, 0.34615385,\n",
              "        0.        ],\n",
              "       ...,\n",
              "       [0.99441346, 0.98177381, 0.98165397, ..., 0.66666667, 0.78846154,\n",
              "        1.        ],\n",
              "       [0.9664805 , 1.        , 0.99068589, ..., 0.7       , 0.78846154,\n",
              "        1.        ],\n",
              "       [1.        , 0.9668484 , 1.        , ..., 0.8       , 0.80769231,\n",
              "        1.        ]])"
            ]
          },
          "metadata": {},
          "execution_count": 22
        }
      ]
    },
    {
      "cell_type": "code",
      "source": [
        "from sklearn.linear_model import LogisticRegression\n",
        "from sklearn.metrics import f1_score, roc_auc_score\n",
        "from sklearn.ensemble import RandomForestClassifier\n",
        "from xgboost import XGBClassifier\n",
        "import lightgbm as lgb\n",
        "from sklearn.model_selection import train_test_split, GridSearchCV\n",
        "from sklearn.metrics import mean_squared_error\n",
        "from math import sqrt\n",
        "from scipy.stats import skew\n",
        "\n",
        "# fit whole data using random forest \n",
        "rand_forest_regressor = RandomForestClassifier(max_depth = 60, n_estimators= 1500)\n",
        "rand_forest_regressor.fit(x_train_scaled, y_train)\n",
        "y_rand_forest_predict = rand_forest_regressor.predict(x_test)\n",
        "# fit whole data using xgb\n",
        "XGB_model = XGBClassifier(learning_rate = 0.02, max_depth = 7, n_estimators = 400)\n",
        "XGB_model.fit(x_train_scaled, y_train)\n",
        "y_XGB_predict = XGB_model.predict(x_test)\n",
        "# fit whole data using lgbm\n",
        "lgb_model = lgb.LGBMClassifier(num_leaves=70, n_estimators=300, learning_rate = 0.02)\n",
        "lgb_model.fit(x_train_scaled, y_train)\n",
        "y_LGB_predict = lgb_model.predict(x_test)\n",
        "\n",
        "# ensembled prediction over test data using xgb and random forest\n",
        "ensembled_prediction1 = (0.5*y_XGB_predict + 0.5 *y_rand_forest_predict)\n",
        "\n",
        "# ensembled prediction over test data using lgb and random forest\n",
        "ensembled_prediction2 = (0.5*y_LGB_predict + 0.5 *y_rand_forest_predict)\n",
        "\n",
        "ensembled_prediction1a = (0.5*y_LGB_predict + 0.5 *y_XGB_predict)\n",
        "\n",
        "# ensembled prediction over test data lgb, xgb, and rf\n",
        "ensembled_prediction3 = (0.33*y_LGB_predict + 0.33*y_XGB_predict + 0.33 *y_rand_forest_predict)\n",
        "\n",
        "print(roc_auc_score(y_test, y_test))"
      ],
      "metadata": {
        "colab": {
          "base_uri": "https://localhost:8080/"
        },
        "id": "0SrH9nJj29sX",
        "outputId": "84ca7d04-dfef-47af-ac32-01cd95e65ffc"
      },
      "execution_count": null,
      "outputs": [
        {
          "output_type": "stream",
          "name": "stdout",
          "text": [
            "1.0\n"
          ]
        }
      ]
    },
    {
      "cell_type": "code",
      "source": [
        "from keras.models import Sequential\n",
        "from keras.layers import Dense\n",
        "from keras.layers import LSTM\n",
        "from keras.layers import Dropout\n",
        "\n",
        "regressor = Sequential()\n",
        "regressor.add(LSTM(units = 50, return_sequences = True, input_shape = (x_train_scaled.shape[1], 1)))\n",
        "regressor.add(Dropout(0.2))\n",
        "regressor.add(LSTM(units = 50, return_sequences = True))\n",
        "regressor.add(Dropout(0.2))\n",
        "regressor.add(LSTM(units = 50, return_sequences = True))\n",
        "regressor.add(Dropout(0.2))\n",
        "regressor.add(LSTM(units = 50))\n",
        "regressor.add(Dropout(0.2))\n",
        "regressor.add(Dense(units = 1))\n",
        "regressor.compile(optimizer = 'adam', loss = 'mean_squared_error')\n",
        "\n",
        "regressor.fit(x_train_scaled, y_train, epochs = 300, batch_size = 32, validation_split=0.05,)"
      ],
      "metadata": {
        "colab": {
          "base_uri": "https://localhost:8080/"
        },
        "id": "3vrVSD9wS15s",
        "outputId": "e89e8f9a-c606-4dd4-8f57-ec56de7c0890"
      },
      "execution_count": null,
      "outputs": [
        {
          "output_type": "stream",
          "name": "stdout",
          "text": [
            "Epoch 1/300\n",
            "36/36 [==============================] - 37s 369ms/step - loss: 95633.4766 - val_loss: 243575.5312\n",
            "Epoch 2/300\n",
            "36/36 [==============================] - 4s 105ms/step - loss: 92285.2422 - val_loss: 240509.3125\n",
            "Epoch 3/300\n",
            "36/36 [==============================] - 3s 71ms/step - loss: 90824.3281 - val_loss: 238352.4844\n",
            "Epoch 4/300\n",
            "36/36 [==============================] - 3s 70ms/step - loss: 89578.7812 - val_loss: 236386.9531\n",
            "Epoch 5/300\n",
            "36/36 [==============================] - 3s 71ms/step - loss: 88428.9453 - val_loss: 234490.5938\n",
            "Epoch 6/300\n",
            "36/36 [==============================] - 2s 67ms/step - loss: 87333.0859 - val_loss: 232653.9375\n",
            "Epoch 7/300\n",
            "36/36 [==============================] - 2s 69ms/step - loss: 86313.8516 - val_loss: 230859.8125\n",
            "Epoch 8/300\n",
            "36/36 [==============================] - 3s 71ms/step - loss: 85246.9609 - val_loss: 229092.5469\n",
            "Epoch 9/300\n",
            "36/36 [==============================] - 2s 68ms/step - loss: 84200.3672 - val_loss: 227346.0312\n",
            "Epoch 10/300\n",
            "36/36 [==============================] - 3s 71ms/step - loss: 83226.6406 - val_loss: 225627.7656\n",
            "Epoch 11/300\n",
            "36/36 [==============================] - 3s 71ms/step - loss: 82110.9766 - val_loss: 223922.1250\n",
            "Epoch 12/300\n",
            "36/36 [==============================] - 2s 68ms/step - loss: 81157.3281 - val_loss: 222229.0469\n",
            "Epoch 13/300\n",
            "36/36 [==============================] - 2s 69ms/step - loss: 80181.4531 - val_loss: 220531.3750\n",
            "Epoch 14/300\n",
            "36/36 [==============================] - 3s 71ms/step - loss: 79180.3750 - val_loss: 218774.8125\n",
            "Epoch 15/300\n",
            "36/36 [==============================] - 3s 71ms/step - loss: 78201.6641 - val_loss: 217051.4531\n",
            "Epoch 16/300\n",
            "36/36 [==============================] - 2s 68ms/step - loss: 77252.6406 - val_loss: 215353.1875\n",
            "Epoch 17/300\n",
            "36/36 [==============================] - 3s 72ms/step - loss: 76327.5547 - val_loss: 213699.2500\n",
            "Epoch 18/300\n",
            "36/36 [==============================] - 3s 71ms/step - loss: 75329.3750 - val_loss: 212034.3906\n",
            "Epoch 19/300\n",
            "36/36 [==============================] - 3s 70ms/step - loss: 74358.4297 - val_loss: 210401.2812\n",
            "Epoch 20/300\n",
            "36/36 [==============================] - 3s 70ms/step - loss: 73429.7109 - val_loss: 208783.7031\n",
            "Epoch 21/300\n",
            "36/36 [==============================] - 3s 71ms/step - loss: 72553.2578 - val_loss: 207178.8594\n",
            "Epoch 22/300\n",
            "36/36 [==============================] - 3s 73ms/step - loss: 71690.8750 - val_loss: 205592.4219\n",
            "Epoch 23/300\n",
            "36/36 [==============================] - 3s 71ms/step - loss: 70773.5859 - val_loss: 204010.1562\n",
            "Epoch 24/300\n",
            "36/36 [==============================] - 3s 71ms/step - loss: 69863.6562 - val_loss: 202441.8438\n",
            "Epoch 25/300\n",
            "36/36 [==============================] - 3s 71ms/step - loss: 68925.2344 - val_loss: 200888.1562\n",
            "Epoch 26/300\n",
            "36/36 [==============================] - 2s 68ms/step - loss: 68177.8516 - val_loss: 199345.8125\n",
            "Epoch 27/300\n",
            "36/36 [==============================] - 3s 72ms/step - loss: 67372.6562 - val_loss: 197827.4688\n",
            "Epoch 28/300\n",
            "36/36 [==============================] - 3s 70ms/step - loss: 66390.6250 - val_loss: 196296.3281\n",
            "Epoch 29/300\n",
            "36/36 [==============================] - 2s 67ms/step - loss: 65639.7891 - val_loss: 194793.7031\n",
            "Epoch 30/300\n",
            "36/36 [==============================] - 3s 71ms/step - loss: 64754.0703 - val_loss: 193301.2969\n",
            "Epoch 31/300\n",
            "36/36 [==============================] - 3s 71ms/step - loss: 64012.0430 - val_loss: 191817.2656\n",
            "Epoch 32/300\n",
            "36/36 [==============================] - 3s 72ms/step - loss: 63268.5273 - val_loss: 190347.0781\n",
            "Epoch 33/300\n",
            "36/36 [==============================] - 3s 84ms/step - loss: 62357.7344 - val_loss: 188884.6562\n",
            "Epoch 34/300\n",
            "36/36 [==============================] - 3s 71ms/step - loss: 61637.7227 - val_loss: 187430.5781\n",
            "Epoch 35/300\n",
            "36/36 [==============================] - 3s 72ms/step - loss: 60802.2227 - val_loss: 185993.6562\n",
            "Epoch 36/300\n",
            "36/36 [==============================] - 2s 68ms/step - loss: 59963.2578 - val_loss: 184557.8594\n",
            "Epoch 37/300\n",
            "36/36 [==============================] - 3s 92ms/step - loss: 59132.6094 - val_loss: 183127.3750\n",
            "Epoch 38/300\n",
            "36/36 [==============================] - 3s 71ms/step - loss: 58428.8281 - val_loss: 181718.3594\n",
            "Epoch 39/300\n",
            "36/36 [==============================] - 3s 71ms/step - loss: 57756.0352 - val_loss: 180309.5156\n",
            "Epoch 40/300\n",
            "36/36 [==============================] - 3s 70ms/step - loss: 56971.5195 - val_loss: 178911.4688\n",
            "Epoch 41/300\n",
            "36/36 [==============================] - 2s 67ms/step - loss: 55995.2031 - val_loss: 177523.4375\n",
            "Epoch 42/300\n",
            "36/36 [==============================] - 3s 73ms/step - loss: 55513.7812 - val_loss: 176143.7656\n",
            "Epoch 43/300\n",
            "36/36 [==============================] - 3s 71ms/step - loss: 54616.9570 - val_loss: 174772.0312\n",
            "Epoch 44/300\n",
            "36/36 [==============================] - 4s 112ms/step - loss: 54023.6641 - val_loss: 173421.5469\n",
            "Epoch 45/300\n",
            "36/36 [==============================] - 3s 70ms/step - loss: 53407.6328 - val_loss: 172068.1562\n",
            "Epoch 46/300\n",
            "36/36 [==============================] - 2s 68ms/step - loss: 52826.4648 - val_loss: 170739.8438\n",
            "Epoch 47/300\n",
            "36/36 [==============================] - 3s 71ms/step - loss: 51964.5781 - val_loss: 169404.0781\n",
            "Epoch 48/300\n",
            "36/36 [==============================] - 3s 72ms/step - loss: 51095.5000 - val_loss: 168084.6250\n",
            "Epoch 49/300\n",
            "36/36 [==============================] - 3s 70ms/step - loss: 50694.5586 - val_loss: 166768.2656\n",
            "Epoch 50/300\n",
            "36/36 [==============================] - 3s 71ms/step - loss: 49813.1719 - val_loss: 165462.8906\n",
            "Epoch 51/300\n",
            "36/36 [==============================] - 2s 66ms/step - loss: 49085.4258 - val_loss: 164174.9531\n",
            "Epoch 52/300\n",
            "36/36 [==============================] - 3s 71ms/step - loss: 48592.5273 - val_loss: 162876.1250\n",
            "Epoch 53/300\n",
            "36/36 [==============================] - 3s 70ms/step - loss: 47941.2148 - val_loss: 161598.6562\n",
            "Epoch 54/300\n",
            "36/36 [==============================] - 2s 69ms/step - loss: 47307.8438 - val_loss: 160329.5156\n",
            "Epoch 55/300\n",
            "36/36 [==============================] - 3s 70ms/step - loss: 46522.6680 - val_loss: 159064.6875\n",
            "Epoch 56/300\n",
            "36/36 [==============================] - 2s 69ms/step - loss: 45990.5156 - val_loss: 157821.0000\n",
            "Epoch 57/300\n",
            "36/36 [==============================] - 3s 71ms/step - loss: 45446.2500 - val_loss: 156562.3594\n",
            "Epoch 58/300\n",
            "36/36 [==============================] - 3s 70ms/step - loss: 44596.7422 - val_loss: 155331.0781\n",
            "Epoch 59/300\n",
            "36/36 [==============================] - 3s 72ms/step - loss: 44245.0508 - val_loss: 154103.8125\n",
            "Epoch 60/300\n",
            "36/36 [==============================] - 2s 69ms/step - loss: 43537.7539 - val_loss: 152881.1094\n",
            "Epoch 61/300\n",
            "36/36 [==============================] - 3s 71ms/step - loss: 42868.6211 - val_loss: 151665.4062\n",
            "Epoch 62/300\n",
            "36/36 [==============================] - 3s 70ms/step - loss: 42324.9219 - val_loss: 150463.6406\n",
            "Epoch 63/300\n",
            "36/36 [==============================] - 2s 68ms/step - loss: 41730.2266 - val_loss: 149260.4375\n",
            "Epoch 64/300\n",
            "36/36 [==============================] - 3s 70ms/step - loss: 41227.1758 - val_loss: 148076.0312\n",
            "Epoch 65/300\n",
            "36/36 [==============================] - 3s 73ms/step - loss: 40662.4766 - val_loss: 146899.8750\n",
            "Epoch 66/300\n",
            "36/36 [==============================] - 3s 71ms/step - loss: 40124.8281 - val_loss: 145718.4531\n",
            "Epoch 67/300\n",
            "36/36 [==============================] - 3s 70ms/step - loss: 39383.9961 - val_loss: 144555.3438\n",
            "Epoch 68/300\n",
            "36/36 [==============================] - 2s 66ms/step - loss: 38807.1680 - val_loss: 143395.6719\n",
            "Epoch 69/300\n",
            "36/36 [==============================] - 2s 68ms/step - loss: 38267.3047 - val_loss: 142241.2188\n",
            "Epoch 70/300\n",
            "36/36 [==============================] - 2s 66ms/step - loss: 37841.7656 - val_loss: 141103.5312\n",
            "Epoch 71/300\n",
            "36/36 [==============================] - 2s 66ms/step - loss: 37429.4102 - val_loss: 139972.0156\n",
            "Epoch 72/300\n",
            "36/36 [==============================] - 2s 68ms/step - loss: 36649.4531 - val_loss: 138840.3594\n",
            "Epoch 73/300\n",
            "36/36 [==============================] - 3s 70ms/step - loss: 36239.0781 - val_loss: 137722.3906\n",
            "Epoch 74/300\n",
            "36/36 [==============================] - 3s 86ms/step - loss: 35617.2930 - val_loss: 136606.0156\n",
            "Epoch 75/300\n",
            "36/36 [==============================] - 3s 71ms/step - loss: 35306.1250 - val_loss: 135499.1875\n",
            "Epoch 76/300\n",
            "36/36 [==============================] - 2s 67ms/step - loss: 34569.9727 - val_loss: 134402.4375\n",
            "Epoch 77/300\n",
            "36/36 [==============================] - 3s 70ms/step - loss: 34047.4336 - val_loss: 133316.2656\n",
            "Epoch 78/300\n",
            "36/36 [==============================] - 3s 83ms/step - loss: 33572.2852 - val_loss: 132229.8906\n",
            "Epoch 79/300\n",
            "36/36 [==============================] - 3s 72ms/step - loss: 33204.4219 - val_loss: 131154.4062\n",
            "Epoch 80/300\n",
            "36/36 [==============================] - 3s 72ms/step - loss: 32795.2930 - val_loss: 130084.5234\n",
            "Epoch 81/300\n",
            "36/36 [==============================] - 2s 69ms/step - loss: 32252.6484 - val_loss: 129022.6406\n",
            "Epoch 82/300\n",
            "36/36 [==============================] - 3s 70ms/step - loss: 31568.7500 - val_loss: 127965.5469\n",
            "Epoch 83/300\n",
            "36/36 [==============================] - 2s 69ms/step - loss: 31299.4902 - val_loss: 126920.1641\n",
            "Epoch 84/300\n",
            "36/36 [==============================] - 3s 71ms/step - loss: 30784.4922 - val_loss: 125880.8984\n",
            "Epoch 85/300\n",
            "36/36 [==============================] - 2s 66ms/step - loss: 30316.9727 - val_loss: 124844.1641\n",
            "Epoch 86/300\n",
            "36/36 [==============================] - 2s 66ms/step - loss: 29961.4102 - val_loss: 123821.9219\n",
            "Epoch 87/300\n",
            "36/36 [==============================] - 3s 70ms/step - loss: 29554.1738 - val_loss: 122799.3125\n",
            "Epoch 88/300\n",
            "36/36 [==============================] - 2s 68ms/step - loss: 29072.3008 - val_loss: 121793.4062\n",
            "Epoch 89/300\n",
            "36/36 [==============================] - 2s 67ms/step - loss: 28838.6133 - val_loss: 120780.0547\n",
            "Epoch 90/300\n",
            "36/36 [==============================] - 3s 74ms/step - loss: 28087.4258 - val_loss: 119786.6250\n",
            "Epoch 91/300\n",
            "36/36 [==============================] - 2s 67ms/step - loss: 27600.3828 - val_loss: 118790.2969\n",
            "Epoch 92/300\n",
            "36/36 [==============================] - 3s 70ms/step - loss: 27405.4102 - val_loss: 117810.0156\n",
            "Epoch 93/300\n",
            "36/36 [==============================] - 3s 71ms/step - loss: 26709.7539 - val_loss: 116833.1484\n",
            "Epoch 94/300\n",
            "36/36 [==============================] - 3s 72ms/step - loss: 26477.6133 - val_loss: 115857.2422\n",
            "Epoch 95/300\n",
            "36/36 [==============================] - 2s 67ms/step - loss: 26040.5703 - val_loss: 114893.0078\n",
            "Epoch 96/300\n",
            "36/36 [==============================] - 2s 66ms/step - loss: 25880.8242 - val_loss: 113937.1094\n",
            "Epoch 97/300\n",
            "36/36 [==============================] - 2s 65ms/step - loss: 25306.3477 - val_loss: 112990.8516\n",
            "Epoch 98/300\n",
            "36/36 [==============================] - 2s 66ms/step - loss: 24877.5391 - val_loss: 112047.9688\n",
            "Epoch 99/300\n",
            "36/36 [==============================] - 2s 68ms/step - loss: 24680.4590 - val_loss: 111104.3125\n",
            "Epoch 100/300\n",
            "36/36 [==============================] - 2s 68ms/step - loss: 24170.0215 - val_loss: 110184.8047\n",
            "Epoch 101/300\n",
            "36/36 [==============================] - 2s 69ms/step - loss: 23911.1055 - val_loss: 109260.6562\n",
            "Epoch 102/300\n",
            "36/36 [==============================] - 2s 66ms/step - loss: 23372.9844 - val_loss: 108345.3906\n",
            "Epoch 103/300\n",
            "36/36 [==============================] - 2s 68ms/step - loss: 23146.6582 - val_loss: 107422.7812\n",
            "Epoch 104/300\n",
            "36/36 [==============================] - 2s 67ms/step - loss: 22651.8086 - val_loss: 106523.7422\n",
            "Epoch 105/300\n",
            "36/36 [==============================] - 2s 69ms/step - loss: 22409.1172 - val_loss: 105628.1641\n",
            "Epoch 106/300\n",
            "36/36 [==============================] - 2s 69ms/step - loss: 22060.5898 - val_loss: 104741.3516\n",
            "Epoch 107/300\n",
            "36/36 [==============================] - 3s 72ms/step - loss: 21695.3145 - val_loss: 103853.1797\n",
            "Epoch 108/300\n",
            "36/36 [==============================] - 3s 71ms/step - loss: 21356.7422 - val_loss: 102977.9922\n",
            "Epoch 109/300\n",
            "36/36 [==============================] - 2s 68ms/step - loss: 20953.5703 - val_loss: 102107.1172\n",
            "Epoch 110/300\n",
            "36/36 [==============================] - 2s 69ms/step - loss: 20782.9824 - val_loss: 101240.9844\n",
            "Epoch 111/300\n",
            "36/36 [==============================] - 2s 69ms/step - loss: 20537.6465 - val_loss: 100388.0547\n",
            "Epoch 112/300\n",
            "36/36 [==============================] - 3s 73ms/step - loss: 20114.9297 - val_loss: 99532.6094\n",
            "Epoch 113/300\n",
            "36/36 [==============================] - 3s 70ms/step - loss: 19767.3887 - val_loss: 98693.2891\n",
            "Epoch 114/300\n",
            "36/36 [==============================] - 3s 70ms/step - loss: 19291.1543 - val_loss: 97860.7891\n",
            "Epoch 115/300\n",
            "36/36 [==============================] - 2s 68ms/step - loss: 19112.9297 - val_loss: 97018.5938\n",
            "Epoch 116/300\n",
            "36/36 [==============================] - 3s 71ms/step - loss: 19005.5762 - val_loss: 96189.1016\n",
            "Epoch 117/300\n",
            "36/36 [==============================] - 2s 68ms/step - loss: 18574.8633 - val_loss: 95374.7812\n",
            "Epoch 118/300\n",
            "36/36 [==============================] - 2s 68ms/step - loss: 18206.0469 - val_loss: 94559.5938\n",
            "Epoch 119/300\n",
            "36/36 [==============================] - 2s 69ms/step - loss: 17878.8789 - val_loss: 93757.9609\n",
            "Epoch 120/300\n",
            "36/36 [==============================] - 2s 68ms/step - loss: 17718.8223 - val_loss: 92952.0156\n",
            "Epoch 121/300\n",
            "36/36 [==============================] - 3s 70ms/step - loss: 17268.5918 - val_loss: 92160.6562\n",
            "Epoch 122/300\n",
            "36/36 [==============================] - 3s 71ms/step - loss: 16858.9453 - val_loss: 91373.1016\n",
            "Epoch 123/300\n",
            "36/36 [==============================] - 3s 71ms/step - loss: 16798.9180 - val_loss: 90596.5547\n",
            "Epoch 124/300\n",
            "36/36 [==============================] - 3s 73ms/step - loss: 16656.9492 - val_loss: 89816.6328\n",
            "Epoch 125/300\n",
            "36/36 [==============================] - 3s 72ms/step - loss: 16291.2812 - val_loss: 89050.8594\n",
            "Epoch 126/300\n",
            "36/36 [==============================] - 3s 71ms/step - loss: 16099.6182 - val_loss: 88294.9688\n",
            "Epoch 127/300\n",
            "36/36 [==============================] - 3s 71ms/step - loss: 15914.4043 - val_loss: 87536.0938\n",
            "Epoch 128/300\n",
            "36/36 [==============================] - 3s 73ms/step - loss: 15681.4727 - val_loss: 86788.0938\n",
            "Epoch 129/300\n",
            "36/36 [==============================] - 3s 73ms/step - loss: 15468.5225 - val_loss: 86046.6641\n",
            "Epoch 130/300\n",
            "36/36 [==============================] - 3s 71ms/step - loss: 15064.9355 - val_loss: 85315.2812\n",
            "Epoch 131/300\n",
            "36/36 [==============================] - 3s 71ms/step - loss: 14703.4805 - val_loss: 84580.9375\n",
            "Epoch 132/300\n",
            "36/36 [==============================] - 3s 73ms/step - loss: 14763.5957 - val_loss: 83858.1797\n",
            "Epoch 133/300\n",
            "36/36 [==============================] - 3s 76ms/step - loss: 14478.4512 - val_loss: 83138.7031\n",
            "Epoch 134/300\n",
            "36/36 [==============================] - 3s 76ms/step - loss: 14138.2920 - val_loss: 82429.2812\n",
            "Epoch 135/300\n",
            "36/36 [==============================] - 3s 80ms/step - loss: 13914.5742 - val_loss: 81725.2969\n",
            "Epoch 136/300\n",
            "36/36 [==============================] - 3s 80ms/step - loss: 13640.5068 - val_loss: 81031.5469\n",
            "Epoch 137/300\n",
            "36/36 [==============================] - 3s 73ms/step - loss: 13618.0957 - val_loss: 80330.4609\n",
            "Epoch 138/300\n",
            "36/36 [==============================] - 3s 81ms/step - loss: 13407.6445 - val_loss: 79646.9375\n",
            "Epoch 139/300\n",
            "36/36 [==============================] - 3s 78ms/step - loss: 13267.1406 - val_loss: 78964.0625\n",
            "Epoch 140/300\n",
            "36/36 [==============================] - 3s 79ms/step - loss: 12825.5752 - val_loss: 78285.4297\n",
            "Epoch 141/300\n",
            "36/36 [==============================] - 3s 79ms/step - loss: 12829.9834 - val_loss: 77630.4297\n",
            "Epoch 142/300\n",
            "36/36 [==============================] - 3s 79ms/step - loss: 12606.1992 - val_loss: 76960.0547\n",
            "Epoch 143/300\n",
            "36/36 [==============================] - 3s 77ms/step - loss: 12483.0166 - val_loss: 76308.3828\n",
            "Epoch 144/300\n",
            "36/36 [==============================] - 3s 78ms/step - loss: 12338.6748 - val_loss: 75659.1641\n",
            "Epoch 145/300\n",
            "36/36 [==============================] - 3s 80ms/step - loss: 12041.4375 - val_loss: 75017.7188\n",
            "Epoch 146/300\n",
            "36/36 [==============================] - 3s 77ms/step - loss: 11743.5371 - val_loss: 74386.1797\n",
            "Epoch 147/300\n",
            "36/36 [==============================] - 3s 80ms/step - loss: 11850.1133 - val_loss: 73750.8984\n",
            "Epoch 148/300\n",
            "36/36 [==============================] - 3s 80ms/step - loss: 11665.8711 - val_loss: 73141.3750\n",
            "Epoch 149/300\n",
            "36/36 [==============================] - 3s 79ms/step - loss: 11246.8359 - val_loss: 72504.4375\n",
            "Epoch 150/300\n",
            "36/36 [==============================] - 3s 75ms/step - loss: 11102.5986 - val_loss: 71912.5234\n",
            "Epoch 151/300\n",
            "36/36 [==============================] - 3s 73ms/step - loss: 11105.1025 - val_loss: 71302.3203\n",
            "Epoch 152/300\n",
            "36/36 [==============================] - 3s 73ms/step - loss: 10962.6504 - val_loss: 70698.6250\n",
            "Epoch 153/300\n",
            "36/36 [==============================] - 2s 69ms/step - loss: 10871.0352 - val_loss: 70105.8047\n",
            "Epoch 154/300\n",
            "36/36 [==============================] - 3s 74ms/step - loss: 10673.9365 - val_loss: 69521.8750\n",
            "Epoch 155/300\n",
            "36/36 [==============================] - 3s 76ms/step - loss: 10471.8057 - val_loss: 68938.8203\n",
            "Epoch 156/300\n",
            "36/36 [==============================] - 3s 73ms/step - loss: 10373.4648 - val_loss: 68367.5938\n",
            "Epoch 157/300\n",
            "36/36 [==============================] - 3s 74ms/step - loss: 10151.2891 - val_loss: 67795.9766\n",
            "Epoch 158/300\n",
            "36/36 [==============================] - 3s 73ms/step - loss: 10029.6494 - val_loss: 67237.9219\n",
            "Epoch 159/300\n",
            "36/36 [==============================] - 3s 72ms/step - loss: 10053.8721 - val_loss: 66680.4531\n",
            "Epoch 160/300\n",
            "36/36 [==============================] - 3s 70ms/step - loss: 9906.6445 - val_loss: 66120.8750\n",
            "Epoch 161/300\n",
            "36/36 [==============================] - 3s 71ms/step - loss: 9632.0361 - val_loss: 65583.2109\n",
            "Epoch 162/300\n",
            "36/36 [==============================] - 3s 71ms/step - loss: 9475.9893 - val_loss: 65052.9609\n",
            "Epoch 163/300\n",
            "36/36 [==============================] - 3s 70ms/step - loss: 9419.3711 - val_loss: 64520.0781\n",
            "Epoch 164/300\n",
            "36/36 [==============================] - 3s 73ms/step - loss: 9283.8867 - val_loss: 63995.2852\n",
            "Epoch 165/300\n",
            "36/36 [==============================] - 3s 70ms/step - loss: 9206.2930 - val_loss: 63481.8945\n",
            "Epoch 166/300\n",
            "36/36 [==============================] - 3s 71ms/step - loss: 9296.0459 - val_loss: 62971.0742\n",
            "Epoch 167/300\n",
            "36/36 [==============================] - 2s 68ms/step - loss: 9219.9355 - val_loss: 62461.9609\n",
            "Epoch 168/300\n",
            "36/36 [==============================] - 3s 73ms/step - loss: 8769.3701 - val_loss: 61954.1562\n",
            "Epoch 169/300\n",
            "36/36 [==============================] - 3s 72ms/step - loss: 8764.4336 - val_loss: 61466.0664\n",
            "Epoch 170/300\n",
            "36/36 [==============================] - 2s 67ms/step - loss: 8702.1494 - val_loss: 60976.7227\n",
            "Epoch 171/300\n",
            "36/36 [==============================] - 2s 69ms/step - loss: 8665.4404 - val_loss: 60490.6328\n",
            "Epoch 172/300\n",
            "36/36 [==============================] - 3s 71ms/step - loss: 8602.5898 - val_loss: 60022.4609\n",
            "Epoch 173/300\n",
            "36/36 [==============================] - 3s 73ms/step - loss: 8486.6299 - val_loss: 59545.8867\n",
            "Epoch 174/300\n",
            "36/36 [==============================] - 3s 70ms/step - loss: 8343.3037 - val_loss: 59093.6992\n",
            "Epoch 175/300\n",
            "36/36 [==============================] - 3s 71ms/step - loss: 8465.1289 - val_loss: 58632.1055\n",
            "Epoch 176/300\n",
            "36/36 [==============================] - 3s 73ms/step - loss: 8213.3994 - val_loss: 58185.6406\n",
            "Epoch 177/300\n",
            "36/36 [==============================] - 3s 73ms/step - loss: 7913.0059 - val_loss: 57744.4297\n",
            "Epoch 178/300\n",
            "36/36 [==============================] - 3s 72ms/step - loss: 7999.6831 - val_loss: 57319.4023\n",
            "Epoch 179/300\n",
            "36/36 [==============================] - 3s 73ms/step - loss: 7740.7622 - val_loss: 56878.3516\n",
            "Epoch 180/300\n",
            "36/36 [==============================] - 3s 74ms/step - loss: 7888.7246 - val_loss: 56432.5352\n",
            "Epoch 181/300\n",
            "36/36 [==============================] - 3s 72ms/step - loss: 7856.6665 - val_loss: 56014.9297\n",
            "Epoch 182/300\n",
            "36/36 [==============================] - 3s 73ms/step - loss: 7589.1426 - val_loss: 55618.0000\n",
            "Epoch 183/300\n",
            "36/36 [==============================] - 3s 73ms/step - loss: 7640.7910 - val_loss: 55208.5508\n",
            "Epoch 184/300\n",
            "36/36 [==============================] - 3s 74ms/step - loss: 7716.7588 - val_loss: 54802.5195\n",
            "Epoch 185/300\n",
            "36/36 [==============================] - 3s 70ms/step - loss: 7658.0928 - val_loss: 54419.8867\n",
            "Epoch 186/300\n",
            "36/36 [==============================] - 2s 68ms/step - loss: 7455.6260 - val_loss: 54027.6953\n",
            "Epoch 187/300\n",
            "36/36 [==============================] - 3s 72ms/step - loss: 7501.2324 - val_loss: 53647.2539\n",
            "Epoch 188/300\n",
            "36/36 [==============================] - 3s 73ms/step - loss: 7452.8853 - val_loss: 53276.8242\n",
            "Epoch 189/300\n",
            "36/36 [==============================] - 3s 72ms/step - loss: 7406.2832 - val_loss: 52909.4492\n",
            "Epoch 190/300\n",
            "36/36 [==============================] - 3s 74ms/step - loss: 7495.3652 - val_loss: 52545.7305\n",
            "Epoch 191/300\n",
            "36/36 [==============================] - 3s 73ms/step - loss: 7236.4844 - val_loss: 52177.2148\n",
            "Epoch 192/300\n",
            "36/36 [==============================] - 3s 71ms/step - loss: 7092.0479 - val_loss: 51819.5898\n",
            "Epoch 193/300\n",
            "36/36 [==============================] - 3s 70ms/step - loss: 7209.2456 - val_loss: 51499.3594\n",
            "Epoch 194/300\n",
            "36/36 [==============================] - 2s 70ms/step - loss: 7218.4731 - val_loss: 51131.6641\n",
            "Epoch 195/300\n",
            "36/36 [==============================] - 3s 70ms/step - loss: 7060.3135 - val_loss: 50823.6328\n",
            "Epoch 196/300\n",
            "36/36 [==============================] - 3s 70ms/step - loss: 7086.7837 - val_loss: 50472.1523\n",
            "Epoch 197/300\n",
            "36/36 [==============================] - 3s 70ms/step - loss: 6911.9365 - val_loss: 50167.4844\n",
            "Epoch 198/300\n",
            "36/36 [==============================] - 3s 71ms/step - loss: 6953.9316 - val_loss: 49841.9844\n",
            "Epoch 199/300\n",
            "36/36 [==============================] - 2s 69ms/step - loss: 7071.7793 - val_loss: 49525.4336\n",
            "Epoch 200/300\n",
            "36/36 [==============================] - 3s 70ms/step - loss: 6779.3613 - val_loss: 49213.0742\n",
            "Epoch 201/300\n",
            "36/36 [==============================] - 2s 69ms/step - loss: 6892.0552 - val_loss: 48917.0000\n",
            "Epoch 202/300\n",
            "36/36 [==============================] - 2s 68ms/step - loss: 6919.3462 - val_loss: 48629.6133\n",
            "Epoch 203/300\n",
            "36/36 [==============================] - 3s 71ms/step - loss: 6807.0493 - val_loss: 48348.1016\n",
            "Epoch 204/300\n",
            "36/36 [==============================] - 3s 71ms/step - loss: 6784.5312 - val_loss: 48046.1523\n",
            "Epoch 205/300\n",
            "36/36 [==============================] - 3s 74ms/step - loss: 6884.5469 - val_loss: 47789.0859\n",
            "Epoch 206/300\n",
            "36/36 [==============================] - 3s 71ms/step - loss: 6829.6855 - val_loss: 47513.5000\n",
            "Epoch 207/300\n",
            "36/36 [==============================] - 3s 72ms/step - loss: 6781.2812 - val_loss: 47248.9062\n",
            "Epoch 208/300\n",
            "36/36 [==============================] - 3s 72ms/step - loss: 6643.2939 - val_loss: 46994.7383\n",
            "Epoch 209/300\n",
            "36/36 [==============================] - 3s 74ms/step - loss: 6792.3730 - val_loss: 46746.5820\n",
            "Epoch 210/300\n",
            "36/36 [==============================] - 3s 72ms/step - loss: 6808.3594 - val_loss: 46521.5742\n",
            "Epoch 211/300\n",
            "36/36 [==============================] - 3s 71ms/step - loss: 6707.7451 - val_loss: 46258.8125\n",
            "Epoch 212/300\n",
            "36/36 [==============================] - 3s 73ms/step - loss: 6764.5732 - val_loss: 46014.0586\n",
            "Epoch 213/300\n",
            "36/36 [==============================] - 3s 72ms/step - loss: 6598.7173 - val_loss: 45765.7852\n",
            "Epoch 214/300\n",
            "36/36 [==============================] - 3s 73ms/step - loss: 6622.7188 - val_loss: 45547.9180\n",
            "Epoch 215/300\n",
            "36/36 [==============================] - 3s 71ms/step - loss: 6817.6211 - val_loss: 45345.5938\n",
            "Epoch 216/300\n",
            "36/36 [==============================] - 3s 72ms/step - loss: 6571.9185 - val_loss: 45129.3672\n",
            "Epoch 217/300\n",
            "36/36 [==============================] - 3s 72ms/step - loss: 6775.0898 - val_loss: 44916.8633\n",
            "Epoch 218/300\n",
            "36/36 [==============================] - 3s 72ms/step - loss: 6586.3042 - val_loss: 44733.7969\n",
            "Epoch 219/300\n",
            "36/36 [==============================] - 3s 71ms/step - loss: 6594.5811 - val_loss: 44536.9688\n",
            "Epoch 220/300\n",
            "36/36 [==============================] - 3s 72ms/step - loss: 6753.0522 - val_loss: 44380.3633\n",
            "Epoch 221/300\n",
            "36/36 [==============================] - 3s 72ms/step - loss: 6475.1489 - val_loss: 44186.2539\n",
            "Epoch 222/300\n",
            "36/36 [==============================] - 3s 72ms/step - loss: 6577.1689 - val_loss: 44019.2969\n",
            "Epoch 223/300\n",
            "36/36 [==============================] - 3s 72ms/step - loss: 6622.4922 - val_loss: 43853.9805\n",
            "Epoch 224/300\n",
            "36/36 [==============================] - 3s 70ms/step - loss: 6597.6270 - val_loss: 43675.3359\n",
            "Epoch 225/300\n",
            "36/36 [==============================] - 3s 71ms/step - loss: 6605.8315 - val_loss: 43527.6094\n",
            "Epoch 226/300\n",
            "36/36 [==============================] - 3s 74ms/step - loss: 6430.9746 - val_loss: 43375.1797\n",
            "Epoch 227/300\n",
            "36/36 [==============================] - 3s 73ms/step - loss: 6572.1558 - val_loss: 43225.4102\n",
            "Epoch 228/300\n",
            "36/36 [==============================] - 3s 74ms/step - loss: 6478.9253 - val_loss: 43061.6719\n",
            "Epoch 229/300\n",
            "36/36 [==============================] - 3s 73ms/step - loss: 6407.4922 - val_loss: 42954.5508\n",
            "Epoch 230/300\n",
            "36/36 [==============================] - 3s 74ms/step - loss: 6609.7944 - val_loss: 42808.8711\n",
            "Epoch 231/300\n",
            "36/36 [==============================] - 3s 73ms/step - loss: 6665.5034 - val_loss: 42673.9648\n",
            "Epoch 232/300\n",
            "36/36 [==============================] - 3s 73ms/step - loss: 6493.4429 - val_loss: 42541.9766\n",
            "Epoch 233/300\n",
            "36/36 [==============================] - 3s 73ms/step - loss: 6506.6089 - val_loss: 42415.1094\n",
            "Epoch 234/300\n",
            "36/36 [==============================] - 3s 73ms/step - loss: 6282.1274 - val_loss: 42271.3242\n",
            "Epoch 235/300\n",
            "36/36 [==============================] - 3s 71ms/step - loss: 6673.8613 - val_loss: 42151.9023\n",
            "Epoch 236/300\n",
            "36/36 [==============================] - 3s 73ms/step - loss: 6540.0757 - val_loss: 42044.7852\n",
            "Epoch 237/300\n",
            "36/36 [==============================] - 3s 72ms/step - loss: 6508.0449 - val_loss: 41930.5469\n",
            "Epoch 238/300\n",
            "36/36 [==============================] - 3s 72ms/step - loss: 6495.8057 - val_loss: 41849.7305\n",
            "Epoch 239/300\n",
            "36/36 [==============================] - 3s 73ms/step - loss: 6481.2246 - val_loss: 41755.5547\n",
            "Epoch 240/300\n",
            "36/36 [==============================] - 3s 74ms/step - loss: 6390.8862 - val_loss: 41656.4336\n",
            "Epoch 241/300\n",
            "36/36 [==============================] - 3s 70ms/step - loss: 6471.7603 - val_loss: 41601.3125\n",
            "Epoch 242/300\n",
            "36/36 [==============================] - 3s 71ms/step - loss: 6458.7666 - val_loss: 41490.8203\n",
            "Epoch 243/300\n",
            "36/36 [==============================] - 3s 71ms/step - loss: 6495.3750 - val_loss: 41441.6758\n",
            "Epoch 244/300\n",
            "36/36 [==============================] - 3s 73ms/step - loss: 6491.0630 - val_loss: 41389.0664\n",
            "Epoch 245/300\n",
            "36/36 [==============================] - 3s 72ms/step - loss: 6524.0508 - val_loss: 41332.7188\n",
            "Epoch 246/300\n",
            "36/36 [==============================] - 3s 72ms/step - loss: 6467.8066 - val_loss: 41257.4688\n",
            "Epoch 247/300\n",
            "36/36 [==============================] - 3s 73ms/step - loss: 6671.2632 - val_loss: 41217.4219\n",
            "Epoch 248/300\n",
            "36/36 [==============================] - 3s 71ms/step - loss: 6418.8994 - val_loss: 41128.6328\n",
            "Epoch 249/300\n",
            "36/36 [==============================] - 3s 70ms/step - loss: 6532.6079 - val_loss: 41083.9023\n",
            "Epoch 250/300\n",
            "36/36 [==============================] - 3s 72ms/step - loss: 6443.7090 - val_loss: 41000.6797\n",
            "Epoch 251/300\n",
            "36/36 [==============================] - 3s 74ms/step - loss: 6644.3442 - val_loss: 40938.1406\n",
            "Epoch 252/300\n",
            "36/36 [==============================] - 3s 73ms/step - loss: 6489.5659 - val_loss: 40929.7383\n",
            "Epoch 253/300\n",
            "36/36 [==============================] - 3s 73ms/step - loss: 6495.5020 - val_loss: 40862.6289\n",
            "Epoch 254/300\n",
            "36/36 [==============================] - 3s 70ms/step - loss: 6497.2202 - val_loss: 40792.5039\n",
            "Epoch 255/300\n",
            "36/36 [==============================] - 3s 74ms/step - loss: 6472.7065 - val_loss: 40717.7656\n",
            "Epoch 256/300\n",
            "36/36 [==============================] - 3s 72ms/step - loss: 6466.4482 - val_loss: 40695.6406\n",
            "Epoch 257/300\n",
            "36/36 [==============================] - 3s 72ms/step - loss: 6545.1475 - val_loss: 40649.5977\n",
            "Epoch 258/300\n",
            "36/36 [==============================] - 3s 72ms/step - loss: 6634.9810 - val_loss: 40573.1523\n",
            "Epoch 259/300\n",
            "36/36 [==============================] - 3s 71ms/step - loss: 6449.1958 - val_loss: 40549.6719\n",
            "Epoch 260/300\n",
            "36/36 [==============================] - 3s 71ms/step - loss: 6506.7510 - val_loss: 40543.5859\n",
            "Epoch 261/300\n",
            "36/36 [==============================] - 3s 71ms/step - loss: 6436.3364 - val_loss: 40505.4766\n",
            "Epoch 262/300\n",
            "36/36 [==============================] - 3s 71ms/step - loss: 6589.6260 - val_loss: 40477.8438\n",
            "Epoch 263/300\n",
            "36/36 [==============================] - 3s 73ms/step - loss: 6511.0869 - val_loss: 40472.8633\n",
            "Epoch 264/300\n",
            "36/36 [==============================] - 3s 72ms/step - loss: 6420.7930 - val_loss: 40451.2305\n",
            "Epoch 265/300\n",
            "36/36 [==============================] - 3s 71ms/step - loss: 6603.2085 - val_loss: 40428.8711\n",
            "Epoch 266/300\n",
            "36/36 [==============================] - 3s 74ms/step - loss: 6347.6934 - val_loss: 40394.3711\n",
            "Epoch 267/300\n",
            "36/36 [==============================] - 3s 73ms/step - loss: 6371.6011 - val_loss: 40363.9023\n",
            "Epoch 268/300\n",
            "36/36 [==============================] - 3s 72ms/step - loss: 6403.4668 - val_loss: 40324.8281\n",
            "Epoch 269/300\n",
            "36/36 [==============================] - 3s 71ms/step - loss: 6233.0625 - val_loss: 40316.4492\n",
            "Epoch 270/300\n",
            "36/36 [==============================] - 3s 73ms/step - loss: 6542.4639 - val_loss: 40345.5352\n",
            "Epoch 271/300\n",
            "36/36 [==============================] - 3s 72ms/step - loss: 6430.1826 - val_loss: 40302.4688\n",
            "Epoch 272/300\n",
            "36/36 [==============================] - 3s 73ms/step - loss: 6476.5322 - val_loss: 40237.3438\n",
            "Epoch 273/300\n",
            "36/36 [==============================] - 3s 79ms/step - loss: 6476.5298 - val_loss: 40225.0234\n",
            "Epoch 274/300\n",
            "36/36 [==============================] - 3s 76ms/step - loss: 6595.3218 - val_loss: 40259.0039\n",
            "Epoch 275/300\n",
            "36/36 [==============================] - 3s 75ms/step - loss: 6685.1953 - val_loss: 40339.1445\n",
            "Epoch 276/300\n",
            "36/36 [==============================] - 3s 77ms/step - loss: 6468.2822 - val_loss: 40302.6523\n",
            "Epoch 277/300\n",
            "36/36 [==============================] - 3s 74ms/step - loss: 6496.0083 - val_loss: 40242.2773\n",
            "Epoch 278/300\n",
            "36/36 [==============================] - 3s 75ms/step - loss: 6349.5645 - val_loss: 40248.5547\n",
            "Epoch 279/300\n",
            "36/36 [==============================] - 3s 76ms/step - loss: 6353.3672 - val_loss: 40220.6328\n",
            "Epoch 280/300\n",
            "36/36 [==============================] - 3s 74ms/step - loss: 6376.7842 - val_loss: 40165.5664\n",
            "Epoch 281/300\n",
            "36/36 [==============================] - 3s 72ms/step - loss: 6415.8560 - val_loss: 40221.6523\n",
            "Epoch 282/300\n",
            "36/36 [==============================] - 3s 71ms/step - loss: 6392.9185 - val_loss: 40151.2461\n",
            "Epoch 283/300\n",
            "36/36 [==============================] - 3s 72ms/step - loss: 6676.0371 - val_loss: 40140.9141\n",
            "Epoch 284/300\n",
            "36/36 [==============================] - 3s 72ms/step - loss: 6545.3105 - val_loss: 40146.3516\n",
            "Epoch 285/300\n",
            "36/36 [==============================] - 3s 74ms/step - loss: 6560.1753 - val_loss: 40168.4336\n",
            "Epoch 286/300\n",
            "36/36 [==============================] - 3s 72ms/step - loss: 6436.2627 - val_loss: 40203.6367\n",
            "Epoch 287/300\n",
            "36/36 [==============================] - 3s 71ms/step - loss: 6434.9141 - val_loss: 40151.8438\n",
            "Epoch 288/300\n",
            "36/36 [==============================] - 3s 72ms/step - loss: 6427.0093 - val_loss: 40120.9492\n",
            "Epoch 289/300\n",
            "36/36 [==============================] - 3s 79ms/step - loss: 6608.3325 - val_loss: 40172.8789\n",
            "Epoch 290/300\n",
            "36/36 [==============================] - 3s 71ms/step - loss: 6659.8804 - val_loss: 40160.8789\n",
            "Epoch 291/300\n",
            "36/36 [==============================] - 3s 71ms/step - loss: 6487.3770 - val_loss: 40157.6484\n",
            "Epoch 292/300\n",
            "36/36 [==============================] - 3s 73ms/step - loss: 6683.7700 - val_loss: 40102.9023\n",
            "Epoch 293/300\n",
            "36/36 [==============================] - 3s 72ms/step - loss: 6427.1997 - val_loss: 40106.9766\n",
            "Epoch 294/300\n",
            "36/36 [==============================] - 3s 70ms/step - loss: 6453.4922 - val_loss: 40110.9414\n",
            "Epoch 295/300\n",
            "36/36 [==============================] - 3s 72ms/step - loss: 6563.7881 - val_loss: 40122.3672\n",
            "Epoch 296/300\n",
            "36/36 [==============================] - 3s 72ms/step - loss: 6491.0771 - val_loss: 40137.4023\n",
            "Epoch 297/300\n",
            "36/36 [==============================] - 3s 72ms/step - loss: 6398.0674 - val_loss: 40129.2305\n",
            "Epoch 298/300\n",
            "36/36 [==============================] - 3s 73ms/step - loss: 6462.8657 - val_loss: 40182.4531\n",
            "Epoch 299/300\n",
            "36/36 [==============================] - 2s 67ms/step - loss: 6420.6177 - val_loss: 40157.2969\n",
            "Epoch 300/300\n",
            "36/36 [==============================] - 2s 67ms/step - loss: 6282.8320 - val_loss: 40151.9883\n"
          ]
        },
        {
          "output_type": "execute_result",
          "data": {
            "text/plain": [
              "<keras.callbacks.History at 0x7f6c28916510>"
            ]
          },
          "metadata": {},
          "execution_count": 54
        }
      ]
    },
    {
      "cell_type": "code",
      "source": [
        "y_predict = regressor.predict(x_test)\n",
        "y_predict = y_predict.reshape(-1)\n",
        "y_test = np.array(y_test).reshape(-1)\n",
        "print(y_predict.shape, y_test.shape)\n",
        "df_result = pd.DataFrame({'actual':y_test, 'predicted':y_predict})\n",
        "df_result\n"
      ],
      "metadata": {
        "id": "IHqPPNceVMwE",
        "colab": {
          "base_uri": "https://localhost:8080/",
          "height": 474
        },
        "outputId": "f244e3c8-f8eb-4fcd-f95f-88e47d1dfa7c"
      },
      "execution_count": null,
      "outputs": [
        {
          "output_type": "stream",
          "name": "stdout",
          "text": [
            "(13,) (13,)\n"
          ]
        },
        {
          "output_type": "execute_result",
          "data": {
            "text/plain": [
              "        actual   predicted\n",
              "0   509.399994  302.491638\n",
              "1   513.950012  302.491638\n",
              "2   514.950012  302.491638\n",
              "3   516.099976  302.491638\n",
              "4   514.900024  302.491638\n",
              "5   512.849976  302.491638\n",
              "6   517.700012  302.491638\n",
              "7   509.500000  302.491638\n",
              "8   511.799988  302.491638\n",
              "9   509.299988  302.491638\n",
              "10  516.299988  302.491638\n",
              "11  500.600006  302.491638\n",
              "12  494.750000  302.491638"
            ],
            "text/html": [
              "\n",
              "  <div id=\"df-0d6aa78f-b25b-4eb2-b675-59b4e742e0cc\">\n",
              "    <div class=\"colab-df-container\">\n",
              "      <div>\n",
              "<style scoped>\n",
              "    .dataframe tbody tr th:only-of-type {\n",
              "        vertical-align: middle;\n",
              "    }\n",
              "\n",
              "    .dataframe tbody tr th {\n",
              "        vertical-align: top;\n",
              "    }\n",
              "\n",
              "    .dataframe thead th {\n",
              "        text-align: right;\n",
              "    }\n",
              "</style>\n",
              "<table border=\"1\" class=\"dataframe\">\n",
              "  <thead>\n",
              "    <tr style=\"text-align: right;\">\n",
              "      <th></th>\n",
              "      <th>actual</th>\n",
              "      <th>predicted</th>\n",
              "    </tr>\n",
              "  </thead>\n",
              "  <tbody>\n",
              "    <tr>\n",
              "      <th>0</th>\n",
              "      <td>509.399994</td>\n",
              "      <td>302.491638</td>\n",
              "    </tr>\n",
              "    <tr>\n",
              "      <th>1</th>\n",
              "      <td>513.950012</td>\n",
              "      <td>302.491638</td>\n",
              "    </tr>\n",
              "    <tr>\n",
              "      <th>2</th>\n",
              "      <td>514.950012</td>\n",
              "      <td>302.491638</td>\n",
              "    </tr>\n",
              "    <tr>\n",
              "      <th>3</th>\n",
              "      <td>516.099976</td>\n",
              "      <td>302.491638</td>\n",
              "    </tr>\n",
              "    <tr>\n",
              "      <th>4</th>\n",
              "      <td>514.900024</td>\n",
              "      <td>302.491638</td>\n",
              "    </tr>\n",
              "    <tr>\n",
              "      <th>5</th>\n",
              "      <td>512.849976</td>\n",
              "      <td>302.491638</td>\n",
              "    </tr>\n",
              "    <tr>\n",
              "      <th>6</th>\n",
              "      <td>517.700012</td>\n",
              "      <td>302.491638</td>\n",
              "    </tr>\n",
              "    <tr>\n",
              "      <th>7</th>\n",
              "      <td>509.500000</td>\n",
              "      <td>302.491638</td>\n",
              "    </tr>\n",
              "    <tr>\n",
              "      <th>8</th>\n",
              "      <td>511.799988</td>\n",
              "      <td>302.491638</td>\n",
              "    </tr>\n",
              "    <tr>\n",
              "      <th>9</th>\n",
              "      <td>509.299988</td>\n",
              "      <td>302.491638</td>\n",
              "    </tr>\n",
              "    <tr>\n",
              "      <th>10</th>\n",
              "      <td>516.299988</td>\n",
              "      <td>302.491638</td>\n",
              "    </tr>\n",
              "    <tr>\n",
              "      <th>11</th>\n",
              "      <td>500.600006</td>\n",
              "      <td>302.491638</td>\n",
              "    </tr>\n",
              "    <tr>\n",
              "      <th>12</th>\n",
              "      <td>494.750000</td>\n",
              "      <td>302.491638</td>\n",
              "    </tr>\n",
              "  </tbody>\n",
              "</table>\n",
              "</div>\n",
              "      <button class=\"colab-df-convert\" onclick=\"convertToInteractive('df-0d6aa78f-b25b-4eb2-b675-59b4e742e0cc')\"\n",
              "              title=\"Convert this dataframe to an interactive table.\"\n",
              "              style=\"display:none;\">\n",
              "        \n",
              "  <svg xmlns=\"http://www.w3.org/2000/svg\" height=\"24px\"viewBox=\"0 0 24 24\"\n",
              "       width=\"24px\">\n",
              "    <path d=\"M0 0h24v24H0V0z\" fill=\"none\"/>\n",
              "    <path d=\"M18.56 5.44l.94 2.06.94-2.06 2.06-.94-2.06-.94-.94-2.06-.94 2.06-2.06.94zm-11 1L8.5 8.5l.94-2.06 2.06-.94-2.06-.94L8.5 2.5l-.94 2.06-2.06.94zm10 10l.94 2.06.94-2.06 2.06-.94-2.06-.94-.94-2.06-.94 2.06-2.06.94z\"/><path d=\"M17.41 7.96l-1.37-1.37c-.4-.4-.92-.59-1.43-.59-.52 0-1.04.2-1.43.59L10.3 9.45l-7.72 7.72c-.78.78-.78 2.05 0 2.83L4 21.41c.39.39.9.59 1.41.59.51 0 1.02-.2 1.41-.59l7.78-7.78 2.81-2.81c.8-.78.8-2.07 0-2.86zM5.41 20L4 18.59l7.72-7.72 1.47 1.35L5.41 20z\"/>\n",
              "  </svg>\n",
              "      </button>\n",
              "      \n",
              "  <style>\n",
              "    .colab-df-container {\n",
              "      display:flex;\n",
              "      flex-wrap:wrap;\n",
              "      gap: 12px;\n",
              "    }\n",
              "\n",
              "    .colab-df-convert {\n",
              "      background-color: #E8F0FE;\n",
              "      border: none;\n",
              "      border-radius: 50%;\n",
              "      cursor: pointer;\n",
              "      display: none;\n",
              "      fill: #1967D2;\n",
              "      height: 32px;\n",
              "      padding: 0 0 0 0;\n",
              "      width: 32px;\n",
              "    }\n",
              "\n",
              "    .colab-df-convert:hover {\n",
              "      background-color: #E2EBFA;\n",
              "      box-shadow: 0px 1px 2px rgba(60, 64, 67, 0.3), 0px 1px 3px 1px rgba(60, 64, 67, 0.15);\n",
              "      fill: #174EA6;\n",
              "    }\n",
              "\n",
              "    [theme=dark] .colab-df-convert {\n",
              "      background-color: #3B4455;\n",
              "      fill: #D2E3FC;\n",
              "    }\n",
              "\n",
              "    [theme=dark] .colab-df-convert:hover {\n",
              "      background-color: #434B5C;\n",
              "      box-shadow: 0px 1px 3px 1px rgba(0, 0, 0, 0.15);\n",
              "      filter: drop-shadow(0px 1px 2px rgba(0, 0, 0, 0.3));\n",
              "      fill: #FFFFFF;\n",
              "    }\n",
              "  </style>\n",
              "\n",
              "      <script>\n",
              "        const buttonEl =\n",
              "          document.querySelector('#df-0d6aa78f-b25b-4eb2-b675-59b4e742e0cc button.colab-df-convert');\n",
              "        buttonEl.style.display =\n",
              "          google.colab.kernel.accessAllowed ? 'block' : 'none';\n",
              "\n",
              "        async function convertToInteractive(key) {\n",
              "          const element = document.querySelector('#df-0d6aa78f-b25b-4eb2-b675-59b4e742e0cc');\n",
              "          const dataTable =\n",
              "            await google.colab.kernel.invokeFunction('convertToInteractive',\n",
              "                                                     [key], {});\n",
              "          if (!dataTable) return;\n",
              "\n",
              "          const docLinkHtml = 'Like what you see? Visit the ' +\n",
              "            '<a target=\"_blank\" href=https://colab.research.google.com/notebooks/data_table.ipynb>data table notebook</a>'\n",
              "            + ' to learn more about interactive tables.';\n",
              "          element.innerHTML = '';\n",
              "          dataTable['output_type'] = 'display_data';\n",
              "          await google.colab.output.renderOutput(dataTable, element);\n",
              "          const docLink = document.createElement('div');\n",
              "          docLink.innerHTML = docLinkHtml;\n",
              "          element.appendChild(docLink);\n",
              "        }\n",
              "      </script>\n",
              "    </div>\n",
              "  </div>\n",
              "  "
            ]
          },
          "metadata": {},
          "execution_count": 55
        }
      ]
    },
    {
      "cell_type": "code",
      "source": [
        "df_result.plot()"
      ],
      "metadata": {
        "id": "8be9fqEPVucq",
        "colab": {
          "base_uri": "https://localhost:8080/",
          "height": 165
        },
        "outputId": "7db7033f-999d-4c0e-c7dd-d5564b1c2574"
      },
      "execution_count": null,
      "outputs": [
        {
          "output_type": "error",
          "ename": "NameError",
          "evalue": "ignored",
          "traceback": [
            "\u001b[0;31m---------------------------------------------------------------------------\u001b[0m",
            "\u001b[0;31mNameError\u001b[0m                                 Traceback (most recent call last)",
            "\u001b[0;32m<ipython-input-1-488b73eecba9>\u001b[0m in \u001b[0;36m<module>\u001b[0;34m()\u001b[0m\n\u001b[0;32m----> 1\u001b[0;31m \u001b[0mdf_result\u001b[0m\u001b[0;34m.\u001b[0m\u001b[0mplot\u001b[0m\u001b[0;34m(\u001b[0m\u001b[0;34m)\u001b[0m\u001b[0;34m\u001b[0m\u001b[0;34m\u001b[0m\u001b[0m\n\u001b[0m",
            "\u001b[0;31mNameError\u001b[0m: name 'df_result' is not defined"
          ]
        }
      ]
    },
    {
      "cell_type": "code",
      "source": [
        "import xgboost as xgb\n",
        "from xgboost import plot_importance, plot_tree\n",
        "from sklearn.metrics import mean_squared_error\n",
        "from sklearn.model_selection import RandomizedSearchCV, GridSearchCV\n",
        "from sklearn.metrics import roc_auc_score\n",
        "from sklearn.model_selection import StratifiedKFold\n",
        "\n",
        "reg = xgb.XGBRegressor()\n",
        "\n",
        "reg.fit(x_train_scaled, y_train,\n",
        "        eval_set=[(x_train_scaled, y_train)],\n",
        "        early_stopping_rounds=50,\n",
        "       verbose=False)\n",
        "\n",
        "# folds = 3\n",
        "# param_comb = 5\n",
        "# # A parameter grid for XGBoost\n",
        "# params = {\n",
        "#         'min_child_weight': [1, 5, 10],\n",
        "#         'gamma': [0.5, 1, 1.5, 2, 5],\n",
        "#         'subsample': [0.6, 0.8, 1.0],\n",
        "#         'colsample_bytree': [0.6, 0.8, 1.0],\n",
        "#         'max_depth': [3, 4, 5],\n",
        "#         'learning_rate':[0.02, 0.01, 0.001],\n",
        "#         'estimators': [500, 1000, 2000]        \n",
        "#         }\n",
        "\n",
        "# skf = StratifiedKFold(n_splits=folds, shuffle = True, random_state = 1001)\n",
        "\n",
        "# random_search = RandomizedSearchCV(reg, param_distributions=params, n_iter=param_comb, scoring='neg_root_mean_squared_error', n_jobs=4, cv=skf.split(x_train_scaled,y_train), verbose=3, random_state=1001 )\n",
        "# random_search.fit(x_train_scaled,y_train)"
      ],
      "metadata": {
        "id": "Rwzq3va8QV0q"
      },
      "execution_count": null,
      "outputs": []
    },
    {
      "cell_type": "code",
      "source": [
        "# print('\\n Best estimator:')\n",
        "# print(random_search.best_estimator_)\n",
        "# print('\\n Best normalized gini score for %d-fold search with %d parameter combinations:' % (folds, param_comb))\n",
        "# print(random_search.best_score_ * 2 - 1)\n",
        "# print('\\n Best hyperparameters:')\n",
        "# print(random_search.best_params_)"
      ],
      "metadata": {
        "id": "feCtbMPneHRB"
      },
      "execution_count": null,
      "outputs": []
    },
    {
      "cell_type": "code",
      "source": [
        "y_predict = reg.predict(x_test)\n",
        "y_predict = y_predict.reshape(-1)\n",
        "y_test = np.array(y_test).reshape(-1)\n",
        "print(y_predict.shape, y_test.shape)\n",
        "df_result = pd.DataFrame({'actual':y_test, 'predicted':y_predict})\n",
        "df_result"
      ],
      "metadata": {
        "id": "4hoS2qGCC8D4"
      },
      "execution_count": null,
      "outputs": []
    },
    {
      "cell_type": "code",
      "source": [
        "df_result.plot()"
      ],
      "metadata": {
        "id": "aownPiMfbpG1"
      },
      "execution_count": null,
      "outputs": []
    },
    {
      "cell_type": "code",
      "source": [
        "plt.figure(figsize=(14,5))\n",
        "plt.plot(y_test, color = 'red', label = 'Actual SBI Price')\n",
        "plt.plot(y_predict, color = 'green', label = 'Predicted SBI Price')\n",
        "plt.title('SBIN Price Prediction using RNN-LSTM')\n",
        "plt.xlabel('Time')\n",
        "plt.ylabel('Price')\n",
        "plt.legend()\n",
        "plt.show()"
      ],
      "metadata": {
        "id": "mZMgTTGcJRvZ"
      },
      "execution_count": null,
      "outputs": []
    },
    {
      "cell_type": "code",
      "source": [
        ""
      ],
      "metadata": {
        "colab": {
          "base_uri": "https://localhost:8080/",
          "height": 234
        },
        "id": "bkRbc62gJRyU",
        "outputId": "8396d146-569c-494c-b53a-4c2808d9dbd4"
      },
      "execution_count": null,
      "outputs": [
        {
          "output_type": "error",
          "ename": "NameError",
          "evalue": "ignored",
          "traceback": [
            "\u001b[0;31m---------------------------------------------------------------------------\u001b[0m",
            "\u001b[0;31mNameError\u001b[0m                                 Traceback (most recent call last)",
            "\u001b[0;32m<ipython-input-14-28c7941c2764>\u001b[0m in \u001b[0;36m<module>\u001b[0;34m()\u001b[0m\n\u001b[0;32m----> 1\u001b[0;31m \u001b[0mdataset_total\u001b[0m \u001b[0;34m=\u001b[0m \u001b[0mpd\u001b[0m\u001b[0;34m.\u001b[0m\u001b[0mconcat\u001b[0m\u001b[0;34m(\u001b[0m\u001b[0;34m(\u001b[0m\u001b[0mdataset_train\u001b[0m\u001b[0;34m[\u001b[0m\u001b[0;34m'Open'\u001b[0m\u001b[0;34m]\u001b[0m\u001b[0;34m,\u001b[0m \u001b[0mdataset_test\u001b[0m\u001b[0;34m[\u001b[0m\u001b[0;34m'Open'\u001b[0m\u001b[0;34m]\u001b[0m\u001b[0;34m)\u001b[0m\u001b[0;34m,\u001b[0m \u001b[0maxis\u001b[0m \u001b[0;34m=\u001b[0m \u001b[0;36m0\u001b[0m\u001b[0;34m)\u001b[0m\u001b[0;34m\u001b[0m\u001b[0;34m\u001b[0m\u001b[0m\n\u001b[0m\u001b[1;32m      2\u001b[0m \u001b[0minputs\u001b[0m \u001b[0;34m=\u001b[0m \u001b[0mdataset_total\u001b[0m\u001b[0;34m[\u001b[0m\u001b[0mlen\u001b[0m\u001b[0;34m(\u001b[0m\u001b[0mdataset_total\u001b[0m\u001b[0;34m)\u001b[0m \u001b[0;34m-\u001b[0m \u001b[0mlen\u001b[0m\u001b[0;34m(\u001b[0m\u001b[0mdataset_test\u001b[0m\u001b[0;34m)\u001b[0m \u001b[0;34m-\u001b[0m \u001b[0;36m60\u001b[0m\u001b[0;34m:\u001b[0m\u001b[0;34m]\u001b[0m\u001b[0;34m.\u001b[0m\u001b[0mvalues\u001b[0m\u001b[0;34m\u001b[0m\u001b[0;34m\u001b[0m\u001b[0m\n\u001b[1;32m      3\u001b[0m \u001b[0minputs\u001b[0m \u001b[0;34m=\u001b[0m \u001b[0minputs\u001b[0m\u001b[0;34m.\u001b[0m\u001b[0mreshape\u001b[0m\u001b[0;34m(\u001b[0m\u001b[0;34m-\u001b[0m\u001b[0;36m1\u001b[0m\u001b[0;34m,\u001b[0m\u001b[0;36m1\u001b[0m\u001b[0;34m)\u001b[0m\u001b[0;34m\u001b[0m\u001b[0;34m\u001b[0m\u001b[0m\n\u001b[1;32m      4\u001b[0m \u001b[0minputs\u001b[0m \u001b[0;34m=\u001b[0m \u001b[0msc\u001b[0m\u001b[0;34m.\u001b[0m\u001b[0mtransform\u001b[0m\u001b[0;34m(\u001b[0m\u001b[0minputs\u001b[0m\u001b[0;34m)\u001b[0m\u001b[0;34m\u001b[0m\u001b[0;34m\u001b[0m\u001b[0m\n\u001b[1;32m      5\u001b[0m \u001b[0mX_test\u001b[0m \u001b[0;34m=\u001b[0m \u001b[0;34m[\u001b[0m\u001b[0;34m]\u001b[0m\u001b[0;34m\u001b[0m\u001b[0;34m\u001b[0m\u001b[0m\n",
            "\u001b[0;31mNameError\u001b[0m: name 'dataset_train' is not defined"
          ]
        }
      ]
    },
    {
      "cell_type": "code",
      "source": [
        ""
      ],
      "metadata": {
        "id": "Oft11mNK9g-F"
      },
      "execution_count": null,
      "outputs": []
    },
    {
      "cell_type": "code",
      "source": [
        ""
      ],
      "metadata": {
        "id": "NxwRVzBu9hAx"
      },
      "execution_count": null,
      "outputs": []
    },
    {
      "cell_type": "code",
      "source": [
        ""
      ],
      "metadata": {
        "id": "CWUzz-gm9hDa"
      },
      "execution_count": null,
      "outputs": []
    },
    {
      "cell_type": "code",
      "source": [
        ""
      ],
      "metadata": {
        "id": "Qf56XNFO9hF0"
      },
      "execution_count": null,
      "outputs": []
    },
    {
      "cell_type": "code",
      "source": [
        ""
      ],
      "metadata": {
        "id": "eOHNKzDU9hIf"
      },
      "execution_count": null,
      "outputs": []
    },
    {
      "cell_type": "code",
      "source": [
        ""
      ],
      "metadata": {
        "id": "IICPTwG79hKz"
      },
      "execution_count": null,
      "outputs": []
    },
    {
      "cell_type": "code",
      "source": [
        ""
      ],
      "metadata": {
        "id": "PvLVuNy99hNj"
      },
      "execution_count": null,
      "outputs": []
    },
    {
      "cell_type": "code",
      "source": [
        ""
      ],
      "metadata": {
        "id": "JXqfypjR9hQG"
      },
      "execution_count": null,
      "outputs": []
    },
    {
      "cell_type": "code",
      "source": [
        ""
      ],
      "metadata": {
        "id": "UPw0iJpB9hSb"
      },
      "execution_count": null,
      "outputs": []
    },
    {
      "cell_type": "code",
      "source": [
        ""
      ],
      "metadata": {
        "id": "Af6o1XHL9hVT"
      },
      "execution_count": null,
      "outputs": []
    },
    {
      "cell_type": "code",
      "source": [
        "plt.plot (y_predict, y_test, 'bo')\n",
        "plt.xlabel('y_predict')\n",
        "plt.ylabel('y_test')\n",
        "plt.show()"
      ],
      "metadata": {
        "colab": {
          "base_uri": "https://localhost:8080/",
          "height": 280
        },
        "id": "m7MrqtxBMtzd",
        "outputId": "ecbe2504-c8ea-4f75-ac3a-bfe4322fac18"
      },
      "execution_count": null,
      "outputs": [
        {
          "output_type": "display_data",
          "data": {
            "text/plain": [
              "<Figure size 432x288 with 1 Axes>"
            ],
            "image/png": "[encoded data removed]"
          },
          "metadata": {
            "needs_background": "light"
          }
        }
      ]
    },
    {
      "cell_type": "code",
      "source": [
        "import tensorflow.compat.v2 as tf\n",
        "from tensorflow.keras.layers import Convolution1D, MaxPooling1D\n"
      ],
      "metadata": {
        "id": "w9egy4Y0N5Z6"
      },
      "execution_count": null,
      "outputs": []
    },
    {
      "cell_type": "code",
      "source": [
        "model = tf.keras.Sequential()\n",
        "model.add(Convolution1D(64, 3,padding='valid',input_shape= (100,4)))\n",
        "model.add(MaxPooling1D(pool_size=2))\n",
        "model.add(LSTM(100, return_sequences=True))\n",
        "model.add(Dropout(0.2))\n",
        "model.add(Convolution1D(32, 3,padding='valid'))\n",
        "model.add(MaxPooling1D(pool_size=2))\n",
        "model.add(tf.keras.layers.Flatten())\n",
        "model.add(Dense(1, activation='softmax'))\n",
        "model.summary()\n"
      ],
      "metadata": {
        "colab": {
          "base_uri": "https://localhost:8080/"
        },
        "id": "_yrD8pU2N5ci",
        "outputId": "82d9d7df-9675-4cda-ce8b-81314501213d"
      },
      "execution_count": null,
      "outputs": [
        {
          "output_type": "stream",
          "name": "stdout",
          "text": [
            "Model: \"sequential_18\"\n",
            "_________________________________________________________________\n",
            " Layer (type)                Output Shape              Param #   \n",
            "=================================================================\n",
            " conv1d_22 (Conv1D)          (None, 98, 64)            832       \n",
            "                                                                 \n",
            " max_pooling1d_18 (MaxPoolin  (None, 49, 64)           0         \n",
            " g1D)                                                            \n",
            "                                                                 \n",
            " lstm_14 (LSTM)              (None, 49, 100)           66000     \n",
            "                                                                 \n",
            " dropout_14 (Dropout)        (None, 49, 100)           0         \n",
            "                                                                 \n",
            " conv1d_23 (Conv1D)          (None, 47, 32)            9632      \n",
            "                                                                 \n",
            " max_pooling1d_19 (MaxPoolin  (None, 23, 32)           0         \n",
            " g1D)                                                            \n",
            "                                                                 \n",
            " flatten_3 (Flatten)         (None, 736)               0         \n",
            "                                                                 \n",
            " dense_3 (Dense)             (None, 1)                 737       \n",
            "                                                                 \n",
            "=================================================================\n",
            "Total params: 77,201\n",
            "Trainable params: 77,201\n",
            "Non-trainable params: 0\n",
            "_________________________________________________________________\n"
          ]
        }
      ]
    },
    {
      "cell_type": "code",
      "source": [
        "model.compile(loss='mse', optimizer='rmsprop', metrics=['accuracy'])"
      ],
      "metadata": {
        "id": "VR8I89iwN5fv"
      },
      "execution_count": null,
      "outputs": []
    },
    {
      "cell_type": "code",
      "source": [
        "model.fit(x_train, y_train, batch_size=32, nb_epoch=150, validation_data = (X_test, y_test), verbose=2)"
      ],
      "metadata": {
        "colab": {
          "base_uri": "https://localhost:8080/",
          "height": 165
        },
        "id": "59c2WkeyNXrw",
        "outputId": "30caf431-3e57-4f62-8809-4294b6b84478"
      },
      "execution_count": null,
      "outputs": [
        {
          "output_type": "error",
          "ename": "NameError",
          "evalue": "ignored",
          "traceback": [
            "\u001b[0;31m---------------------------------------------------------------------------\u001b[0m",
            "\u001b[0;31mNameError\u001b[0m                                 Traceback (most recent call last)",
            "\u001b[0;32m<ipython-input-55-d1c85ef51013>\u001b[0m in \u001b[0;36m<module>\u001b[0;34m()\u001b[0m\n\u001b[0;32m----> 1\u001b[0;31m \u001b[0mmodel\u001b[0m\u001b[0;34m.\u001b[0m\u001b[0mfit\u001b[0m\u001b[0;34m(\u001b[0m\u001b[0mx_train\u001b[0m\u001b[0;34m,\u001b[0m \u001b[0my_train\u001b[0m\u001b[0;34m,\u001b[0m \u001b[0mbatch_size\u001b[0m\u001b[0;34m=\u001b[0m\u001b[0;36m32\u001b[0m\u001b[0;34m,\u001b[0m \u001b[0mnb_epoch\u001b[0m\u001b[0;34m=\u001b[0m\u001b[0;36m150\u001b[0m\u001b[0;34m,\u001b[0m \u001b[0mvalidation_data\u001b[0m \u001b[0;34m=\u001b[0m \u001b[0;34m(\u001b[0m\u001b[0mX_test\u001b[0m\u001b[0;34m,\u001b[0m \u001b[0my_test\u001b[0m\u001b[0;34m)\u001b[0m\u001b[0;34m,\u001b[0m \u001b[0mverbose\u001b[0m\u001b[0;34m=\u001b[0m\u001b[0;36m2\u001b[0m\u001b[0;34m)\u001b[0m\u001b[0;34m\u001b[0m\u001b[0;34m\u001b[0m\u001b[0m\n\u001b[0m",
            "\u001b[0;31mNameError\u001b[0m: name 'X_test' is not defined"
          ]
        }
      ]
    }
  ]
}